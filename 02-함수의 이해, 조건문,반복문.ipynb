{
 "cells": [
  {
   "cell_type": "markdown",
   "id": "43854674",
   "metadata": {},
   "source": [
    "## 함수의 이해"
   ]
  },
  {
   "cell_type": "code",
   "execution_count": null,
   "id": "605925c9",
   "metadata": {},
   "outputs": [
    {
     "name": "stdout",
     "output_type": "stream",
     "text": [
      "<class 'int'>\n"
     ]
    }
   ],
   "source": [
    "#정수형 변수의 데이터 타입 확인\n",
    "age=20\n",
    "typeOfAge=type(age) \n",
    "print(typeOfAge) # <class 'int'>"
   ]
  },
  {
   "cell_type": "code",
   "execution_count": null,
   "id": "38e7a5fd",
   "metadata": {},
   "outputs": [
    {
     "name": "stdout",
     "output_type": "stream",
     "text": [
      "<class 'float'>\n"
     ]
    }
   ],
   "source": [
    "#실수형 변수의 데이터 타입 확인\n",
    "pi=3.14\n",
    "typeOfPi=type(pi)\n",
    "print(typeOfPi) #<class 'float'>"
   ]
  },
  {
   "cell_type": "code",
   "execution_count": null,
   "id": "49b6d7c0",
   "metadata": {},
   "outputs": [
    {
     "name": "stdout",
     "output_type": "stream",
     "text": [
      "<class 'str'>\n"
     ]
    }
   ],
   "source": [
    "#문자열 변수의 데이터 타입 확인\n",
    "message=\"Hello Python\"\n",
    "typeOfMessage=type(message)\n",
    "print(typeOfMessage) #<class 'str'>"
   ]
  },
  {
   "cell_type": "code",
   "execution_count": null,
   "id": "d068283f",
   "metadata": {},
   "outputs": [
    {
     "name": "stdout",
     "output_type": "stream",
     "text": [
      "<class 'bool'>\n"
     ]
    }
   ],
   "source": [
    "#논리형 변수의 데이터 타입 확인\n",
    "ok=True\n",
    "typeOfOk=type(ok)\n",
    "print(typeOfOk) #<class 'bool'>"
   ]
  },
  {
   "cell_type": "code",
   "execution_count": 1,
   "id": "78b84663",
   "metadata": {},
   "outputs": [
    {
     "name": "stdout",
     "output_type": "stream",
     "text": [
      "Life is 100 and 3.14 and True\n"
     ]
    }
   ],
   "source": [
    "#print 함수에 여러 개의 파라미터를 설정\n",
    "a=100\n",
    "b=3.14\n",
    "c= True\n",
    "print(\"Life is\", a, \"and\", b, \"and\", c) #Life is 100 and 3.14 and True"
   ]
  },
  {
   "cell_type": "code",
   "execution_count": 3,
   "id": "9fbcea81",
   "metadata": {},
   "outputs": [
    {
     "name": "stdout",
     "output_type": "stream",
     "text": [
      "입력된 메시지: 20\n",
      "<class 'str'>\n"
     ]
    }
   ],
   "source": [
    "# 문자열 입력받기\n",
    "msg1 = input(\"메시지를 입력하세요: \")\n",
    "print(\"입력된 메시지:\", msg1)\n",
    "\n",
    "#입력받은 내용의 데이터 타입 확인 --> 문자열(str)로 언제나 인식\n",
    "t=type(msg1)\n",
    "print(t) #<class 'str'>"
   ]
  },
  {
   "cell_type": "code",
   "execution_count": null,
   "id": "6f2daa63",
   "metadata": {},
   "outputs": [
    {
     "name": "stdout",
     "output_type": "stream",
     "text": [
      "a + b = 1020\n",
      "a + b = 30\n",
      "a + b = 30.0\n"
     ]
    }
   ],
   "source": [
    "# input() 함수를 통해 입력받은 값은 항상 문자열(str) 타입\n",
    "a=input(\"첫 번째 숫자를 입력하세요: \") #예: 10\n",
    "b=input(\"두 번째 숫자를 입력하세요: \") #예: 20\n",
    "print(\"a + b =\", a + b) #a + b = 1020\n",
    "\n",
    "# 숫자형으로 변환하여 덧셈 수행\n",
    "a=int(a)\n",
    "b=int(b)\n",
    "print(\"a + b =\", a + b) #a + b = 30\n",
    "\n",
    "#실수형으로 변환하여 덧셈 수행 \n",
    "a=float(a)\n",
    "b=float(b)\n",
    "print(\"a + b =\", a + b) #a + b = 30.0"
   ]
  },
  {
   "cell_type": "code",
   "execution_count": null,
   "id": "833d7cca",
   "metadata": {},
   "outputs": [
    {
     "name": "stdout",
     "output_type": "stream",
     "text": [
      "입력된 숫자: 50\n",
      "<class 'int'>\n"
     ]
    }
   ],
   "source": [
    "#함수가 중첩되어 있는 경우 안쪽 함수부터 먼저 실행\n",
    "x= int( input(\"숫자를 입력하세요: \") )\n",
    "print(\"입력된 숫자:\", x) #입력된 숫자: 50\n",
    "\n",
    "t=type(x)\n",
    "print(t) #<class 'int'>"
   ]
  },
  {
   "cell_type": "code",
   "execution_count": 9,
   "id": "318bd34e",
   "metadata": {},
   "outputs": [
    {
     "name": "stdout",
     "output_type": "stream",
     "text": [
      "입력된 숫자: 50\n",
      "입력된 숫자: 50.0\n"
     ]
    }
   ],
   "source": [
    "#정수를 실수로 변환하면 소수점 이하가 .0으로 표시됨\n",
    "x= int( input(\"숫자를 입력하세요: \") )\n",
    "print(\"입력된 숫자:\", x) #입력된 숫자: 50\n",
    "x= float(x)\n",
    "print(\"입력된 숫자:\", x) #입력된 숫자: 50.0"
   ]
  },
  {
   "cell_type": "code",
   "execution_count": 10,
   "id": "bd15411c",
   "metadata": {},
   "outputs": [
    {
     "name": "stdout",
     "output_type": "stream",
     "text": [
      "입력된 숫자: 50.78\n",
      "입력된 숫자: 50\n"
     ]
    }
   ],
   "source": [
    "#실수를 정수로 변환하면 소수점 이하가 버려짐\n",
    "x= float( input(\"숫자를 입력하세요: \") )\n",
    "print(\"입력된 숫자:\", x) #입력된 숫자: 50.78\n",
    "x= int(x)\n",
    "print(\"입력된 숫자:\", x) #입력된 숫자: 50"
   ]
  },
  {
   "cell_type": "code",
   "execution_count": 11,
   "id": "c839b6bf",
   "metadata": {},
   "outputs": [
    {
     "name": "stdout",
     "output_type": "stream",
     "text": [
      "<class 'int'> <class 'str'>\n"
     ]
    }
   ],
   "source": [
    "#str() 함수 : 모든 데이터 타입을 문자열로 변환\n",
    "num1=100\n",
    "s1=str(num1)\n",
    "print(type(num1), type(s1)) #<class 'int'> <class 'str'>"
   ]
  },
  {
   "cell_type": "code",
   "execution_count": 12,
   "id": "c1ee5e37",
   "metadata": {},
   "outputs": [
    {
     "name": "stdout",
     "output_type": "stream",
     "text": [
      "8\n"
     ]
    }
   ],
   "source": [
    "# 간단한 연산기능 함수 \n",
    "# pow(x, y) : x의 y 제곱을 계산 , ** 연산자와 동일\n",
    "a=pow(2,3)\n",
    "print(a) #8"
   ]
  },
  {
   "cell_type": "code",
   "execution_count": 13,
   "id": "f88acb19",
   "metadata": {},
   "outputs": [
    {
     "name": "stdout",
     "output_type": "stream",
     "text": [
      "100\n",
      "100\n",
      "3.14\n"
     ]
    }
   ],
   "source": [
    "# 절대값 구하기 abs()\n",
    "a=abs(100)\n",
    "print(a) #100\n",
    "b=abs(-100)\n",
    "print(b) #100\n",
    "c=abs(-3.14)\n",
    "print(c) #3.14"
   ]
  },
  {
   "cell_type": "code",
   "execution_count": 14,
   "id": "7ec8b7a6",
   "metadata": {},
   "outputs": [
    {
     "name": "stdout",
     "output_type": "stream",
     "text": [
      "3.14\n",
      "3\n"
     ]
    }
   ],
   "source": [
    "#소수점 이하 반올림 round()\n",
    "a=round(3.14159, 2) #소수점 둘째 자리까지 반올림\n",
    "print(a) #3.14\n",
    "b=round(3.14159) #소수점 첫째 자리에서 반올림\n",
    "print(b) #3"
   ]
  },
  {
   "cell_type": "markdown",
   "id": "f996a3f0",
   "metadata": {},
   "source": [
    "## 함수 정의하기"
   ]
  },
  {
   "cell_type": "code",
   "execution_count": null,
   "id": "548f4ca3",
   "metadata": {},
   "outputs": [
    {
     "name": "stdout",
     "output_type": "stream",
     "text": [
      "3\n",
      "6\n"
     ]
    },
    {
     "ename": "TypeError",
     "evalue": "f() missing 1 required positional argument: 'x'",
     "output_type": "error",
     "traceback": [
      "\u001b[31m---------------------------------------------------------------------------\u001b[39m",
      "\u001b[31mTypeError\u001b[39m                                 Traceback (most recent call last)",
      "\u001b[36mCell\u001b[39m\u001b[36m \u001b[39m\u001b[32mIn[17]\u001b[39m\u001b[32m, line 7\u001b[39m\n\u001b[32m      5\u001b[39m f(\u001b[32m2\u001b[39m) \u001b[38;5;66;03m#3\u001b[39;00m\n\u001b[32m      6\u001b[39m f(\u001b[32m5\u001b[39m) \u001b[38;5;66;03m#6\u001b[39;00m\n\u001b[32m----> \u001b[39m\u001b[32m7\u001b[39m \u001b[43mf\u001b[49m\u001b[43m(\u001b[49m\u001b[43m)\u001b[49m \u001b[38;5;66;03m#TypeError: f() missing 1 required positional argument: 'x'\u001b[39;00m\n",
      "\u001b[31mTypeError\u001b[39m: f() missing 1 required positional argument: 'x'"
     ]
    }
   ],
   "source": [
    "#함수 실행 \n",
    "def f(x):\n",
    "    y=x+1\n",
    "    print(y)\n",
    "f(2) #3\n",
    "f(5) #6\n",
    "f()  #TypeError: f() missing 1 required positional argument: 'x'\n",
    "     # --> 함수에 파라미터(x)가 지정되어 있는데, 값을 전달하지 않아서 발생하는 오류"
   ]
  },
  {
   "cell_type": "code",
   "execution_count": 18,
   "id": "01892025",
   "metadata": {},
   "outputs": [
    {
     "name": "stdout",
     "output_type": "stream",
     "text": [
      "5\n",
      "30\n"
     ]
    }
   ],
   "source": [
    "#다중 파라미터\n",
    "def hello(x,y):\n",
    "    z=x+y\n",
    "    print(z)\n",
    "hello(2,3) #5\n",
    "hello(10,20) #30"
   ]
  },
  {
   "cell_type": "code",
   "execution_count": 21,
   "id": "65f5e14b",
   "metadata": {},
   "outputs": [
    {
     "name": "stdout",
     "output_type": "stream",
     "text": [
      "3\n",
      "6\n"
     ]
    }
   ],
   "source": [
    "# 기본값을 갖는 파라미터\n",
    "def sum1(x,y,z=0): #z의 기본값을 0으로 지정\n",
    "    result=x+y+z\n",
    "    print(result)\n",
    "sum1(1,2) #3 (생략된 파라미터z는 기본값인 0이 적용됨)\n",
    "sum1(1,2,3) #6 (z에 3이 전달됨)"
   ]
  },
  {
   "cell_type": "code",
   "execution_count": 22,
   "id": "d06456c3",
   "metadata": {},
   "outputs": [
    {
     "name": "stdout",
     "output_type": "stream",
     "text": [
      "3\n",
      "6\n",
      "7\n",
      "7\n"
     ]
    }
   ],
   "source": [
    "#파라미터의 이름 지정하기--> 이름 지정하는경우,전달 순서 상관없음\n",
    "def sum2(a,b,c=0,d=0):\n",
    "    answer=a+b+c+d\n",
    "    print(answer)\n",
    "sum2(1,2) #3\n",
    "sum2(1,2,3) #6\n",
    "sum2(1,2,d=4) #7\n",
    "sum2(d=4,a=1,b=2) #7 -> 순서 상관없음"
   ]
  },
  {
   "cell_type": "code",
   "execution_count": 23,
   "id": "febcf045",
   "metadata": {},
   "outputs": [
    {
     "name": "stdout",
     "output_type": "stream",
     "text": [
      "5\n",
      "12\n",
      "130\n"
     ]
    }
   ],
   "source": [
    "#값을 리턴하는 함수\n",
    "def plus(x,y):\n",
    "    z = x+y\n",
    "    return z # 자신이 호출된 위치로 z의 값을 돌려줌\n",
    "a=plus(2,3) #리턴 값을 a에 저장\n",
    "print(a) #5\n",
    "print(plus(5,7)) #12 , 리턴 값을 바로 출력\n",
    "b=plus(10,20)+100 #b=130, 그 결과를 다른 연산에 활용\n",
    "print(b) #130"
   ]
  },
  {
   "cell_type": "code",
   "execution_count": 25,
   "id": "525d2a90",
   "metadata": {},
   "outputs": [
    {
     "name": "stdout",
     "output_type": "stream",
     "text": [
      "0\n"
     ]
    }
   ],
   "source": [
    "#return 문을 중간에 만나는 경우 그 즉시 수행 종료\n",
    "#return 이후의 코드는 실행되지 않음, 코드가 무의미하다는 의미로 흐릿하게 표시됨\n",
    "def foo(x,y):\n",
    "    return 0\n",
    "    z=x+y\n",
    "    return z\n",
    "# z값을 계산하기 전에 0을 리턴하므로 결과값이 항상 0이 됨\n",
    "print(foo(3,4)) #0"
   ]
  },
  {
   "cell_type": "code",
   "execution_count": 27,
   "id": "6d94267e",
   "metadata": {},
   "outputs": [
    {
     "name": "stdout",
     "output_type": "stream",
     "text": [
      "300\n"
     ]
    },
    {
     "ename": "NameError",
     "evalue": "name 'k' is not defined",
     "output_type": "error",
     "traceback": [
      "\u001b[31m---------------------------------------------------------------------------\u001b[39m",
      "\u001b[31mNameError\u001b[39m                                 Traceback (most recent call last)",
      "\u001b[36mCell\u001b[39m\u001b[36m \u001b[39m\u001b[32mIn[27]\u001b[39m\u001b[32m, line 8\u001b[39m\n\u001b[32m      6\u001b[39m     \u001b[38;5;28mprint\u001b[39m(k)\n\u001b[32m      7\u001b[39m foo() \u001b[38;5;66;03m#300\u001b[39;00m\n\u001b[32m----> \u001b[39m\u001b[32m8\u001b[39m \u001b[38;5;28mprint\u001b[39m(\u001b[43mk\u001b[49m) \u001b[38;5;66;03m#NameError: name 'k' is not defined, k는 함수 밖에서 인식 불가\u001b[39;00m\n",
      "\u001b[31mNameError\u001b[39m: name 'k' is not defined"
     ]
    }
   ],
   "source": [
    "#함수 밖의 변수는 함수 내부에서 식별가능, 함수 내부의 변수는 함수 밖에서 식별 불가능\n",
    "a=100 #함수 밖의 변수\n",
    "b=200 #함수 밖의 변수\n",
    "def foo():\n",
    "    k=a+b #함수 밖의 변수 a,b를 함수 내부에서 사용, k는 함수 내부의 변수\n",
    "    print(k)\n",
    "foo() #300\n",
    "print(k) #NameError: name 'k' is not defined, k는 함수 밖에서 인식 불가"
   ]
  },
  {
   "cell_type": "markdown",
   "id": "35195076",
   "metadata": {},
   "source": [
    "## 조건문\n",
    "\n",
    "### Python은 순서대로 조건을 판별하면서 가장 처음에 만나는 참인 조건에 대한 블록을 실행하고 나머지는 실행하지 않음 "
   ]
  },
  {
   "cell_type": "code",
   "execution_count": null,
   "id": "afecde99",
   "metadata": {},
   "outputs": [
    {
     "ename": "IndentationError",
     "evalue": "unindent does not match any outer indentation level (<string>, line 5)",
     "output_type": "error",
     "traceback": [
      "  \u001b[36mFile \u001b[39m\u001b[32m<string>:5\u001b[39m\n\u001b[31m    \u001b[39m\u001b[31mprint(\"참이면 수행되는 문장입니다.\") #IndentationError: unindent does not match any outer indentation level\u001b[39m\n                                                                                                   ^\n\u001b[31mIndentationError\u001b[39m\u001b[31m:\u001b[39m unindent does not match any outer indentation level\n"
     ]
    }
   ],
   "source": [
    "# if문 사용시 들여쓰기 중요\n",
    "#if문에 속한 실행문에 스페이스를 사용한 공백과 탭 문자를 혼용하면 오류 발생\n",
    "a=100\n",
    "if a >= 50:\n",
    "    print(\"a는 50보다 크거나 같다.\")\n",
    "  print(\"참이면 수행되는 문장입니다.\") #IndentationError: unindent does not match any outer indentation level\n",
    "# --> 들여쓰기(Indentation)를 맞춰야 함"
   ]
  },
  {
   "cell_type": "code",
   "execution_count": null,
   "id": "4cd88b50",
   "metadata": {},
   "outputs": [
    {
     "name": "stdout",
     "output_type": "stream",
     "text": [
      "금액이 존재합니다.\n",
      "금액이 존재하지 않습니다.\n"
     ]
    }
   ],
   "source": [
    "# 숫자형 변수에 대한 조건 처리 0이 아닌 값은 True로 인식\n",
    "money=1000\n",
    "if money:\n",
    "    print(\"금액이 존재합니다.\") # 출력\n",
    "else:\n",
    "    print(\"금액이 존재하지 않습니다.\")\n",
    "\n",
    "# money가 0이면 False\n",
    "money=0\n",
    "if money:\n",
    "    print(\"금액이 존재합니다.\")\n",
    "else:\n",
    "    print(\"금액이 존재하지 않습니다.\")  # 출력"
   ]
  },
  {
   "cell_type": "code",
   "execution_count": 35,
   "id": "a20a22c9",
   "metadata": {},
   "outputs": [
    {
     "name": "stdout",
     "output_type": "stream",
     "text": [
      "메시지가 존재합니다.\n",
      "메시지가 존재하지 않습니다.\n"
     ]
    }
   ],
   "source": [
    "#문자열 변수에 대한 조건 처리 빈 문자열은 False로 인식, 내용이 있으면 True로 인식\n",
    "message=\"Python\"\n",
    "if message:\n",
    "    print(\"메시지가 존재합니다.\") # 출력\n",
    "else:\n",
    "    print(\"메시지가 존재하지 않습니다.\")\n",
    "\n",
    "message=\"\"\n",
    "if message:\n",
    "    print(\"메시지가 존재합니다.\")\n",
    "else:\n",
    "    print(\"메시지가 존재하지 않습니다.\") # 출력"
   ]
  },
  {
   "cell_type": "code",
   "execution_count": 37,
   "id": "935f3a97",
   "metadata": {},
   "outputs": [
    {
     "name": "stdout",
     "output_type": "stream",
     "text": [
      "19살입니다.\n",
      "20살이 아닙니다.\n",
      "19살 이하입니다.\n",
      "19살입니다.\n"
     ]
    }
   ],
   "source": [
    "#비교식을 사용한 조건 처리 \n",
    "# 여기서 if로 되어있는 부분을 elif로 바꾸면, 첫번째문만 실행됨 \n",
    "age=19\n",
    "if age==19:\n",
    "    print(\"19살입니다.\") # 출력\n",
    "if age !=20:\n",
    "    print(\"20살이 아닙니다.\") # 출력\n",
    "if age>19:\n",
    "    print(\"19살 초과입니다.\") # 출력되지 않음\n",
    "if age<=19:\n",
    "    print(\"19살 이하입니다.\") # 출력\n",
    "\n",
    "# elif문 사용했을때 첫번째 조건만 실행됨\n",
    "age=19\n",
    "if age==19:\n",
    "    print(\"19살입니다.\") # 출력\n",
    "elif age !=20:\n",
    "    print(\"20살이 아닙니다.\") # 출력되지 않음\n",
    "elif age>19:\n",
    "    print(\"19살 초과입니다.\") # 출력되지 않음\n",
    "elif age<=19:\n",
    "    print(\"19살 이하입니다.\") # 출력되지 않음\n"
   ]
  },
  {
   "cell_type": "code",
   "execution_count": null,
   "id": "381cee83",
   "metadata": {},
   "outputs": [
    {
     "name": "stdout",
     "output_type": "stream",
     "text": [
      "C학점입니다.\n",
      "C학점입니다.\n"
     ]
    }
   ],
   "source": [
    "#논리식을 사용한 조건 처리\n",
    "point=76\n",
    "#and ==> 전체가 참이여야 결과가 참\n",
    "if point >70 and point <=80:\n",
    "    print(\"C학점입니다.\") \n",
    "\n",
    "#or ==> 하나라도 참이면 결과가 참\n",
    "if point >=70 or point >80:\n",
    "    print(\"C학점입니다.\")  "
   ]
  },
  {
   "cell_type": "markdown",
   "id": "cf506fd4",
   "metadata": {},
   "source": [
    "## 반복문"
   ]
  },
  {
   "cell_type": "code",
   "execution_count": 42,
   "id": "8875b0f3",
   "metadata": {},
   "outputs": [
    {
     "name": "stdout",
     "output_type": "stream",
     "text": [
      "1\n",
      "2\n",
      "3\n",
      "4\n",
      "5\n",
      "반복문 종료 6\n"
     ]
    }
   ],
   "source": [
    "# while문 \n",
    "x=1 #초기값\n",
    "while x <=5: #조건식\n",
    "    print(x) #반복 수행문\n",
    "    x=x+1 #증감식 ,5까지 출력후 x=6\n",
    "print(\"반복문 종료\", x) #반복문 종료 6"
   ]
  },
  {
   "cell_type": "code",
   "execution_count": 43,
   "id": "4cee7602",
   "metadata": {},
   "outputs": [
    {
     "name": "stdout",
     "output_type": "stream",
     "text": [
      "8 * 1 = 8\n",
      "8 * 2 = 16\n",
      "8 * 3 = 24\n",
      "8 * 4 = 32\n",
      "8 * 5 = 40\n",
      "8 * 6 = 48\n",
      "8 * 7 = 56\n",
      "8 * 8 = 64\n",
      "8 * 9 = 72\n"
     ]
    }
   ],
   "source": [
    "#구구단 출력\n",
    "x=int(input(\"숫자를 입력하세요: \"))\n",
    "y=1\n",
    "while y <10:\n",
    "    z=x*y\n",
    "    print(x, \"*\", y, \"=\", z)\n",
    "    y+=1"
   ]
  },
  {
   "cell_type": "code",
   "execution_count": null,
   "id": "6b0c35eb",
   "metadata": {},
   "outputs": [
    {
     "name": "stdout",
     "output_type": "stream",
     "text": [
      "1~10까지의 합: 55\n"
     ]
    }
   ],
   "source": [
    "# 합계구하기 , 합산 결과를 저장할 변수를 0으로 초기화 해야함!\n",
    "x=1\n",
    "sum=0 # 합계를 저장할 변수, 초기화\n",
    "while x <=10:\n",
    "    sum+=x\n",
    "    x+=1\n",
    "print(\"1~10까지의 합:\", sum) #1~10까지의 합: 55,  들여쓰기 안하면 while문안에 포함되지 않음"
   ]
  },
  {
   "cell_type": "code",
   "execution_count": 46,
   "id": "80a81109",
   "metadata": {},
   "outputs": [
    {
     "name": "stdout",
     "output_type": "stream",
     "text": [
      "x= 1\n",
      "x= 2\n",
      "x= 3\n",
      "x= 4\n",
      "x= 5\n",
      "x= 6\n",
      "x= 7\n",
      "x= 8\n",
      "x= 9\n",
      "x= 10\n",
      "반복문 종료 10\n"
     ]
    }
   ],
   "source": [
    "# For문\n",
    "# range() 함수 : 숫자 범위를 생성\n",
    "# range(시작값, 종료값, 증감값) 시작값을 생략하면 0, 증감값을 생략하면 1이 기본값\n",
    "# 종료값은 지정된 값 바로 전까지 생성\n",
    "\n",
    "# x가 1부터 11전까지 1씩 증가하면서 반복\n",
    "for x in range(1,11):\n",
    "    print(\"x=\",x) #1~10까지 출력\n",
    "print(\"반복문 종료\", x) #반복문 종료 10\n",
    "\n",
    "# --> while문은 반복문 종료시 +1 된 값이 출력됨, for문은 마지막 값이 출력됨"
   ]
  },
  {
   "cell_type": "code",
   "execution_count": 47,
   "id": "4fb949bc",
   "metadata": {},
   "outputs": [
    {
     "name": "stdout",
     "output_type": "stream",
     "text": [
      "8 * 1 = 8\n",
      "8 * 2 = 16\n",
      "8 * 3 = 24\n",
      "8 * 4 = 32\n",
      "8 * 5 = 40\n",
      "8 * 6 = 48\n",
      "8 * 7 = 56\n",
      "8 * 8 = 64\n",
      "8 * 9 = 72\n"
     ]
    }
   ],
   "source": [
    "# for문을 사용한 구구단 출력\n",
    "x=int(input(\"숫자를 입력하세요: \"))\n",
    "for y in range(1,10):\n",
    "    z=x*y\n",
    "    print(x, \"*\", y, \"=\", z)"
   ]
  },
  {
   "cell_type": "code",
   "execution_count": 48,
   "id": "26b78b50",
   "metadata": {},
   "outputs": [
    {
     "name": "stdout",
     "output_type": "stream",
     "text": [
      "1~10까지의 합: 55\n"
     ]
    }
   ],
   "source": [
    "# 합계 구하기, 합산 결과를 저장할 변수를 0으로 초기화 해야함!\n",
    "sum=0 # 합계를 저장할 변수, 초기화\n",
    "for x in range(1,11):\n",
    "    sum+=x\n",
    "print(\"1~10까지의 합:\", sum) #1~10까지의 합: 55"
   ]
  }
 ],
 "metadata": {
  "kernelspec": {
   "display_name": "Python 3",
   "language": "python",
   "name": "python3"
  },
  "language_info": {
   "codemirror_mode": {
    "name": "ipython",
    "version": 3
   },
   "file_extension": ".py",
   "mimetype": "text/x-python",
   "name": "python",
   "nbconvert_exporter": "python",
   "pygments_lexer": "ipython3",
   "version": "3.13.6"
  }
 },
 "nbformat": 4,
 "nbformat_minor": 5
}
