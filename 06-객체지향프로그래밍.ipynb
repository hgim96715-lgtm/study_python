{
 "cells": [
  {
   "cell_type": "markdown",
   "id": "65446d0d",
   "metadata": {},
   "source": [
    "## 객체지향 프로그래밍의 이해\n"
   ]
  },
  {
   "cell_type": "code",
   "execution_count": 4,
   "id": "e942a302",
   "metadata": {},
   "outputs": [],
   "source": [
    "# 클래스 정의 \n",
    "# 멤버 변수는 값을 직접 초기화하거나, 일단 None으로 초기화\n",
    "class Dragon:\n",
    "    speed=None\n",
    "    hp=None\n",
    "    attack=None\n",
    "    defense=None"
   ]
  },
  {
   "cell_type": "code",
   "execution_count": 13,
   "id": "4254c36b",
   "metadata": {},
   "outputs": [
    {
     "name": "stdout",
     "output_type": "stream",
     "text": [
      "이 드래곤은의 능력치는 speed:10 , hp:100, attack:20, defense:5 이다.\n"
     ]
    }
   ],
   "source": [
    "# 객체 생성하기\n",
    "dg1=Dragon()\n",
    "\n",
    "# 객체의 속성 설정 :None에서 값으로 변경\n",
    "dg1.speed=10\n",
    "dg1.hp=100\n",
    "dg1.attack=20\n",
    "dg1.defense=5\n",
    "\n",
    "\n",
    "# 객체의 속성 출력\n",
    "tpl=\"speed:%d , hp:%d, attack:%d, defense:%d\" % (dg1.speed, dg1.hp, dg1.attack, dg1.defense)\n",
    "print(\"이 드래곤은의 능력치는 %s 이다.\" % tpl)"
   ]
  },
  {
   "cell_type": "code",
   "execution_count": null,
   "id": "3bbfc9dd",
   "metadata": {},
   "outputs": [],
   "source": [
    "# 객체 속성 설정 2: __init__ 메서드 활용\n",
    "class Dragon:\n",
    "    def __init__(self, speed, hp, attack, defense):\n",
    "        self.speed=speed\n",
    "        self.hp=hp\n",
    "        self.attack=attack\n",
    "        self.defense=defense"
   ]
  },
  {
   "cell_type": "code",
   "execution_count": 9,
   "id": "6a2cc4e9",
   "metadata": {},
   "outputs": [
    {
     "name": "stdout",
     "output_type": "stream",
     "text": [
      "이 드래곤의 지금 능력은 speed:12 , hp:100, attack:24, defense:7 이다.\n"
     ]
    }
   ],
   "source": [
    "#객체 안에 포함된 값 변경하기\n",
    "\n",
    "# 레벨업 시 능력치 증가\n",
    "dg1.speed+=1\n",
    "dg1.hp+=10\n",
    "dg1.attack+=2\n",
    "dg1.defense+=1\n",
    "\n",
    "# 공격 받을 경우 hp 감소\n",
    "dg1.hp-=10\n",
    "\n",
    "# 객체의 속성 출력\n",
    "tpl=\"speed:%d , hp:%d, attack:%d, defense:%d\" % (dg1.speed, dg1.hp, dg1.attack, dg1.defense)\n",
    "print(\"이 드래곤의 지금 능력은 %s 이다.\" % tpl)"
   ]
  },
  {
   "cell_type": "code",
   "execution_count": 10,
   "id": "48118277",
   "metadata": {},
   "outputs": [
    {
     "name": "stdout",
     "output_type": "stream",
     "text": [
      "두번째 드래곤의 능력치는 speed:20 , hp:120, attack:22, defense:6 이다.\n"
     ]
    }
   ],
   "source": [
    "# 클래스의 재사용\n",
    "# 추가 생성 가능\n",
    "\n",
    "dg2=Dragon()\n",
    "dg2.speed=20\n",
    "dg2.hp=120\n",
    "dg2.attack=22\n",
    "dg2.defense=6\n",
    "\n",
    "tpl=\"speed:%d , hp:%d, attack:%d, defense:%d\" % (dg2.speed, dg2.hp, dg2.attack, dg2.defense)\n",
    "print(\"두번째 드래곤의 능력치는 %s 이다.\" % tpl)"
   ]
  },
  {
   "cell_type": "code",
   "execution_count": null,
   "id": "c1695e99",
   "metadata": {},
   "outputs": [],
   "source": [
    "# 클래스 정의에 print문이 있어도 객체 생성시 출력되지 않음\n",
    "# 즉시 실행되는 코드는 없음\n",
    "\n",
    "class Probe:\n",
    "    money=None\n",
    "    def move(self,x,y):\n",
    "        print(\"좌표 ({0},{1})로 이동하고 있습니다.\".format(x,y))\n",
    "    \n",
    "    def gas(self):\n",
    "        print(\"드래곤이 가스를 내뿜고 있습니다. 화력 (+5)\")\n",
    "        return 5\n",
    "    \n",
    "    def mineral(self):\n",
    "        print(\"드래곤이 광물을 채굴하고 있습니다. 광물 (+10)\")\n",
    "        return 10"
   ]
  },
  {
   "cell_type": "code",
   "execution_count": 39,
   "id": "4c3555e3",
   "metadata": {},
   "outputs": [
    {
     "name": "stdout",
     "output_type": "stream",
     "text": [
      "좌표 (10,20)로 이동하고 있습니다.\n",
      "드래곤이 광물을 채굴하고 있습니다. 광물 (+10)\n",
      "현재 광물: 10, 가스: 0 , 돈: 100\n"
     ]
    }
   ],
   "source": [
    "prob1=Probe() # 객체 생성\n",
    "prob1.move(10,20) \n",
    "my_mieral=0\n",
    "my_mieral +=prob1.mineral() # 메서드 호출 \n",
    "\n",
    "prob1.money=100 # 멤버 변수 설정 , 값 할당 \n",
    "my_gas=0\n",
    "\n",
    "print(\"현재 광물: {0}, 가스: {1} , 돈: {2}\".format(my_mieral, my_gas, prob1.money))\n"
   ]
  },
  {
   "cell_type": "code",
   "execution_count": 40,
   "id": "d76b0356",
   "metadata": {},
   "outputs": [
    {
     "name": "stdout",
     "output_type": "stream",
     "text": [
      "돈이 부족하여 가스를 충전할 수 없습니다. 저희가 무료로 20원을 드리겠습니다.\n",
      "현재 돈: 120\n"
     ]
    }
   ],
   "source": [
    "# 객체 안에 포함된 값 변경하기\n",
    "if prob1.money>=500 and my_gas<=5:\n",
    "    prob1.money -=20\n",
    "    my_gas +=5\n",
    "    print(\"가스 부족으로 자동으로 20원 계산되고 가스 5 충전되었습니다.\")\n",
    "elif prob1.money>=500 and my_gas>5:\n",
    "    print(\"가스가 충분하여 충전하지 않습니다.\")\n",
    "    print(\"현재 돈: {0}, 가스: {1}\".format(prob1.money, my_gas))\n",
    "else:\n",
    "    print(\"돈이 부족하여 가스를 충전할 수 없습니다. 저희가 무료로 20원을 드리겠습니다.\")\n",
    "    prob1.money +=20\n",
    "    print(\"현재 돈: {0}\".format(prob1.money))\n"
   ]
  },
  {
   "cell_type": "markdown",
   "id": "d87f9598",
   "metadata": {},
   "source": [
    "## self와 생성자\n",
    "\n",
    "self : 클래스에 속한 메서드에서 멤법변수에 접근하기 위해서는 \"self\"를 통해서만 가능"
   ]
  },
  {
   "cell_type": "code",
   "execution_count": null,
   "id": "e4bc6be0",
   "metadata": {},
   "outputs": [],
   "source": [
    "# self를 통해서 멤버 변수에 접근\n",
    "\n",
    "class N_Student:\n",
    "    # 멤버 변수 선언\n",
    "    name=None\n",
    "    grade=None\n",
    "    weight=None\n",
    "    height=None\n",
    "\n",
    "    # self를 통해 멤버 변수에 접근\n",
    "    def student(self,name,grade):\n",
    "        self.name=name \n",
    "        self.grade=grade\n",
    "    \n",
    "    # BMI 계산 메서드, self로 멤버 변수에 접근 \n",
    "    def pe(self,weight,height):\n",
    "        self.weight=weight\n",
    "        self.height=height\n",
    "        bmi=weight/(height*height)\n",
    "        return bmi\n",
    "\n",
    "    "
   ]
  },
  {
   "cell_type": "code",
   "execution_count": null,
   "id": "3fae3d99",
   "metadata": {},
   "outputs": [
    {
     "name": "stdout",
     "output_type": "stream",
     "text": [
      "이 학생의 이름은 박수 이고, 학년은 2 학년이며, 나이는 30 살입니다.\n"
     ]
    }
   ],
   "source": [
    "# __init__ 생성자 메서드 활용\n",
    "\n",
    "class I_Student:\n",
    "    # 생성자 메서드 정의:\n",
    "    def __init__(self,name,grade,age):\n",
    "        self.name=name\n",
    "        self.grade=grade\n",
    "        self.age=age\n",
    "    \n",
    "    def student(self,name,grade,age):\n",
    "        self.name=name\n",
    "        self.grade=grade\n",
    "        self.age=age\n",
    "\n",
    "    def print_info(self):    \n",
    "        print(\"이 학생의 이름은 %s 이고, 학년은 %d 학년이며, 나이는 %d 살입니다.\" % (self.name, self.grade, self.age))\n",
    "\n",
    "# 학생 객체 생성\n",
    "student1=I_Student(\"박수\",2,30)\n",
    "student1.print_info()\n"
   ]
  },
  {
   "cell_type": "markdown",
   "id": "03b895e6",
   "metadata": {},
   "source": [
    "## 정보은닉 (캡슐화)\n",
    "객체지향 언어적 요소를 활용하여 객체에 대한 구체적인 정보를 노출시키지 않도록 하는 기법"
   ]
  },
  {
   "cell_type": "code",
   "execution_count": 54,
   "id": "b973c48e",
   "metadata": {},
   "outputs": [
    {
     "name": "stdout",
     "output_type": "stream",
     "text": [
      "Hello World\n"
     ]
    }
   ],
   "source": [
    "# 캡슐화 \n",
    "# _,__로 멤버 변수 캡슐화\n",
    "\n",
    "class HelloWorld:\n",
    "    public_var=None # 공개 멤버 변수\n",
    "    __private_Num=None # 비공개 멤버 변수\n",
    "\n",
    "    def __init__(self):\n",
    "        self.public_var=\"Hello World\"\n",
    "        self.__private_Num=1\n",
    "\n",
    "h=HelloWorld()\n",
    "print(h.public_var) # 공개 멤버 변수 접근 가능\n",
    "#print(h.__private_Num) # 비공개 멤버 변수 접근 불가 ,에러 발생\n",
    "\n",
    "\n"
   ]
  },
  {
   "cell_type": "code",
   "execution_count": 105,
   "id": "45d8e55e",
   "metadata": {},
   "outputs": [],
   "source": [
    "# 프로퍼티, getter, setter 활용한 캡슐화\n",
    "\n",
    "class Student:\n",
    "    # 멤버 변수 선언\n",
    "    name=None\n",
    "    grade=0\n",
    "    age=0\n",
    "    __private_student_id=None\n",
    "\n",
    "\n",
    "    # getter 메서드\n",
    "    @property\n",
    "    def student_id(self):\n",
    "        return self.__private_student_id # return ->외부에서 접근 가능\n",
    "    \n",
    "    # setter 메서드\n",
    "    @student_id.setter\n",
    "    def student_id(self,id):\n",
    "        if id<0:\n",
    "            print(\"학생 ID는 0보다 작으면 안됩니다.\")\n",
    "        else:\n",
    "            self.__private_student_id=id\n",
    "\n",
    "    # 생성자 메서드\n",
    "    def __init__(self,name,grade,age,student_id):\n",
    "        self.name=name\n",
    "        self.grade=grade\n",
    "        self.age=age\n",
    "        self.student_id=student_id\n",
    "\n",
    "    def print_info(self):\n",
    "        print(\"학생 인적사항- 이름 :%s, 학년:%d, 나이:%d, 학생ID:%d\" % (self.name, self.grade, self.age, self.student_id))"
   ]
  },
  {
   "cell_type": "code",
   "execution_count": 108,
   "id": "784cc0f3",
   "metadata": {},
   "outputs": [
    {
     "name": "stdout",
     "output_type": "stream",
     "text": [
      "학생 인적사항- 이름 :민수, 학년:3, 나이:20, 학생ID:200\n"
     ]
    }
   ],
   "source": [
    "student1=Student(\"민수\",3,20,200)\n",
    "student1.print_info()"
   ]
  },
  {
   "cell_type": "markdown",
   "id": "9f66f29d",
   "metadata": {},
   "source": [
    "## 클래스 상속\n"
   ]
  },
  {
   "cell_type": "code",
   "execution_count": null,
   "id": "1d28ffc0",
   "metadata": {},
   "outputs": [],
   "source": [
    "# 클래스 상속 \n",
    "\n",
    "#부모 클래스, 클래스 이름은 대문자\n",
    "class Terran:\n",
    "    name=None\n",
    "    hp=None\n",
    "\n",
    "    def __init__(self,name,hp):\n",
    "        self.name=name\n",
    "        self.hp=hp\n",
    "\n",
    "    def info(self):\n",
    "        return \"[%s] HP: %d\" %(self.name,self.hp)"
   ]
  },
  {
   "cell_type": "code",
   "execution_count": 115,
   "id": "3e36788a",
   "metadata": {},
   "outputs": [
    {
     "name": "stdout",
     "output_type": "stream",
     "text": [
      "[마린1] HP: 45\n",
      "[마린1] 총을 쏘아 10의 데미지를 입혔습니다.\n"
     ]
    }
   ],
   "source": [
    "# 부모클래스(Terran) 기능 확장 \n",
    "class Marine(Terran):\n",
    "    def shoot(self,attack):\n",
    "        return\"[%s] 총을 쏘아 %d의 데미지를 입혔습니다.\" % (self.name,attack)\n",
    "        \n",
    "        # 부모 클래스에서 name, hp 멤버 변수와 info() 메서드 상속\n",
    "m=Marine(\"마린1\",45)\n",
    "print(m.info())\n",
    "print(m.shoot(10))"
   ]
  },
  {
   "cell_type": "code",
   "execution_count": 118,
   "id": "a0587969",
   "metadata": {},
   "outputs": [
    {
     "name": "stdout",
     "output_type": "stream",
     "text": [
      "Parent 생성자\n",
      "Child 생성자\n",
      "A\n",
      "B\n"
     ]
    }
   ],
   "source": [
    "# super()로 부모 클래스 메서드 호출\n",
    "\n",
    "class Parent:\n",
    "    def __init__(self):\n",
    "        print(\"Parent 생성자\")\n",
    "    def show(self):\n",
    "        print(\"A\")\n",
    "class Child(Parent):\n",
    "    def __init__(self):\n",
    "        super().__init__()\n",
    "        print(\"Child 생성자\")\n",
    "    def show(self):\n",
    "        super().show()\n",
    "        print(\"B\")\n",
    "\n",
    "c=Child()\n",
    "c.show()"
   ]
  },
  {
   "cell_type": "code",
   "execution_count": null,
   "id": "0c33042e",
   "metadata": {},
   "outputs": [
    {
     "name": "stdout",
     "output_type": "stream",
     "text": [
      "초기화\n",
      "[메딕1] HP: 39, MANA: 20\n",
      "[메딕1] 마린1의 체력을 회복시킵니다.(mana:25)\n"
     ]
    }
   ],
   "source": [
    "# super()를 사용한 부모 기능 호출\n",
    "class Medic(Terran):\n",
    "    mana=None\n",
    "    def __init__(self,name,hp,mana):\n",
    "        super().__init__(name,hp)\n",
    "        print(\"초기화\")\n",
    "        self.mana=mana\n",
    "        \n",
    "    def info_ex(self):\n",
    "        info_msg=super().info()\n",
    "        info_msg+=\", MANA: %d\" % self.mana\n",
    "        return info_msg\n",
    "\n",
    "    def heel(self,target):\n",
    "        self.mana+=5\n",
    "        return \"[%s] %s의 체력을 회복시킵니다.(mana:%d)\" % (self.name,target,self.mana)\n",
    "md=Medic('메딕1',39,20)\n",
    "print(md.info_ex())\n",
    "print(md.heel('마린1'))\n"
   ]
  },
  {
   "cell_type": "code",
   "execution_count": 149,
   "id": "39c80949",
   "metadata": {},
   "outputs": [
    {
     "name": "stdout",
     "output_type": "stream",
     "text": [
      "동물이 소리를 냅니다.\n",
      "멍멍\n",
      "동물이 소리를 냅니다.\n",
      "야옹\n"
     ]
    }
   ],
   "source": [
    "# 메서드 오버라이드\n",
    "# 자식 클래스가 부모와 동일한 이름의 메서드를 정의하는 것\n",
    "\n",
    "class Animal:\n",
    "    def sound(self):\n",
    "        print(\"동물이 소리를 냅니다.\")\n",
    "    \n",
    "class Dog(Animal):\n",
    "    def sound(self):\n",
    "        print(\"멍멍\")\n",
    "\n",
    "a=Animal()\n",
    "a.sound() # 동물이 소리를 냅니다.\n",
    "\n",
    "d=Dog()\n",
    "d.sound() # 멍멍\n",
    "\n",
    "# 부모클래스의 기능 유지 + 추가적인 기능 덧붙이기\n",
    "class Cat(Animal):\n",
    "    def sound(self):\n",
    "        super().sound() # 부모 클래스의 메서드 호출\n",
    "        print(\"야옹\")\n",
    "c=Cat()\n",
    "c.sound()\n"
   ]
  },
  {
   "cell_type": "code",
   "execution_count": 152,
   "id": "c40d60fd",
   "metadata": {},
   "outputs": [
    {
     "name": "stdout",
     "output_type": "stream",
     "text": [
      "[탱크1] HP: 130, 상태: 아머드모드\n",
      "[탱크1] HP: 130, 상태: 시즈모드\n"
     ]
    }
   ],
   "source": [
    "# 하위 클래스를 통한 부모 기능의 수정\n",
    "class SiegeTank(Terran):\n",
    "    siege_mode=None\n",
    "    def __init__(self,name,hp=130, siege_mode=False):\n",
    "        super().__init__(name,hp)\n",
    "        self.siege_mode=siege_mode\n",
    "\n",
    "    def set_siege(self,on):\n",
    "        self.siege_mode=bool(on)\n",
    "    \n",
    "    # override\n",
    "    def info(self):\n",
    "        base=super().info()\n",
    "        if self.siege_mode:\n",
    "            mode='시즈모드'\n",
    "        else:\n",
    "            mode='아머드모드'\n",
    "        return base+\", 상태: \" + mode\n",
    "t=SiegeTank('탱크1')\n",
    "print(t.info())\n",
    "t.set_siege(True)\n",
    "print(t.info())"
   ]
  },
  {
   "cell_type": "code",
   "execution_count": null,
   "id": "376e9b0c",
   "metadata": {},
   "outputs": [
    {
     "name": "stdout",
     "output_type": "stream",
     "text": [
      "현재 좌표는 (10, 20) 이고, 이동 모드는 Run 입니다.\n"
     ]
    }
   ],
   "source": [
    "# 다중 상속\n",
    "\n",
    "class Move:\n",
    "    x=None\n",
    "    y=None\n",
    "    def __init__(self,x,y):\n",
    "        self.x=x\n",
    "        self.y=y\n",
    "    \n",
    "    def move_mode(self,mode):\n",
    "        if mode>100:\n",
    "            return \"Walk\"\n",
    "        else:\n",
    "            return \"Run\"\n",
    "        \n",
    "    def move_info(self,mode):\n",
    "        mode=self.move_mode(mode)\n",
    "        return \"현재 좌표는 (%d, %d) 이고, 이동 모드는 %s 입니다.\" % (self.x,self.y,mode)\n",
    "\n",
    "m=Move(10,20)  \n",
    "print(m.move_info(50))"
   ]
  },
  {
   "cell_type": "code",
   "execution_count": 215,
   "id": "eec00af0",
   "metadata": {},
   "outputs": [
    {
     "name": "stdout",
     "output_type": "stream",
     "text": [
      "공격력 13 로 공격합니다. 남은 체력 90%\n"
     ]
    }
   ],
   "source": [
    "class Attack:\n",
    "    power=None\n",
    "    hp=None\n",
    "    def __init__(self,power,hp):\n",
    "        self.power=power\n",
    "        self.hp=hp\n",
    "    \n",
    "    def do_power(self):\n",
    "        self.hp-=10\n",
    "        return \"공격력 %d 로 공격합니다. 남은 체력 %d%%\" % (self.power,self.hp)\n",
    "d=Attack(13,100)\n",
    "print(d.do_power())"
   ]
  },
  {
   "cell_type": "code",
   "execution_count": 228,
   "id": "4e1a7a59",
   "metadata": {},
   "outputs": [
    {
     "name": "stdout",
     "output_type": "stream",
     "text": [
      "[포션] 아이템을 3개 사용합니다. 캐릭터 주머니 안에는 7개 남았습니다.\n"
     ]
    }
   ],
   "source": [
    "class Action:\n",
    "    def __init__(self, item):\n",
    "        self.item = item\n",
    "        self.market=10 # 기본값 10\n",
    "\n",
    "    def use_item(self, count):\n",
    "        self.market -= count\n",
    "        if self.market<0:\n",
    "            self.market=0\n",
    "            return \"아이템이 부족합니다. 캐릭터 주머니 안에는 0개 남았습니다.\"\n",
    "        \n",
    "        return \"[%s] 아이템을 %d개 사용합니다. 캐릭터 주머니 안에는 %d개 남았습니다.\" % (self.item, count,self.market)\n",
    "ch=Action(\"포션\")\n",
    "print(ch.use_item(3))"
   ]
  },
  {
   "cell_type": "code",
   "execution_count": 241,
   "id": "e82db0e4",
   "metadata": {},
   "outputs": [
    {
     "name": "stdout",
     "output_type": "stream",
     "text": [
      "현재 좌표는 (10, 20) 이고, 이동 모드는 Run 입니다.\n",
      "공격력 100 로 공격합니다. 남은 체력 70%\n",
      "[엘릭서] 아이템을 1개 사용합니다. 캐릭터 주머니 안에는 9개 남았습니다.\n"
     ]
    }
   ],
   "source": [
    "class ch(Move,Attack,Action):\n",
    "    def __init__(self,x,y,mode,attack,hp,item):\n",
    "        Move.__init__(self,x,y)\n",
    "        Attack.__init__(self,attack,hp)\n",
    "        Action.__init__(self,item)\n",
    "\n",
    "ch2 = ch(10, 20, 15, 100, 80, \"엘릭서\") \n",
    "print(ch2.move_info(50))\n",
    "print(ch2.do_power())\n",
    "print(ch2.use_item(1))"
   ]
  }
 ],
 "metadata": {
  "kernelspec": {
   "display_name": "Python 3",
   "language": "python",
   "name": "python3"
  },
  "language_info": {
   "codemirror_mode": {
    "name": "ipython",
    "version": 3
   },
   "file_extension": ".py",
   "mimetype": "text/x-python",
   "name": "python",
   "nbconvert_exporter": "python",
   "pygments_lexer": "ipython3",
   "version": "3.13.6"
  }
 },
 "nbformat": 4,
 "nbformat_minor": 5
}
