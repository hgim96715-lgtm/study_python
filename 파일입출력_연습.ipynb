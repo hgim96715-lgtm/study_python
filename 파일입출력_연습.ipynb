{
 "cells": [
  {
   "cell_type": "markdown",
   "id": "4c5cae5f",
   "metadata": {},
   "source": [
    "## 파일 입출력\n",
    "\n",
    "- r: 읽기모드\n",
    "- w: 쓰기모드(기존의 내용을 덮어쓴다.)\n",
    "- a: 추가모드(기존의 내용을 유지하고 뒤에 추가)"
   ]
  },
  {
   "cell_type": "code",
   "execution_count": 1,
   "id": "ae7361e9",
   "metadata": {},
   "outputs": [],
   "source": [
    "# 파일 생성\n",
    "f=open(\"helloworld.txt\",\"w\",encoding='utf-8')\n",
    "\n",
    "# 파일에 내용 기록 하기\n",
    "f.write(\"Hello, World!\\n\")\n",
    "f.write(\"안녕하세요 파이썬!\\n\")\n",
    "\n",
    "#open()함수로 파일을 열었으면 반드시 close()함수로 닫아줘야 한다.\n",
    "f.close()"
   ]
  },
  {
   "cell_type": "code",
   "execution_count": 2,
   "id": "6cd0e040",
   "metadata": {},
   "outputs": [
    {
     "name": "stdout",
     "output_type": "stream",
     "text": [
      "Hello, World!\n",
      "안녕하세요 파이썬!\n",
      "\n"
     ]
    }
   ],
   "source": [
    "# 파일 읽기\n",
    "# 인코딩 방식은 저장 방식과 동일하게 지정해야 한다. -> 다를 경우 깨진 문자로 출력될 수 있다., 에러 발생\n",
    "\n",
    "f=open(\"helloworld.txt\",\"r\",encoding='utf-8')\n",
    "\n",
    "# 파일 내용 전체 읽기\n",
    "content=f.read()\n",
    "print(content)\n",
    "\n",
    "# 파일 닫기\n",
    "f.close()"
   ]
  },
  {
   "cell_type": "code",
   "execution_count": 3,
   "id": "e370313b",
   "metadata": {},
   "outputs": [
    {
     "name": "stdout",
     "output_type": "stream",
     "text": [
      "파일이 자동으로 닫혔습니다.\n"
     ]
    }
   ],
   "source": [
    "# with 문을 사용한 파일 입출력\n",
    "# with문을 사용하면 close()함수를 호출하지 않아도 자동으로 파일이 닫힌다.\n",
    "\n",
    "with open(\"with_helloworld.txt\",\"w\",encoding='utf-8') as f:\n",
    "    #with 블록 안에서만 파일 객체 f를 사용할 수 있다.\n",
    "    for i in range(0,6):\n",
    "        f.write(f\"학년 순서 {i}\\n\")\n",
    "        f.write(f\"차례대로 {i}학년 입니다.\\n\")\n",
    "#with 블록을 벗어나면 자동으로 파일이 닫힌다.\n",
    "    print(\"파일이 자동으로 닫혔습니다.\")"
   ]
  },
  {
   "cell_type": "code",
   "execution_count": 4,
   "id": "21b3685e",
   "metadata": {},
   "outputs": [
    {
     "name": "stdout",
     "output_type": "stream",
     "text": [
      "학년 순서 0\n",
      "차례대로 0학년 입니다.\n",
      "학년 순서 1\n",
      "차례대로 1학년 입니다.\n",
      "학년 순서 2\n",
      "차례대로 2학년 입니다.\n",
      "학년 순서 3\n",
      "차례대로 3학년 입니다.\n",
      "학년 순서 4\n",
      "차례대로 4학년 입니다.\n",
      "학년 순서 5\n",
      "차례대로 5학년 입니다.\n",
      "\n"
     ]
    }
   ],
   "source": [
    "# 읽기모드 with 문\n",
    "with open(\"with_helloworld.txt\",\"r\",encoding='utf-8') as f:\n",
    "    content=f.read()\n",
    "    print(content)"
   ]
  },
  {
   "cell_type": "code",
   "execution_count": 11,
   "id": "efbb67fb",
   "metadata": {},
   "outputs": [
    {
     "name": "stdout",
     "output_type": "stream",
     "text": [
      "학년 순서 0\n",
      "\n"
     ]
    }
   ],
   "source": [
    "# readline() 함수로 한 줄씩 읽기\n",
    "with open(\"with_helloworld.txt\",\"r\",encoding='utf-8') as f:\n",
    "    lines=f.readline()\n",
    "    print(lines) # 첫 번째 줄 출력, 학년 순서 0"
   ]
  },
  {
   "cell_type": "code",
   "execution_count": null,
   "id": "93cbac61",
   "metadata": {},
   "outputs": [
    {
     "name": "stdout",
     "output_type": "stream",
     "text": [
      "['학년 순서 0\\n', '차례대로 0학년 입니다.\\n', '학년 순서 1\\n', '차례대로 1학년 입니다.\\n', '학년 순서 2\\n', '차례대로 2학년 입니다.\\n', '학년 순서 3\\n', '차례대로 3학년 입니다.\\n', '학년 순서 4\\n', '차례대로 4학년 입니다.\\n', '학년 순서 5\\n', '차례대로 5학년 입니다.\\n']\n"
     ]
    }
   ],
   "source": [
    "# readlines() 함수로 모든 줄을 리스트로 읽기\n",
    "with open(\"with_helloworld.txt\",\"r\",encoding='utf-8') as f:\n",
    "    lines=f.readlines() # 모든 줄을 리스트로 읽기, 각 줄이 리스트의 요소가 된다,줄 바꿈 문자(\\n)도 포함된다.\n",
    "    print(lines)\n"
   ]
  },
  {
   "cell_type": "code",
   "execution_count": null,
   "id": "b2e896f2",
   "metadata": {},
   "outputs": [],
   "source": []
  }
 ],
 "metadata": {
  "kernelspec": {
   "display_name": "Python 3",
   "language": "python",
   "name": "python3"
  },
  "language_info": {
   "codemirror_mode": {
    "name": "ipython",
    "version": 3
   },
   "file_extension": ".py",
   "mimetype": "text/x-python",
   "name": "python",
   "nbconvert_exporter": "python",
   "pygments_lexer": "ipython3",
   "version": "3.13.6"
  }
 },
 "nbformat": 4,
 "nbformat_minor": 5
}
