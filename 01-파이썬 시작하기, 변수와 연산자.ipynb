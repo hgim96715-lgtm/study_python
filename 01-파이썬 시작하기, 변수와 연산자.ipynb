{
 "cells": [
  {
   "cell_type": "markdown",
   "id": "2cb686b5",
   "metadata": {},
   "source": [
    "## 처음으로 배우기 - 주석, "
   ]
  },
  {
   "cell_type": "code",
   "execution_count": 12,
   "id": "b9667373",
   "metadata": {},
   "outputs": [
    {
     "name": "stdout",
     "output_type": "stream",
     "text": [
      "100\n",
      "Hello, World!\n"
     ]
    }
   ],
   "source": [
    "a=100\n",
    "print(a)\n",
    "print(\"Hello, World!\")"
   ]
  },
  {
   "cell_type": "code",
   "execution_count": 13,
   "id": "57a7c32a",
   "metadata": {},
   "outputs": [
    {
     "name": "stdout",
     "output_type": "stream",
     "text": [
      "500\n"
     ]
    }
   ],
   "source": [
    "a=200\n",
    "b=300\n",
    "print(a+b)"
   ]
  },
  {
   "cell_type": "code",
   "execution_count": 15,
   "id": "7967bfc3",
   "metadata": {},
   "outputs": [],
   "source": [
    "# Lab 01 -제목\n",
    "## 단원명\n",
    "### 페이지 제목 "
   ]
  },
  {
   "cell_type": "code",
   "execution_count": 16,
   "id": "890128fc",
   "metadata": {},
   "outputs": [
    {
     "name": "stdout",
     "output_type": "stream",
     "text": [
      "Hello, World!\n"
     ]
    }
   ],
   "source": [
    "#주석과 함께 사용하는 방법\n",
    "# 메시지를 출력하는 명령어\n",
    "print(\"Hello, World!\")"
   ]
  },
  {
   "cell_type": "code",
   "execution_count": 17,
   "id": "61f027b7",
   "metadata": {},
   "outputs": [
    {
     "name": "stdout",
     "output_type": "stream",
     "text": [
      "300\n"
     ]
    }
   ],
   "source": [
    "a=100 #100을 의미하는 변수 a\n",
    "b=200 #200을 의미하는 변수 b\n",
    "print(a+b) #a와 b의 합을 출력"
   ]
  },
  {
   "cell_type": "markdown",
   "id": "0ad854c3",
   "metadata": {},
   "source": [
    "## 변수의 이해\n",
    "### 다양한 변수 만들기\n",
    " 변수 : 데이터를 저장하기 위해 프로그램에 의해 이름을 부여 받은 메모리 공간"
   ]
  },
  {
   "cell_type": "code",
   "execution_count": 18,
   "id": "b22c2d4f",
   "metadata": {},
   "outputs": [
    {
     "name": "stdout",
     "output_type": "stream",
     "text": [
      "123\n",
      "-567\n"
     ]
    }
   ],
   "source": [
    "# 변수 만들기 (오른쪽에서 왼쪽으로 대입 -> 최초대입을 초기화라고 함)\n",
    "# -> 이름=값\n",
    "a=123\n",
    "b=-567\n",
    "print(a)\n",
    "print(b)"
   ]
  },
  {
   "cell_type": "code",
   "execution_count": 19,
   "id": "bcae7709",
   "metadata": {},
   "outputs": [
    {
     "name": "stdout",
     "output_type": "stream",
     "text": [
      "100000\n"
     ]
    }
   ],
   "source": [
    "# 한 번 할당된 변수는 다른 값으로 변경 가능\n",
    "a=100000\n",
    "print(a)"
   ]
  },
  {
   "cell_type": "code",
   "execution_count": 20,
   "id": "b70125c8",
   "metadata": {},
   "outputs": [
    {
     "name": "stdout",
     "output_type": "stream",
     "text": [
      "True\n"
     ]
    }
   ],
   "source": [
    "### 논리형 변수 (참/거짓)\n",
    "a= True\n",
    "print(a)"
   ]
  },
  {
   "cell_type": "code",
   "execution_count": 21,
   "id": "80188f14",
   "metadata": {},
   "outputs": [
    {
     "name": "stdout",
     "output_type": "stream",
     "text": [
      "False\n"
     ]
    }
   ],
   "source": [
    "b= False # 거짓을 의미하는 False를 변수 b에 대입\n",
    "print(b)"
   ]
  },
  {
   "cell_type": "code",
   "execution_count": 22,
   "id": "6def6f32",
   "metadata": {},
   "outputs": [
    {
     "name": "stdout",
     "output_type": "stream",
     "text": [
      "Hello, World!\n"
     ]
    }
   ],
   "source": [
    "# 문자열 변수\n",
    "msg = \"Hello, World!\"\n",
    "print(msg)"
   ]
  },
  {
   "cell_type": "code",
   "execution_count": 23,
   "id": "8c1f8f45",
   "metadata": {},
   "outputs": [
    {
     "name": "stdout",
     "output_type": "stream",
     "text": [
      "None\n"
     ]
    }
   ],
   "source": [
    "# 내용이 없는 변수 - None\n",
    "hello= None\n",
    "print(hello)"
   ]
  },
  {
   "cell_type": "markdown",
   "id": "602820f7",
   "metadata": {},
   "source": [
    "## 연산자의 활용"
   ]
  },
  {
   "cell_type": "code",
   "execution_count": 24,
   "id": "4bcf9ac4",
   "metadata": {},
   "outputs": [
    {
     "name": "stdout",
     "output_type": "stream",
     "text": [
      "a: 1\n",
      "b: 2\n",
      "a: 2\n",
      "b: 1\n"
     ]
    }
   ],
   "source": [
    "# 대입 연산자를 활용한 swap (값 교환)\n",
    "a=1\n",
    "b=2\n",
    "print('a:',a)\n",
    "print('b:',b)\n",
    "\n",
    "a,b=b,a\n",
    "print('a:',a)\n",
    "print('b:',b)"
   ]
  },
  {
   "cell_type": "code",
   "execution_count": 25,
   "id": "4abf214b",
   "metadata": {},
   "outputs": [
    {
     "name": "stdout",
     "output_type": "stream",
     "text": [
      "7\n"
     ]
    }
   ],
   "source": [
    "# 연산 결과는 새로운 변수에 할당하거나 직접 출력 가능\n",
    "a=3\n",
    "b=4\n",
    "c=a+b # a와 b의 합을 변수 c에 할당\n",
    "print(c) # c의 값을 출력"
   ]
  },
  {
   "cell_type": "code",
   "execution_count": 28,
   "id": "0311ffe2",
   "metadata": {},
   "outputs": [
    {
     "name": "stdout",
     "output_type": "stream",
     "text": [
      "-1\n",
      "12\n"
     ]
    }
   ],
   "source": [
    "# 연산결과 직접 출력\n",
    "print(a-b) # a와 b의 차를 출력\n",
    "print(a*b) # a와 b의 곱을 출력"
   ]
  },
  {
   "cell_type": "code",
   "execution_count": 29,
   "id": "99185e9b",
   "metadata": {},
   "outputs": [
    {
     "name": "stdout",
     "output_type": "stream",
     "text": [
      "3.3333333333333335\n"
     ]
    }
   ],
   "source": [
    "# 나눗셈의 몫을 구한다 \n",
    "# -> 처리 가능한 단위까지 계산함(마지막 오차발생) \n",
    "print (10/3)"
   ]
  },
  {
   "cell_type": "code",
   "execution_count": 30,
   "id": "d860f413",
   "metadata": {},
   "outputs": [
    {
     "name": "stdout",
     "output_type": "stream",
     "text": [
      "3\n"
     ]
    }
   ],
   "source": [
    "# 나눗셈에서 소수점 아래를 버리고 몫만 계산\n",
    "print(10//3)"
   ]
  },
  {
   "cell_type": "code",
   "execution_count": 31,
   "id": "cf85da71",
   "metadata": {},
   "outputs": [
    {
     "name": "stdout",
     "output_type": "stream",
     "text": [
      "1\n"
     ]
    }
   ],
   "source": [
    "# 나눗셈의 나머지를 구한다.\n",
    "# -> 정수 단위에서만 연산 후 종료\n",
    "print(10%3)"
   ]
  },
  {
   "cell_type": "code",
   "execution_count": 32,
   "id": "abebb630",
   "metadata": {},
   "outputs": [
    {
     "name": "stdout",
     "output_type": "stream",
     "text": [
      "243\n"
     ]
    }
   ],
   "source": [
    "# 거듭제곱\n",
    "print(3**5) # 3의 5제곱"
   ]
  },
  {
   "cell_type": "code",
   "execution_count": null,
   "id": "154efb8a",
   "metadata": {},
   "outputs": [
    {
     "name": "stdout",
     "output_type": "stream",
     "text": [
      "1\n"
     ]
    }
   ],
   "source": [
    "# 연산자 활용\n",
    "a=1\n",
    "a+=100 # a=a+100 , 100+1->101\n",
    "a*=10 # a=a*10 , 101*10->1010\n",
    "a//=3 # a=a//3 , 1010//3->336\n",
    "a%=5 # a=a%5 , 336%5->1\n",
    "print(a) # 1"
   ]
  },
  {
   "cell_type": "code",
   "execution_count": 36,
   "id": "845582fd",
   "metadata": {},
   "outputs": [
    {
     "name": "stdout",
     "output_type": "stream",
     "text": [
      "False\n",
      "True\n",
      "True\n",
      "False\n",
      "True\n",
      "False\n"
     ]
    }
   ],
   "source": [
    "# 비교 연산자\n",
    "# -> 결과는 항상 논리형(True/False)\n",
    "print(100 ==50) # 100과 50이 같은가? False\n",
    "print(100 !=50) # 100과 50이 같지 않은가? True\n",
    "print(100 >50)  # 100이 50보다 큰가? True\n",
    "print(100 <50)  # 100이 50보다 작은가? False\n",
    "print(100 >=50) # 100이 50보다 크거나 같은가? True\n",
    "print(100 <=50) # 100이 50보다 작거나 같은가? False"
   ]
  },
  {
   "cell_type": "code",
   "execution_count": 37,
   "id": "9efe8162",
   "metadata": {},
   "outputs": [
    {
     "name": "stdout",
     "output_type": "stream",
     "text": [
      "True\n"
     ]
    }
   ],
   "source": [
    "# 비교연산자도 하나의 수식이므로 결과를 다른 변수에 할당 가능\n",
    "result=100>50\n",
    "print(result) # True"
   ]
  },
  {
   "cell_type": "code",
   "execution_count": 38,
   "id": "4bb0071a",
   "metadata": {},
   "outputs": [
    {
     "name": "stdout",
     "output_type": "stream",
     "text": [
      "True\n",
      "False\n",
      "False\n",
      "False\n"
     ]
    }
   ],
   "source": [
    "# 논리연산자 AND\n",
    "print(True and True)   # True\n",
    "print(True and False)  # False\n",
    "print(False and True)  # False\n",
    "print(False and False) # False"
   ]
  },
  {
   "cell_type": "code",
   "execution_count": 39,
   "id": "464a148b",
   "metadata": {},
   "outputs": [
    {
     "name": "stdout",
     "output_type": "stream",
     "text": [
      "True\n",
      "True\n",
      "True\n",
      "False\n"
     ]
    }
   ],
   "source": [
    "# 논리연산자 OR\n",
    "print(True or True)    # True\n",
    "print(True or False)   # True\n",
    "print(False or True)   # True\n",
    "print(False or False)  # False"
   ]
  },
  {
   "cell_type": "code",
   "execution_count": 40,
   "id": "10c7e048",
   "metadata": {},
   "outputs": [
    {
     "name": "stdout",
     "output_type": "stream",
     "text": [
      "False\n",
      "True\n"
     ]
    }
   ],
   "source": [
    "# 논리연산자 NOT\n",
    "print(not True)  # False\n",
    "print(not False) # True"
   ]
  },
  {
   "cell_type": "code",
   "execution_count": 41,
   "id": "b174f52d",
   "metadata": {},
   "outputs": [
    {
     "name": "stdout",
     "output_type": "stream",
     "text": [
      "False\n"
     ]
    }
   ],
   "source": [
    "# 논리값을 저장하는 변수를 부정하여 그 결과를 다른 변수에 할당\n",
    "mybool= True\n",
    "reverse= not mybool\n",
    "print(reverse) # False"
   ]
  },
  {
   "cell_type": "code",
   "execution_count": 42,
   "id": "5b1393f3",
   "metadata": {},
   "outputs": [
    {
     "name": "stdout",
     "output_type": "stream",
     "text": [
      "True\n",
      "True\n",
      "False\n"
     ]
    }
   ],
   "source": [
    "# 비교연산의 결과값은 boolean형식이므로 논리연산이 가능함\n",
    "a= 100 > 50\n",
    "b= 20>10\n",
    "print(a and b) # True\n",
    "print(a or b)  # True\n",
    "print(not a)   # False"
   ]
  },
  {
   "cell_type": "code",
   "execution_count": 44,
   "id": "db8dc28c",
   "metadata": {},
   "outputs": [
    {
     "name": "stdout",
     "output_type": "stream",
     "text": [
      "False\n"
     ]
    }
   ],
   "source": [
    " # \"비교연산 ---> 논리연산\"의 순서로 처리됨\n",
    "c= 100>=100 and 50 ==10\n",
    "print(c) # False"
   ]
  },
  {
   "cell_type": "code",
   "execution_count": null,
   "id": "da24da16",
   "metadata": {},
   "outputs": [
    {
     "name": "stdout",
     "output_type": "stream",
     "text": [
      "True\n"
     ]
    }
   ],
   "source": [
    "print (100!=200 and 100 == 100) # True"
   ]
  },
  {
   "cell_type": "code",
   "execution_count": 46,
   "id": "8df0ab3b",
   "metadata": {},
   "outputs": [],
   "source": [
    "# 완전항등 연산자 is\n",
    "\n",
    "# 비교를 위한 변수값 정의  \n",
    "x=100\n",
    "y=100.0"
   ]
  },
  {
   "cell_type": "code",
   "execution_count": 47,
   "id": "99d767b8",
   "metadata": {},
   "outputs": [
    {
     "name": "stdout",
     "output_type": "stream",
     "text": [
      "True\n",
      "False\n"
     ]
    }
   ],
   "source": [
    "# 단순 비교 연산자는 정수와 실수를 구분하지 않는다. \n",
    "print(x==y) # True  100과 100.0은 값이 같으므로 True\n",
    "print(x!=y) # False  100과 100.0은 값이 같으므로 False"
   ]
  },
  {
   "cell_type": "code",
   "execution_count": null,
   "id": "76c26711",
   "metadata": {},
   "outputs": [
    {
     "name": "stdout",
     "output_type": "stream",
     "text": [
      "False\n",
      "True\n"
     ]
    }
   ],
   "source": [
    "# is 연산자는 값 뿐만 아니라 자료형까지 동일한 경우에만 True를 반환\n",
    "print(x is y)  # False  100과 100.0은 자료형이 다르므로 False\n",
    "print(x is not y) # True   100과 100.0은 자료형이 다르므로 True"
   ]
  }
 ],
 "metadata": {
  "kernelspec": {
   "display_name": "Python 3",
   "language": "python",
   "name": "python3"
  },
  "language_info": {
   "codemirror_mode": {
    "name": "ipython",
    "version": 3
   },
   "file_extension": ".py",
   "mimetype": "text/x-python",
   "name": "python",
   "nbconvert_exporter": "python",
   "pygments_lexer": "ipython3",
   "version": "3.13.6"
  }
 },
 "nbformat": 4,
 "nbformat_minor": 5
}
