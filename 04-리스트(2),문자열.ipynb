{
 "cells": [
  {
   "cell_type": "markdown",
   "id": "f2f38208",
   "metadata": {},
   "source": [
    "## 리스트 관련함수"
   ]
  },
  {
   "cell_type": "code",
   "execution_count": 6,
   "id": "76c8b8f9",
   "metadata": {},
   "outputs": [
    {
     "name": "stdout",
     "output_type": "stream",
     "text": [
      "0: 10\n",
      "1: 20\n",
      "2: 30\n",
      "3: 40\n",
      "4: 50\n"
     ]
    }
   ],
   "source": [
    "# for 인덱스로 접근 \n",
    "numbers=[10,20,30,40,50]\n",
    "for i in range(len(numbers)):\n",
    "    print(f\"{i}: {numbers[i]}\") # 0: 10, 1: 20, 2: 30, 3: 40, 4: 50"
   ]
  },
  {
   "cell_type": "code",
   "execution_count": 7,
   "id": "389421f6",
   "metadata": {},
   "outputs": [
    {
     "name": "stdout",
     "output_type": "stream",
     "text": [
      "10\n",
      "10:10\n",
      "20\n",
      "20:20\n",
      "30\n",
      "30:30\n",
      "40\n",
      "40:40\n",
      "50\n",
      "50:50\n"
     ]
    }
   ],
   "source": [
    "# for 값으로 접근 \n",
    "numbers=[10,20,30,40,50]\n",
    "for num in numbers:\n",
    "    print(num) # 10, 20, 30, 40, 50\n",
    "    print(f\"{num}:{num}\") # 10:10, 20:20, 30:30, 40:40, 50:50"
   ]
  },
  {
   "cell_type": "code",
   "execution_count": 8,
   "id": "154f5504",
   "metadata": {},
   "outputs": [
    {
     "name": "stdout",
     "output_type": "stream",
     "text": [
      "0:10\n",
      "1:20\n",
      "2:30\n",
      "3:40\n",
      "4:50\n"
     ]
    }
   ],
   "source": [
    "# 인덱스 번호와 원소를 모두 탐색\n",
    "numbers=[10,20,30,40,50]\n",
    "for i,v in enumerate(numbers):\n",
    "    print(f\"{i}:{v}\") # 0:10, 1:20, 2:30, 3:40, 4:50"
   ]
  },
  {
   "cell_type": "code",
   "execution_count": 13,
   "id": "c5d85667",
   "metadata": {},
   "outputs": [
    {
     "name": "stdout",
     "output_type": "stream",
     "text": [
      "total: 407\n"
     ]
    }
   ],
   "source": [
    "#리스트 원소에 대한 합계 평균 구하기 \n",
    "# 방법에 따라 주석처리 해서 실행하기!!!\n",
    "scores=[100,82,98,76,51]\n",
    "total=0\n",
    "\n",
    "# 방법 1 : 인덱스로 접근 \n",
    "for score in range(len(scores)):\n",
    "    total+=scores[score]\n",
    "print (\"total:\",total) # total: 407\n",
    "\n",
    "# 방법 2 : 값으로 접근\n",
    "# for score in scores:\n",
    "#     total+=score\n",
    "# print(\"total:\",total) # total: 407\n",
    "\n",
    "# 방법 3: 인덱스와 값으로 접근\n",
    "# for i, v in enumerate(scores):\n",
    "#     #1 \n",
    "#     total+=v \n",
    "#     #2 \n",
    "#     total+=scores[i]\n",
    "# print(\"total:\",total) # total: 407 -> #1\n",
    "# print (\"total:\",total) # total: 407 -> #2\n",
    "\n"
   ]
  },
  {
   "cell_type": "code",
   "execution_count": 19,
   "id": "5fb930c4",
   "metadata": {},
   "outputs": [
    {
     "name": "stdout",
     "output_type": "stream",
     "text": [
      "size= 2\n",
      "--- 0번째 학생 성적 ---\n",
      "size= 4\n",
      "0번째 과목 성적: 88\n",
      "1번째 과목 성적: 72\n",
      "2번째 과목 성적: 83\n",
      "3번째 과목 성적: 90\n",
      "--- 1번째 학생 성적 ---\n",
      "size= 4\n",
      "0번째 과목 성적: 63\n",
      "1번째 과목 성적: 77\n",
      "2번째 과목 성적: 72\n",
      "3번째 과목 성적: 80\n"
     ]
    }
   ],
   "source": [
    "# 2차원 리스트 탐색\n",
    "mydata=[\n",
    "    [88,72,83,90],\n",
    "    [63,77,72,80]\n",
    "]\n",
    "row_size=len(mydata)\n",
    "print(\"size=\",row_size) # row_size= 2\n",
    "\n",
    "for i in range(row_size):\n",
    "    print(f\"--- {i}번째 학생 성적 ---\")\n",
    "    total=0\n",
    "    col_size=len(mydata[i]) \n",
    "    print(\"size=\",col_size) # col_size= 4\n",
    "    for j in range(col_size):\n",
    "        total+=mydata[i][j]\n",
    "        print(f\"{j}번째 과목 성적: {mydata[i][j]}\")"
   ]
  },
  {
   "cell_type": "markdown",
   "id": "b1ca3abd",
   "metadata": {},
   "source": [
    "## 리스트 관련 함수"
   ]
  },
  {
   "cell_type": "code",
   "execution_count": 2,
   "id": "8823404e",
   "metadata": {},
   "outputs": [
    {
     "name": "stdout",
     "output_type": "stream",
     "text": [
      "len: 3\n",
      "len: 0\n",
      "len: 4\n"
     ]
    }
   ],
   "source": [
    "# len() 리스트의 길이 조회\n",
    "mylist=[1,2,3]\n",
    "print(\"len:\",len(mylist)) # len: 3\n",
    "\n",
    "# 빈 리스트의 경우 0 반환\n",
    "mylist1=[]\n",
    "print(\"len:\",len(mylist1)) # len: 0\n",
    "\n",
    "#중첩 리스트의 경우 최상위 레벨의 원소 개수 조회\n",
    "mylist2=[1,2,[10,20,30],4]\n",
    "print(\"len:\",len(mylist2)) # len: 4"
   ]
  },
  {
   "cell_type": "code",
   "execution_count": 22,
   "id": "3cd76970",
   "metadata": {},
   "outputs": [
    {
     "name": "stdout",
     "output_type": "stream",
     "text": [
      "del: [1, 3]\n"
     ]
    }
   ],
   "source": [
    "# 리스트의 원소 삭제 del() \n",
    "mylist=[1,2,3]\n",
    "del(mylist[1]) # 2번째 원소 삭제-> 2\n",
    "print(\"del:\",mylist) # del: [1, 3]"
   ]
  },
  {
   "cell_type": "code",
   "execution_count": 25,
   "id": "62b48262",
   "metadata": {},
   "outputs": [
    {
     "name": "stdout",
     "output_type": "stream",
     "text": [
      "[10, 20, 15, 5]\n",
      "[5, 10, 15, 20]\n",
      "[20, 15, 10, 5]\n",
      "[10, 20, 15, 5]\n"
     ]
    }
   ],
   "source": [
    "# 리스트 원소의 정렬 sorted() \n",
    "# 원본 유지, 정렬결과 적용된 복사본 리턴\n",
    "\n",
    "mylist=[10,20,15,5]\n",
    "print(mylist) # [10, 20, 15, 5]\n",
    "\n",
    "# 오름 차순 정리\n",
    "asc_sorted=sorted(mylist)\n",
    "print(asc_sorted) # [5, 10, 15, 20]\n",
    "\n",
    "# 내림차순 정리, 역순정렬\n",
    "desc_sorted=sorted(mylist, reverse=True)\n",
    "print(desc_sorted) # [20, 15, 10, 5]\n",
    "\n",
    "# 원본 확인\n",
    "print(mylist) # [10, 20, 15, 5]\n"
   ]
  },
  {
   "cell_type": "code",
   "execution_count": 35,
   "id": "fb3f73e0",
   "metadata": {},
   "outputs": [
    {
     "name": "stdout",
     "output_type": "stream",
     "text": [
      "최대값: 20\n",
      "최소값: 5\n",
      "합계: 50\n",
      "평균: 12.5\n",
      "최대값: cherry\n",
      "최소값 appele\n"
     ]
    },
    {
     "ename": "TypeError",
     "evalue": "unsupported operand type(s) for +: 'int' and 'str'",
     "output_type": "error",
     "traceback": [
      "\u001b[31m---------------------------------------------------------------------------\u001b[39m",
      "\u001b[31mTypeError\u001b[39m                                 Traceback (most recent call last)",
      "\u001b[36mCell\u001b[39m\u001b[36m \u001b[39m\u001b[32mIn[35]\u001b[39m\u001b[32m, line 11\u001b[39m\n\u001b[32m      9\u001b[39m \u001b[38;5;28mprint\u001b[39m(\u001b[33m\"\u001b[39m\u001b[33m최대값:\u001b[39m\u001b[33m\"\u001b[39m,\u001b[38;5;28mmax\u001b[39m(my_str)) \n\u001b[32m     10\u001b[39m \u001b[38;5;28mprint\u001b[39m(\u001b[33m\"\u001b[39m\u001b[33m최소값\u001b[39m\u001b[33m\"\u001b[39m,\u001b[38;5;28mmin\u001b[39m(my_str))\n\u001b[32m---> \u001b[39m\u001b[32m11\u001b[39m \u001b[38;5;28mprint\u001b[39m(\u001b[33m\"\u001b[39m\u001b[33m합계\u001b[39m\u001b[33m\"\u001b[39m,\u001b[38;5;28;43msum\u001b[39;49m\u001b[43m(\u001b[49m\u001b[43mmy_str\u001b[49m\u001b[43m)\u001b[49m) \u001b[38;5;66;03m# TypeError , 문자열은 합계 계산불가\u001b[39;00m\n",
      "\u001b[31mTypeError\u001b[39m: unsupported operand type(s) for +: 'int' and 'str'"
     ]
    }
   ],
   "source": [
    "# max(), min(), sum() 함수\n",
    "mylist=[10,20,15,5]\n",
    "print(\"최대값:\",max(mylist)) # 최대값: 20\n",
    "print(\"최소값:\",min(mylist)) # 최소값: 5\n",
    "print(\"합계:\",sum(mylist)) # 합계: 50\n",
    "print(\"평균:\",sum(mylist)/len(mylist)) # 평균: 12.5\n",
    "\n",
    "my_str=[\"appele\",\"banana\",\"cherry\"]\n",
    "print(\"최대값:\",max(my_str)) \n",
    "print(\"최소값\",min(my_str))\n",
    "print(\"합계\",sum(my_str)) # TypeError , 문자열은 합계 계산불가"
   ]
  },
  {
   "cell_type": "code",
   "execution_count": null,
   "id": "a7a2c6a6",
   "metadata": {},
   "outputs": [
    {
     "name": "stdout",
     "output_type": "stream",
     "text": [
      "문자열->리스트: ['P', 'y', 't', 'h', 'o', 'n', '-', 'l', 'i', 's', 't']\n",
      "문자열->튜플: ('P', 'y', 't', 'h', 'o', 'n', '-', 't', 'u', 'p', 'l', 'e')\n"
     ]
    }
   ],
   "source": [
    "# 리스트, 튜플 상호 변환 \n",
    "# 반복 가능한 자료형을 리스트로 변환\n",
    "a=\"Python-list\"\n",
    "b=\"Python-tuple\"\n",
    "print(\"문자열->리스트:\",list(a)) #['P', 'y', 't', 'h', 'o', 'n', '-', 'l', 'i', 's', 't']\n",
    "print(\"문자열->튜플:\",tuple(b)) # ('P', 'y', 't', 'h', 'o', 'n', '-', 't', 'u', 'p', 'l', 'e')\n"
   ]
  },
  {
   "cell_type": "code",
   "execution_count": null,
   "id": "65a25cb2",
   "metadata": {},
   "outputs": [
    {
     "name": "stdout",
     "output_type": "stream",
     "text": [
      "1\n",
      "2\n",
      "2\n",
      "튜플->리스트: [1, 2, 3]\n",
      "튜플->튜플: (1, 2, 3)\n"
     ]
    }
   ],
   "source": [
    "# 튜플을 리스트 혹은 튜플로 변환\n",
    "c=(1,2,3)\n",
    "list_c=list(c)\n",
    "tuple_c=tuple(c)\n",
    "print(tuple_c[1]) #2, 튜플도 대괄호로 접근\n",
    "print(list_c[1]) #2 \n",
    "print(\"튜플->리스트:\",list_c) # 튜플->리스트: [1, 2, 3]\n",
    "print(\"튜플->튜플:\",tuple_c) # 튜플->튜플: (1, 2, 3)"
   ]
  },
  {
   "cell_type": "code",
   "execution_count": null,
   "id": "a252e65f",
   "metadata": {},
   "outputs": [
    {
     "name": "stdout",
     "output_type": "stream",
     "text": [
      "type <class 'range'>\n",
      "range(1, 10)\n",
      "range->list: [1, 2, 3, 4, 5, 6, 7, 8, 9]\n",
      "range with step->list: [1, 4, 7]\n"
     ]
    }
   ],
   "source": [
    "# 1부터 10전까지 1씩 증가하는 range 객체 생성\n",
    "k=range(1,10)\n",
    "print(\"type\",type(k)) # type <class 'range'>\n",
    "print(k) # range(1, 10)\n",
    "\n",
    "# 생성된 수열 객체를 리스트로 변환\n",
    "z=list(k)\n",
    "print(\"range->list:\",z) # range->list: [1, 2, 3, 4, 5, 6, 7, 8, 9]\n",
    "\n",
    "#두개를 한꺼번에 같이 사용해서 3씩 증가하는 수열 생성\n",
    "r=list(range(1,10,3))\n",
    "print(\"range with step->list:\",r) # range with step->list: [1, 4, 7]"
   ]
  },
  {
   "cell_type": "markdown",
   "id": "43ff4524",
   "metadata": {},
   "source": [
    "### 객체 (Object)\n",
    "객체 = 필요에 따라 다른 변수와 함수를 내장하고 있는 특수한 변수 \n",
    "\n",
    "파이썬은 객체지향 언어\n",
    ">객체지향 언어 : 현실세계에 존재하는 것을 프로그래밍 언어로 표현한 것 "
   ]
  },
  {
   "cell_type": "code",
   "execution_count": null,
   "id": "320a0f7f",
   "metadata": {},
   "outputs": [
    {
     "name": "stdout",
     "output_type": "stream",
     "text": [
      "5의 개수 : 3\n",
      "10의 개수 : 0\n"
     ]
    }
   ],
   "source": [
    "# count(원소) : 리스트 내 특정 원소의 개수 반환\n",
    "mylist=[1,2,3,4,4,5,5,5]\n",
    "print(\"5의 개수 :\", mylist.count(5)) # 5의 개수 : 3\n",
    "\n",
    "# 존재하지 않는 원소는 0 반환\n",
    "print(\"10의 개수 :\", mylist.count(10)) # 10의 개수 : 0"
   ]
  },
  {
   "cell_type": "code",
   "execution_count": null,
   "id": "82493135",
   "metadata": {},
   "outputs": [
    {
     "name": "stdout",
     "output_type": "stream",
     "text": [
      "3의 인덱스: 2\n"
     ]
    },
    {
     "ename": "ValueError",
     "evalue": "6 is not in list",
     "output_type": "error",
     "traceback": [
      "\u001b[31m---------------------------------------------------------------------------\u001b[39m",
      "\u001b[31mValueError\u001b[39m                                Traceback (most recent call last)",
      "\u001b[36mCell\u001b[39m\u001b[36m \u001b[39m\u001b[32mIn[53]\u001b[39m\u001b[32m, line 4\u001b[39m\n\u001b[32m      2\u001b[39m mylist=[\u001b[32m1\u001b[39m,\u001b[32m2\u001b[39m,\u001b[32m3\u001b[39m,\u001b[32m4\u001b[39m,\u001b[32m4\u001b[39m,\u001b[32m5\u001b[39m,\u001b[32m5\u001b[39m,\u001b[32m5\u001b[39m]\n\u001b[32m      3\u001b[39m \u001b[38;5;28mprint\u001b[39m(\u001b[33m\"\u001b[39m\u001b[33m3의 인덱스:\u001b[39m\u001b[33m\"\u001b[39m, mylist.index(\u001b[32m3\u001b[39m)) \u001b[38;5;66;03m# 3의 인덱스: \u001b[39;00m\n\u001b[32m----> \u001b[39m\u001b[32m4\u001b[39m \u001b[38;5;28mprint\u001b[39m(\u001b[33m\"\u001b[39m\u001b[33m못찾아 인덱스:\u001b[39m\u001b[33m\"\u001b[39m,\u001b[43mmylist\u001b[49m\u001b[43m.\u001b[49m\u001b[43mindex\u001b[49m\u001b[43m(\u001b[49m\u001b[32;43m6\u001b[39;49m\u001b[43m)\u001b[49m)\n",
      "\u001b[31mValueError\u001b[39m: 6 is not in list"
     ]
    }
   ],
   "source": [
    "# index(원소) : 리스트 내 특정 원소의 인덱스 반환\n",
    "mylist=[1,2,3,4,4,5,5,5]\n",
    "print(\"3의 인덱스:\", mylist.index(3)) # 3의 인덱스: \n",
    "print(\"못찾아 인덱스:\",mylist.index(6)) #ValueError: 6 is not in list"
   ]
  },
  {
   "cell_type": "code",
   "execution_count": 56,
   "id": "cbd1cfba",
   "metadata": {},
   "outputs": [
    {
     "name": "stdout",
     "output_type": "stream",
     "text": [
      "append: [1, 2, 3, 4]\n",
      "append 2차 리스트: [1, 2, 3, 4, [5, 6]]\n"
     ]
    }
   ],
   "source": [
    "# append(원소) : 리스트 마지막에 원소 추가 -> 원본 변경\n",
    "mylist=[1,2,3]\n",
    "mylist.append(4)\n",
    "print(\"append:\",mylist) # append: [1, 2, 3, 4]\n",
    "\n",
    "#리스트를 append로 추가 할 경우, 2차 리스트로 삽입\n",
    "mylist.append([5,6])\n",
    "print(\"append 2차 리스트:\",mylist) # append 2차 리스트: [1, 2, 3, 4, [5, 6]]"
   ]
  },
  {
   "cell_type": "code",
   "execution_count": null,
   "id": "da69aa7b",
   "metadata": {},
   "outputs": [
    {
     "name": "stdout",
     "output_type": "stream",
     "text": [
      "중간삽입: [1, 10, 2, 3]\n",
      "맨 앞 삽입: [20, 1, 10, 2, 3]\n",
      "맨 뒤 삽입: [20, 1, 10, 2, 3, 30]\n",
      "끝에서 두번째 삽입: [20, 1, 10, 2, 3, 25, 30]\n"
     ]
    }
   ],
   "source": [
    "# insert(인덱스,원소) : 리스트 특정 위치에 원소 삽입 -> 원본 변경\n",
    "mylist=[1,2,3]\n",
    "mylist.insert(1,10) # 1번 인덱스 위치에 10 삽입\n",
    "print(\"중간삽입:\",mylist) # 중간삽입: [1, 10, 2, 3]\n",
    "\n",
    "mylist.insert(0,20) # 0번 인덱스 위치에 20 삽입\n",
    "print(\"맨 앞 삽입:\",mylist) # 맨 앞 삽입: [20, 1, 10, 2, 3]\n",
    "\n",
    "mylist.insert(len(mylist),30) # 맨 뒤에 30 삽입 , append와 동일\n",
    "print(\"맨 뒤 삽입:\",mylist) # 맨 뒤 삽입: [20, 1, 10, 2, 3, 30]\n",
    "\n",
    "# 음수 인덱스도 가능\n",
    "mylist.insert(-1,25) # -1은 끝이지만 지정 인덱스 앞에 삽입\n",
    "print(\"지정 인덱스 앞에 삽입:\",mylist) # 지정 인덱스 앞에 삽입: [20, 1, 10, 2, 3, 25, 30]"
   ]
  },
  {
   "cell_type": "code",
   "execution_count": 6,
   "id": "e551f6cf",
   "metadata": {},
   "outputs": [
    {
     "name": "stdout",
     "output_type": "stream",
     "text": [
      "삭제된 원소 반환: 3\n",
      "원본변경: [1, 2, 4, 5]\n",
      "삭제된 원소 반환: 5\n",
      "원본변경: [1, 2, 4]\n"
     ]
    },
    {
     "ename": "IndexError",
     "evalue": "pop index out of range",
     "output_type": "error",
     "traceback": [
      "\u001b[31m---------------------------------------------------------------------------\u001b[39m",
      "\u001b[31mIndexError\u001b[39m                                Traceback (most recent call last)",
      "\u001b[36mCell\u001b[39m\u001b[36m \u001b[39m\u001b[32mIn[6]\u001b[39m\u001b[32m, line 13\u001b[39m\n\u001b[32m     10\u001b[39m \u001b[38;5;28mprint\u001b[39m(\u001b[33m\"\u001b[39m\u001b[33m원본변경:\u001b[39m\u001b[33m\"\u001b[39m,mylist) \u001b[38;5;66;03m# 원본변경: [1, 2, 4]\u001b[39;00m\n\u001b[32m     12\u001b[39m \u001b[38;5;66;03m#존재하지 않는 인덱스 지정시 IndexError 발생\u001b[39;00m\n\u001b[32m---> \u001b[39m\u001b[32m13\u001b[39m k=\u001b[43mmylist\u001b[49m\u001b[43m.\u001b[49m\u001b[43mpop\u001b[49m\u001b[43m(\u001b[49m\u001b[32;43m4\u001b[39;49m\u001b[43m)\u001b[49m \u001b[38;5;66;03m# IndexError: pop index out of range\u001b[39;00m\n",
      "\u001b[31mIndexError\u001b[39m: pop index out of range"
     ]
    }
   ],
   "source": [
    "# pop(인덱스) : 리스트 특정 위치의 원소 삭제 후 반환 -> 원본 변경\n",
    "mylist=[1,2,3,4,5]\n",
    "k=mylist.pop(2) #2번 인덱스 원소 삭제 \n",
    "print(\"삭제된 원소 반환:\",k) # 삭제된 원소 반환: 3\n",
    "print(\"원본변경:\",mylist) # 원본변경: [1, 2, 4, 5]\n",
    "\n",
    "#인덱스 미지정시 마지막 원소 삭제\n",
    "k=mylist.pop()\n",
    "print(\"삭제된 원소 반환:\",k) # 삭제된 원소 반환: 5\n",
    "print(\"원본변경:\",mylist) # 원본변경: [1, 2, 4]\n",
    "\n",
    "#존재하지 않는 인덱스 지정시 IndexError 발생\n",
    "k=mylist.pop(4) # IndexError: pop index out of range"
   ]
  },
  {
   "cell_type": "code",
   "execution_count": 7,
   "id": "8b411d9b",
   "metadata": {},
   "outputs": [
    {
     "name": "stdout",
     "output_type": "stream",
     "text": [
      "[1, 2, 3, 4, 5, 6]\n",
      "[1, 2, 3, 4, 5, 6, 'a', 'b', 'c']\n"
     ]
    }
   ],
   "source": [
    "# extend(리스트) : 리스트 확장 , 원본 변경\n",
    "# append와 다르게 리스트를 풀어서 각각의 원소를 추가\n",
    "mylist=[1,2,3]\n",
    "mylist.extend([4,5,6])\n",
    "print(mylist) # [1, 2, 3, 4, 5, 6]\n",
    "\n",
    "#문자열도 확장 가능\n",
    "mylist.extend(\"abc\")\n",
    "print(mylist) # [1, 2, 3, 4, 5, 6, 'a', 'b', 'c']"
   ]
  },
  {
   "cell_type": "code",
   "execution_count": null,
   "id": "d5361cce",
   "metadata": {},
   "outputs": [
    {
     "name": "stdout",
     "output_type": "stream",
     "text": [
      "첫번째 10 삭제: [1, 2, 3, 1, 2, 3, 10]\n"
     ]
    },
    {
     "ename": "ValueError",
     "evalue": "list.remove(x): x not in list",
     "output_type": "error",
     "traceback": [
      "\u001b[31m---------------------------------------------------------------------------\u001b[39m",
      "\u001b[31mValueError\u001b[39m                                Traceback (most recent call last)",
      "\u001b[36mCell\u001b[39m\u001b[36m \u001b[39m\u001b[32mIn[8]\u001b[39m\u001b[32m, line 7\u001b[39m\n\u001b[32m      4\u001b[39m \u001b[38;5;28mprint\u001b[39m(\u001b[33m\"\u001b[39m\u001b[33m첫번째 10 삭제:\u001b[39m\u001b[33m\"\u001b[39m,mylist) \u001b[38;5;66;03m# 첫번째 10 삭제: [1, 2, 3, 1, 2, 3, 10]\u001b[39;00m\n\u001b[32m      6\u001b[39m \u001b[38;5;66;03m# 존재하지 않는 원소 삭제시 ValueError 발생\u001b[39;00m\n\u001b[32m----> \u001b[39m\u001b[32m7\u001b[39m \u001b[43mmylist\u001b[49m\u001b[43m.\u001b[49m\u001b[43mremove\u001b[49m\u001b[43m(\u001b[49m\u001b[32;43m20\u001b[39;49m\u001b[43m)\u001b[49m \u001b[38;5;66;03m# ValueError: list.remove(x): x not in list\u001b[39;00m\n",
      "\u001b[31mValueError\u001b[39m: list.remove(x): x not in list"
     ]
    }
   ],
   "source": [
    "# remove(원소) : 주어진 첫번째 원소 삭제 -> 원본 변경\n",
    "mylist=[1,2,3,10,1,2,3,10]\n",
    "mylist.remove(10)\n",
    "print(\"첫번째 10 삭제:\",mylist) # 첫번째 10 삭제: [1, 2, 3, 1, 2, 3, 10]\n",
    "\n",
    "# 존재하지 않는 원소 삭제시 ValueError 발생\n",
    "mylist.remove(20) # ValueError: list.remove(x): x not in list\n"
   ]
  },
  {
   "cell_type": "code",
   "execution_count": 10,
   "id": "fd433b88",
   "metadata": {},
   "outputs": [
    {
     "name": "stdout",
     "output_type": "stream",
     "text": [
      "역순정렬: [5, 4, 3, 2, 1]\n",
      "반환값: None\n",
      "문자열 역순정렬: ['cherry', 'banana', 'apple']\n"
     ]
    }
   ],
   "source": [
    "# reverse() : 리스트 원소 역순 정렬 -> 원본 변경\n",
    "mylist=[1,2,3,4,5]\n",
    "mylist.reverse()\n",
    "print(\"역순정렬:\",mylist) # 역순정렬: [5, 4, 3, 2, 1]\n",
    "\n",
    "# 반환값은 None\n",
    "result=mylist.reverse()\n",
    "print(\"반환값:\",result) # 반환값: None\n",
    "\n",
    "# 숫자 뿐만 아니라 문자열도 역순 정렬 가능\n",
    "str_list=[\"apple\",\"banana\",\"cherry\"]\n",
    "str_list.reverse()\n",
    "print(\"문자열 역순정렬:\",str_list) # 문자열 역순정렬: ['cherry', 'banana', 'apple']"
   ]
  },
  {
   "cell_type": "code",
   "execution_count": null,
   "id": "48f30140",
   "metadata": {},
   "outputs": [
    {
     "name": "stdout",
     "output_type": "stream",
     "text": [
      "반환값: None\n",
      "오름차순: [5, 10, 15, 20]\n",
      "내림차순: [20, 15, 10, 5]\n"
     ]
    },
    {
     "ename": "TypeError",
     "evalue": "'<' not supported between instances of 'str' and 'int'",
     "output_type": "error",
     "traceback": [
      "\u001b[31m---------------------------------------------------------------------------\u001b[39m",
      "\u001b[31mTypeError\u001b[39m                                 Traceback (most recent call last)",
      "\u001b[36mCell\u001b[39m\u001b[36m \u001b[39m\u001b[32mIn[13]\u001b[39m\u001b[32m, line 11\u001b[39m\n\u001b[32m      9\u001b[39m \u001b[38;5;66;03m# 숫자열+ 문자열 혼합 리스트 정렬시 TypeError 발생\u001b[39;00m\n\u001b[32m     10\u001b[39m mixed_list=[\u001b[32m10\u001b[39m,\u001b[33m\"\u001b[39m\u001b[33mapple\u001b[39m\u001b[33m\"\u001b[39m,\u001b[32m5\u001b[39m,\u001b[33m\"\u001b[39m\u001b[33mbanana\u001b[39m\u001b[33m\"\u001b[39m]\n\u001b[32m---> \u001b[39m\u001b[32m11\u001b[39m \u001b[43mmixed_list\u001b[49m\u001b[43m.\u001b[49m\u001b[43msort\u001b[49m\u001b[43m(\u001b[49m\u001b[43m)\u001b[49m \u001b[38;5;66;03m# TypeError: '<' not supported between instances of 'str' and\u001b[39;00m\n",
      "\u001b[31mTypeError\u001b[39m: '<' not supported between instances of 'str' and 'int'"
     ]
    }
   ],
   "source": [
    "# sort() : 리스트 원소 정렬(오름차순, 내림차순) -> 원본 변경\n",
    "mylist=[10,20,15,5]\n",
    "mylist.sort()\n",
    "print(\"반환값:\",mylist.sort())\n",
    "print(\"오름차순:\",mylist) # 오름차순: [5, 10, 15, 20]\n",
    "mylist.sort(reverse=True)\n",
    "print(\"내림차순:\",mylist) # 내림차순: [20, 15, 10, 5]\n",
    "\n",
    "# 숫자열+ 문자열 혼합 리스트 정렬시 TypeError 발생\n",
    "mixed_list=[10,\"apple\",5,\"banana\"]\n",
    "mixed_list.sort() # TypeError 발생\n"
   ]
  },
  {
   "cell_type": "code",
   "execution_count": 19,
   "id": "31d263aa",
   "metadata": {},
   "outputs": [
    {
     "name": "stdout",
     "output_type": "stream",
     "text": [
      "str->list ['apple', 'banana', 'cherry']\n",
      "연속된 구분자: ['apple', '', 'banana', '', 'cherry']\n",
      "maxsplit=2: ['apple', 'banana', 'cherry,grape']\n"
     ]
    }
   ],
   "source": [
    "#split() : 문자열을 주어진 글자를 기준으로 분리하여 리스트로 변환 -> 원본 변경\n",
    "str1=\"apple,banana,cherry\"\n",
    "text_list=str.split(\",\")\n",
    "print(\"str->list\",text_list) # str->list ['apple', 'banana', 'cherry']\n",
    "\n",
    "#연속된 구분자가 있을 경우 빈 문자열도 원소로 포함\n",
    "str2=\"apple,,banana,,cherry\"\n",
    "text_list2=str2.split(\",\")\n",
    "print(\"연속된 구분자:\",text_list2) # 연속된 구분자: ['apple', '', 'banana', '', 'cherry']\n",
    "\n",
    "#maxsplit 인자 사용-> 분리횟수 제한 가능 \n",
    "str3=\"apple,banana,cherry,grape\"\n",
    "text_list3=str3.split(\",\",maxsplit=2) # 분리횟수 2회로 제한\n",
    "print(\"maxsplit=2:\",text_list3) # maxsplit=2: ['apple', 'banana', 'cherry,grape']"
   ]
  },
  {
   "cell_type": "code",
   "execution_count": 1,
   "id": "4e644dd9",
   "metadata": {},
   "outputs": [
    {
     "name": "stdout",
     "output_type": "stream",
     "text": [
      "apple#banana#cherry\n",
      "['apple', 'banana', 'cherry']\n",
      "숫자 결합: 1,2,3\n"
     ]
    }
   ],
   "source": [
    "#join() : 리스트를 문자열로 결합 \n",
    "words=['apple', 'banana', 'cherry']\n",
    "dl=\"#\"\n",
    "result=dl.join(words)\n",
    "print(result) # apple#banana#cherry\n",
    "print(words) # ['apple', 'banana', 'cherry'] 원본은 변경되지 않음\n",
    "\n",
    "#리스트의 모든 원소가 문자열이어야 함 \n",
    "# 숫자를 결합 -> str() 변환 필요\n",
    "numbers=[1,2,3]\n",
    "result=\",\".join(str(num) for num in numbers)\n",
    "print(\"숫자 결합:\",result) # 숫자 결합: 1,2,3\n",
    "\n"
   ]
  },
  {
   "cell_type": "code",
   "execution_count": null,
   "id": "26ac5155",
   "metadata": {},
   "outputs": [
    {
     "name": "stdout",
     "output_type": "stream",
     "text": [
      "(몫,나머지): (2, 1)\n",
      "2 분 5 초\n",
      "12 kg 345 g\n",
      "음수몫나머지: (-3, 2)\n"
     ]
    }
   ],
   "source": [
    "#divmod() : 두 수의 몫과 나머지를 튜플로 반환\n",
    "c=divmod(7,3)\n",
    "print(\"(몫,나머지):\",c) # (몫,나머지): (2, 1)\n",
    "\n",
    "# 시간변환 식\n",
    "minutes,seconds=divmod(125,60)\n",
    "print(minutes,\"분\",seconds,\"초\") # 2 분 5 초\n",
    "\n",
    "# 단위변환\n",
    "kg,g=divmod(12345,1000)\n",
    "print(kg,\"kg\",g,\"g\") # 12 kg 345 g\n",
    "\n",
    "# 음수에도 적용 가능\n",
    "neg_result=divmod(-7,3)\n",
    "print(\"음수몫나머지:\",neg_result) # 음수몫나머지: (-3, 2)\n"
   ]
  },
  {
   "cell_type": "markdown",
   "id": "2cefe5cd",
   "metadata": {},
   "source": [
    "## 문자열의 이해 \n",
    "### 문자열\n",
    "쌍따옴표나 홑따옴표로 문장 감싸기,\n",
    "> 앞,뒤로 서로 다른 따옴표는 에러 발생\n",
    "\n",
    "> 쌍따옴표로 감쌀 때는 내부에 홑따옴표 사용 가능\n",
    "\n",
    "> 홑따옴표로 감쌀 때는 내부에 쌍따옴표 사용 가능\n"
   ]
  },
  {
   "cell_type": "code",
   "execution_count": null,
   "id": "e953323f",
   "metadata": {},
   "outputs": [
    {
     "name": "stdout",
     "output_type": "stream",
     "text": [
      "He said, \"It's a nice day\" \n"
     ]
    }
   ],
   "source": [
    "# 따옴표 에러\n",
    "# msg1='Hello, world!\"  # 에러발생\n",
    "# msg2=\"Hello, world!'  # 에러발생\n",
    "\n",
    "# 혼용사용\n",
    "msg3='He said,\"Hello\"'\n",
    "msg4=\"It's a nice day\"\n",
    "\n",
    "# 삼중 따옴표 사용\n",
    "msg5=\"\"\"He said, \"It's a nice day\" \"\"\" # He said, \"It's a nice day\" \n",
    "print(msg5)"
   ]
  },
  {
   "cell_type": "code",
   "execution_count": null,
   "id": "a61a79fe",
   "metadata": {},
   "outputs": [
    {
     "name": "stdout",
     "output_type": "stream",
     "text": [
      "H\n",
      "e\n",
      "l\n",
      "l\n",
      "o\n",
      "H\n",
      "e\n",
      "l\n",
      "l\n",
      "o\n"
     ]
    }
   ],
   "source": [
    "# 반복문 문자열 탐색 \n",
    "mymsg=\"Hello\" # [H, e, l, l, o]<- 이렇게 저장됨\n",
    "for msg in mymsg:\n",
    "    print(msg) # H, e, l, l, o\n",
    "\n",
    "# 인덱스로 접근\n",
    "for i in range(len(mymsg)):\n",
    "    print(mymsg[i]) # H, e, l, l, o\n"
   ]
  },
  {
   "cell_type": "code",
   "execution_count": null,
   "id": "6cf1196b",
   "metadata": {},
   "outputs": [
    {
     "name": "stdout",
     "output_type": "stream",
     "text": [
      "Hello World\n",
      "1000200\n",
      "1200\n"
     ]
    },
    {
     "ename": "TypeError",
     "evalue": "can only concatenate str (not \"int\") to str",
     "output_type": "error",
     "traceback": [
      "\u001b[31m---------------------------------------------------------------------------\u001b[39m",
      "\u001b[31mTypeError\u001b[39m                                 Traceback (most recent call last)",
      "\u001b[36mCell\u001b[39m\u001b[36m \u001b[39m\u001b[32mIn[91]\u001b[39m\u001b[32m, line 13\u001b[39m\n\u001b[32m     10\u001b[39m \u001b[38;5;28mprint\u001b[39m(\u001b[38;5;28mint\u001b[39m(pay)+\u001b[38;5;28mint\u001b[39m(bonus)) \u001b[38;5;66;03m# 1200\u001b[39;00m\n\u001b[32m     12\u001b[39m \u001b[38;5;66;03m# 문자열 + 다른 데이터 타입 불가능\u001b[39;00m\n\u001b[32m---> \u001b[39m\u001b[32m13\u001b[39m \u001b[38;5;28mprint\u001b[39m(\u001b[43mstr1\u001b[49m\u001b[43m+\u001b[49m\u001b[32;43m100\u001b[39;49m) \u001b[38;5;66;03m# TypeError\u001b[39;00m\n\u001b[32m     14\u001b[39m \u001b[38;5;28mprint\u001b[39m(pay+\u001b[32m200\u001b[39m) \u001b[38;5;66;03m# TypeError\u001b[39;00m\n",
      "\u001b[31mTypeError\u001b[39m: can only concatenate str (not \"int\") to str"
     ]
    }
   ],
   "source": [
    "# 문자열의 덧셈 \n",
    "str1=\"Hello\"\n",
    "str2=\"World\"\n",
    "print(str1+\" \"+str2) # Hello World\n",
    "print(str1+str2) # HelloWorld\n",
    "\n",
    "# 따옴표로 감싸면 무조건 문자열로 인식\n",
    "pay=\"1000\"\n",
    "bonus=\"200\"\n",
    "print(pay+bonus) # 1000200\n",
    "print(int(pay)+int(bonus)) # 1200\n",
    "\n",
    "# 문자열 + 다른 데이터 타입 불가능\n",
    "print(str1+100) # TypeError\n",
    "print(pay+200) # TypeError\n",
    "\n",
    "# 혼용사용 , str() 변환 필요\n",
    "print(str1+str(100)) # Hello100\n",
    "\n",
    "# 여러 문자열 결합\n",
    "greeting=\"안녕\"+\"하세요\"+\"Python\"\n",
    "print(greeting) # 안녕하세요Python"
   ]
  },
  {
   "cell_type": "code",
   "execution_count": 14,
   "id": "c33358d9",
   "metadata": {},
   "outputs": [
    {
     "name": "stdout",
     "output_type": "stream",
     "text": [
      "PythonPythonPython\n",
      "\n",
      "\n",
      "----------\n"
     ]
    }
   ],
   "source": [
    "# 문자열의 곱셈\n",
    "name=\"Python\"\n",
    "print(name*3) # PythonPythonPython\n",
    "\n",
    "# 0또는 음수 : 빈문자열 반환    \n",
    "print(name*0) #  빈문자열 출력\n",
    "print(name*-2) #  빈문자열 출력\n",
    "\n",
    "# 실수 사용 불가 \n",
    "# print(\"Python\"*2.2) # TypeError, 정수만 가능\n",
    "# print(\"Python\"*\"Python\") # TypeError, 문자열끼리의 곱셈은 불가능\n",
    "\n",
    "# 문자열의 곱셈 예시 2\n",
    "print(\"-\"*10) # ----------"
   ]
  },
  {
   "cell_type": "code",
   "execution_count": 105,
   "id": "8532a1b3",
   "metadata": {},
   "outputs": [
    {
     "name": "stdout",
     "output_type": "stream",
     "text": [
      "Hello\n",
      "World\n",
      "Hello\tWorld\n",
      "Hello \"World\" \n",
      "Hello 'World' \n",
      "Hello \\ World\n",
      "Hello\\qWorld\n"
     ]
    },
    {
     "name": "stderr",
     "output_type": "stream",
     "text": [
      "<>:19: SyntaxWarning: invalid escape sequence '\\q'\n",
      "<>:19: SyntaxWarning: invalid escape sequence '\\q'\n",
      "/var/folders/sz/hrcmd42n7wq5zq5yyzkkd7sr0000gn/T/ipykernel_44987/2188243476.py:19: SyntaxWarning: invalid escape sequence '\\q'\n",
      "  print(\"Hello\\qWorld\") # Hello\\qWorld\n"
     ]
    }
   ],
   "source": [
    "# 이스케이프 문자\n",
    "\n",
    "# \\n : 줄바꿈(개행문자)\n",
    "print(\"Hello\\nWorld\")\n",
    "\n",
    "# \\t : 탭 문자(스페이스 4칸 정도)\n",
    "print(\"Hello\\tWorld\") # Hello    World\n",
    "\n",
    "# \\\" : 쌍따옴표 출력\n",
    "print(\"Hello \\\"World\\\" \") # Hello \"World\"\n",
    "\n",
    "# \\' : 홑따옴표 출력\n",
    "print('Hello \\'World\\' ') # Hello 'World'\n",
    "\n",
    "# \\\\ : 역슬래시 출력\n",
    "print(\"Hello \\\\ World\") # Hello \\ World\n",
    "\n",
    "# 이상한 이스케이프\n",
    "print(\"Hello\\qWorld\") # Hello\\qWorld"
   ]
  },
  {
   "cell_type": "code",
   "execution_count": null,
   "id": "1f8e4d7a",
   "metadata": {},
   "outputs": [
    {
     "name": "stdout",
     "output_type": "stream",
     "text": [
      "P\n",
      "y\n",
      "n\n",
      "o\n",
      "Hello\n",
      "World\n",
      "Hello\n",
      "World\n",
      "Hello World\n",
      "HloWrd\n",
      "dlroW olleH\n"
     ]
    },
    {
     "ename": "IndexError",
     "evalue": "string index out of range",
     "output_type": "error",
     "traceback": [
      "\u001b[31m---------------------------------------------------------------------------\u001b[39m",
      "\u001b[31mIndexError\u001b[39m                                Traceback (most recent call last)",
      "\u001b[36mCell\u001b[39m\u001b[36m \u001b[39m\u001b[32mIn[22]\u001b[39m\u001b[32m, line 19\u001b[39m\n\u001b[32m     16\u001b[39m \u001b[38;5;28mprint\u001b[39m(mystr[::-\u001b[32m1\u001b[39m]) \u001b[38;5;66;03m# dlroW olleH , 역순출력\u001b[39;00m\n\u001b[32m     18\u001b[39m \u001b[38;5;66;03m# 존재하지 않는 인덱스 지정시 IndexError 발생\u001b[39;00m\n\u001b[32m---> \u001b[39m\u001b[32m19\u001b[39m \u001b[38;5;28mprint\u001b[39m(\u001b[43mmystr\u001b[49m\u001b[43m[\u001b[49m\u001b[32;43m20\u001b[39;49m\u001b[43m]\u001b[49m) \u001b[38;5;66;03m# IndexError: string index out of range\u001b[39;00m\n\u001b[32m     21\u001b[39m \u001b[38;5;66;03m# 슬라이싱에 사용되는 인덱스 번호의 순서가 잘못되면 출력되는 내용 없음\u001b[39;00m\n\u001b[32m     22\u001b[39m \u001b[38;5;28mprint\u001b[39m(mystr[\u001b[32m5\u001b[39m:\u001b[32m2\u001b[39m]) \u001b[38;5;66;03m# 빈문자열 출력\u001b[39;00m\n",
      "\u001b[31mIndexError\u001b[39m: string index out of range"
     ]
    }
   ],
   "source": [
    "# 문자열 인덱싱 -> 문자열 변수 이름뒤에 대괄호 [] 사용\n",
    "mystr=\"Python\"\n",
    "print(mystr[0]) # P \n",
    "print(mystr[1]) # y\n",
    "print(mystr[-1]) # n \n",
    "print(mystr[-2]) # o\n",
    "\n",
    "# 문자열 슬라이싱\n",
    "mystr=\"Hello World\"\n",
    "print(mystr[0:5]) # Hello , 0~4번 인덱스\n",
    "print(mystr[6:11]) # World , 6~10번 인덱스\n",
    "print(mystr[:5]) # Hello , 시작인덱스 생략\n",
    "print(mystr[6:]) # World , 끝인덱스 생략\n",
    "print(mystr[:]) # Hello World , 처음부터 끝까지 \n",
    "print(mystr[::2]) # HloWrd , 2칸씩 건너뛰기\n",
    "print(mystr[::-1]) # dlroW olleH , 역순출력\n",
    "\n",
    "# 존재하지 않는 인덱스 지정시 IndexError 발생\n",
    "print(mystr[20]) # IndexError: string index out of range\n",
    "\n",
    "# 슬라이싱에 사용되는 인덱스 번호의 순서가 잘못되면 출력되는 내용 없음\n",
    "print(mystr[5:2]) # 빈문자열 출력 , 시작인덱스가 끝인덱스보다 큼"
   ]
  },
  {
   "cell_type": "markdown",
   "id": "93c770a9",
   "metadata": {},
   "source": []
  },
  {
   "cell_type": "markdown",
   "id": "82d84cb9",
   "metadata": {},
   "source": [
    "## 문자열 포맷팅\n",
    "특정 값이 치환될 형식 문자를 포함한 문자열의 형식을 미리 정해 놓고 형식 문자에 특정 변수 값을 적용하여 완성된 문자열을 만드는 방법"
   ]
  },
  {
   "cell_type": "code",
   "execution_count": 108,
   "id": "4942228b",
   "metadata": {},
   "outputs": [
    {
     "name": "stdout",
     "output_type": "stream",
     "text": [
      "나는 25세 입니다.\n",
      "나는 20세이고, 키는 170cm 입니다.\n"
     ]
    }
   ],
   "source": [
    "# % 문자열 포맷팅 - %d: 정수형\n",
    "str=\"나는 %d세 입니다.\"\n",
    "print(str % 25) # 나는 25세 입니다.\n",
    "\n",
    "# 두개 이상은 소괄호로 묶기\n",
    "str=\"나는 %d세이고, 키는 %dcm 입니다.\"\n",
    "print(str % (20,170)) # 나는 20세이고, 키는 170cm 입니다."
   ]
  },
  {
   "cell_type": "code",
   "execution_count": null,
   "id": "18235c49",
   "metadata": {},
   "outputs": [
    {
     "name": "stdout",
     "output_type": "stream",
     "text": [
      "금액은 1234.567890원입니다.\n"
     ]
    }
   ],
   "source": [
    "# %f - 실수형\n",
    "money=1234.56789\n",
    "print(\"금액은 %f원입니다.\" % money) #금액은 1234.567890원입니다.\n"
   ]
  },
  {
   "cell_type": "code",
   "execution_count": 110,
   "id": "8a9b32c3",
   "metadata": {},
   "outputs": [
    {
     "name": "stdout",
     "output_type": "stream",
     "text": [
      "이 과일은 사과입니다.\n"
     ]
    }
   ],
   "source": [
    "# %s - 문자열형\n",
    "name=\"사과\"\n",
    "print(\"이 과일은 %s입니다.\" % name) # 이 과일은 사과입니다."
   ]
  },
  {
   "cell_type": "code",
   "execution_count": null,
   "id": "59c73065",
   "metadata": {},
   "outputs": [
    {
     "name": "stdout",
     "output_type": "stream",
     "text": [
      "오늘 비올 확률은 50%입니다.\n",
      "오늘 비올 확률은 50%%입니다.\n"
     ]
    }
   ],
   "source": [
    "# %% - 문자 % 출력\n",
    "print(\"오늘 비올 확률은 50%%입니다.\" %())\n",
    "print(\"오늘 비올 확률은 50%%입니다.\") # 오늘 비올 확률은 50%%입니다."
   ]
  },
  {
   "cell_type": "code",
   "execution_count": null,
   "id": "c73af063",
   "metadata": {},
   "outputs": [
    {
     "name": "stdout",
     "output_type": "stream",
     "text": [
      "오늘 날짜는 2025년 6월 27일 입니다.\n"
     ]
    },
    {
     "ename": "TypeError",
     "evalue": "not enough arguments for format string",
     "output_type": "error",
     "traceback": [
      "\u001b[31m---------------------------------------------------------------------------\u001b[39m",
      "\u001b[31mTypeError\u001b[39m                                 Traceback (most recent call last)",
      "\u001b[36mCell\u001b[39m\u001b[36m \u001b[39m\u001b[32mIn[15]\u001b[39m\u001b[32m, line 9\u001b[39m\n\u001b[32m      3\u001b[39m \u001b[38;5;28mprint\u001b[39m(str3 % (\u001b[33m\"\u001b[39m\u001b[33m오늘\u001b[39m\u001b[33m\"\u001b[39m,\u001b[32m2025\u001b[39m,\u001b[32m6\u001b[39m,\u001b[32m27\u001b[39m)) \u001b[38;5;66;03m# 오늘 날짜는 2025년 6월 27일 입니다.\u001b[39;00m\n\u001b[32m      5\u001b[39m \u001b[38;5;66;03m# wrong_str3=\"%d 날짜는 %d년 %d월 %d일 입니다.\"\u001b[39;00m\n\u001b[32m      6\u001b[39m \u001b[38;5;66;03m# print(wrong_str3 % (\"오늘\",2025,6,27)) # TypeError\u001b[39;00m\n\u001b[32m      7\u001b[39m \n\u001b[32m      8\u001b[39m \u001b[38;5;66;03m# 값의 개수가 형식 문자 개수와 맞지 않을 때 TypeError 발생\u001b[39;00m\n\u001b[32m----> \u001b[39m\u001b[32m9\u001b[39m \u001b[38;5;28mprint\u001b[39m(\u001b[43mstr3\u001b[49m\u001b[43m \u001b[49m\u001b[43m%\u001b[49m\u001b[43m \u001b[49m\u001b[43m(\u001b[49m\u001b[33;43m\"\u001b[39;49m\u001b[33;43m오늘\u001b[39;49m\u001b[33;43m\"\u001b[39;49m\u001b[43m,\u001b[49m\u001b[32;43m2025\u001b[39;49m\u001b[43m,\u001b[49m\u001b[32;43m6\u001b[39;49m\u001b[43m)\u001b[49m) \u001b[38;5;66;03m# TypeError\u001b[39;00m\n",
      "\u001b[31mTypeError\u001b[39m: not enough arguments for format string"
     ]
    }
   ],
   "source": [
    "# 두 개 이상의 형식문자 사용\n",
    "str3=\"%s 날짜는 %d년 %d월 %d일 입니다.\"\n",
    "print(str3 % (\"오늘\",2025,6,27)) # 오늘 날짜는 2025년 6월 27일 입니다.\n",
    "\n",
    "# wrong_str3=\"%d 날짜는 %d년 %d월 %d일 입니다.\"\n",
    "# print(wrong_str3 % (\"오늘\",2025,6,27)) # TypeError\n",
    "\n",
    "# 값의 개수가 형식 문자 개수와 맞지 않을 때 TypeError 발생\n",
    "# print(str3 % (\"오늘\",2025,6)) # TypeError"
   ]
  },
  {
   "cell_type": "code",
   "execution_count": null,
   "id": "55eb496d",
   "metadata": {},
   "outputs": [
    {
     "name": "stdout",
     "output_type": "stream",
     "text": [
      "[      1000]원을 입금했습니다.\n",
      "[1222222222222]원을 입금했습니다.\n"
     ]
    }
   ],
   "source": [
    "# 정수형 %d에 자릿수 지정\n",
    "# %nd: 출력되는 숫자를 n자리로 맞추어 , 오른쪽 정렬, 빈칸은 공백으로 채움\n",
    "print(\"[%10d]원을 입금했습니다.\" % 1000)\n",
    "print(\"[%10d]원을 입금했습니다.\" % 1222222222222) #초과해도 그냥 출력 , 자릿수 무시 "
   ]
  },
  {
   "cell_type": "code",
   "execution_count": 23,
   "id": "880602e7",
   "metadata": {},
   "outputs": [
    {
     "name": "stdout",
     "output_type": "stream",
     "text": [
      "[0000001000]원을 입금했습니다.\n",
      "[                                                                                                                                                                                                                                                                                                                  1000]원을 입금했습니다.\n",
      "[1000      ]원을 입금했습니다.\n",
      "[1000      ]원을 입금했습니다.\n"
     ]
    }
   ],
   "source": [
    "# %0nd: 출력되는 숫자를 n자리로 맞추어, 오른쪽 정렬, 빈칸은 0으로 채움\n",
    "print(\"[%010d]원을 입금했습니다.\" % 1000) # [0000001000]원을 입금했습니다.\n",
    "print(\"[%310d]원을 입금했습니다.\" % 1000) # 에러는 안나오는데, 0이외의 다른 숫자 사용불가, 310자리로 인식함\n",
    "\n",
    "# %-nd: 출력되는 숫자를 n자리로 맞추어, 왼쪽 정렬, 빈칸은 공백으로 채움\n",
    "print(\"[%-10d]원을 입금했습니다.\" % 1000) # [1000      ]원을 입금했습니다.  \n",
    "\n",
    "# %-0nd: 출력되는 숫자를 n자리로 맞추어, 왼쪽 정렬, 빈칸은 0으로 채움\n",
    "print(\"[%-010d]원을 입금했습니다.\" % 1000) # [1000      ]원을 입금했습니다.  0은 무시됨"
   ]
  },
  {
   "cell_type": "code",
   "execution_count": 24,
   "id": "7d477baf",
   "metadata": {},
   "outputs": [
    {
     "name": "stdout",
     "output_type": "stream",
     "text": [
      "[       홍길동]님이 입장하였습니다.\n",
      "[이순신이다 충무공이순신 이순신]님이 입장하였습니다.\n",
      "[홍길동       ]님이 입장하였습니다.\n"
     ]
    }
   ],
   "source": [
    "# 문자열 자릿수 표현 \n",
    "# %ns: 출력되는 문자열을 n자리로 맞추어 , 오른쪽 정렬, 빈칸은 공백으로 채움 \n",
    "# 지정된 자릿수를 초과할 경우 그냥 출력 (자릿수 무시)\n",
    "print(\"[%10s]님이 입장하였습니다.\" % \"홍길동\") # [      홍길동]님이 입장하였습니다.\n",
    "print(\"[%10s]님이 입장하였습니다.\" % \"이순신이다 충무공이순신 이순신\") # [이순신이다 충무공이순신 이순신]님이 입장하였습니다.\n",
    "\n",
    "# %-ns: 출력되는 문자열을 n자리로 맞추어 , 왼쪽 정렬, 빈칸은 공백으로 채움\n",
    "print(\"[%-10s]님이 입장하였습니다.\" % \"홍길동\") # [홍길동      ]님이 입장하였습니다."
   ]
  },
  {
   "cell_type": "code",
   "execution_count": null,
   "id": "9f65b6dc",
   "metadata": {},
   "outputs": [
    {
     "name": "stdout",
     "output_type": "stream",
     "text": [
      "[1234.57]원입니다.\n",
      "[   1234.57]원입니다.\n",
      "[    1234.568]원입니다.\n"
     ]
    }
   ],
   "source": [
    "# 실수 자릿수 표현 \n",
    "#%0.nf: 소수점 이하 n자리까지 표현, 나머지는 반올림\n",
    "print(\"[%0.2f]원입니다.\" % 1234.56789) # [1234.57]원입니다.\n",
    "\n",
    "#w.nf : 출력되는 전체 글자수를 w자리로 처리, 그 중 소수점 이하 값을 n 자리 까지로 설정\n",
    "# 부족한 자릿수는 공백, 전체 출력은 오른쪽 정렬\n",
    "print(\"[%10.2f]원입니다.\" % 1234.56789) # [   1234.57]원입니다.\n",
    "print(\"[%12.3f]원입니다.\" % 1234.56789) # [     1234.568]원입니다.\n",
    "\n",
    "# %-w.nf : 출력되는 전체 글자수를 w자리로 처리, 그 중 소수점 이하 값을 n 자리 까지로 설정\n",
    "# 부족한 자릿수는 공백, 전체 출력은 왼쪽 정렬\n",
    "print(\"[%-10.2f]원입니다.\" % 1234.56789) # [1234.57   ]원입니다.\n",
    "print(\"[%-12.3f]원입니다.\" % 1234.56789) # [1234.568     ]원입니다.\n"
   ]
  },
  {
   "cell_type": "code",
   "execution_count": 25,
   "id": "c1039eba",
   "metadata": {},
   "outputs": [
    {
     "name": "stdout",
     "output_type": "stream",
     "text": [
      "[0001234.57]원입니다.\n",
      "[00001234.568]원입니다.\n",
      "[1234.57   ]원입니다.\n"
     ]
    }
   ],
   "source": [
    "# 0w.nf: 전체 자릿수 w, 소수점 이하 n자리, 빈칸은 0으로 채움\n",
    "print(\"[%010.2f]원입니다.\" % 1234.56789) # [0001234.57]원입니다.\n",
    "print(\"[%012.3f]원입니다.\" % 1234.56789) # [000001234.568]원입니다.\n",
    "\n",
    "#왼쪽 정렬 %-0w.nf: 전체 자릿수 w, 소수점 이하 n자리, 0은 무시됨\n",
    "print(\"[%-010.2f]원입니다.\" % 1234.56789) # [1234.57   ]원입니다."
   ]
  },
  {
   "cell_type": "code",
   "execution_count": 175,
   "id": "8c1b43c4",
   "metadata": {},
   "outputs": [
    {
     "name": "stdout",
     "output_type": "stream",
     "text": [
      "이 과자는 칸쵸이고, 가격은 2000원 입니다.\n"
     ]
    }
   ],
   "source": [
    "#인덱스 번호를 사용한 문자열 포맷팅 -파이썬 만의 고유 방식\n",
    "fmt=\"이 과자는 {0}이고, 가격은 {1}원 입니다.\"\n",
    "rst=fmt.format(\"칸쵸\",\"2000\")\n",
    "print(rst) # 이 과자는 칸쵸이고, 가격은 2000원 입니다."
   ]
  },
  {
   "cell_type": "code",
   "execution_count": 16,
   "id": "c94e991b",
   "metadata": {},
   "outputs": [
    {
     "name": "stdout",
     "output_type": "stream",
     "text": [
      "I eat 3 apples\n",
      "I eat 5 apples. 5 are my favorite fruit.\n"
     ]
    }
   ],
   "source": [
    "#format \n",
    "msg1= \"I eat {0} apples\"\n",
    "print(msg1.format(3)) # I eat 3 apples\n",
    "\n",
    "# 같은 인덱스 번호 여러번 사용\n",
    "msg2=\"I eat {0} apples. {0} are my favorite fruit.\"\n",
    "print(msg2.format(5)) # I eat 5 apples. 5 are my favorite fruit."
   ]
  },
  {
   "cell_type": "code",
   "execution_count": 181,
   "id": "4573da25",
   "metadata": {},
   "outputs": [
    {
     "name": "stdout",
     "output_type": "stream",
     "text": [
      "이 과자는 빈츠이고, 가격은 3000원 입니다.\n",
      "우리 엄마는 40세이고,이름은 김유리입니다. 우리 아빠는 42세이고, 이름은 김철수입니다.\n"
     ]
    }
   ],
   "source": [
    "#인덱스 이름 사용\n",
    "fmt=\"이 과자는 {name}이고, 가격은 {price}원 입니다.\"\n",
    "rst=fmt.format(name=\"빈츠\", price=3000)\n",
    "print(rst) # 이 과자는 빈츠이고, 가격은 3000원 입니다.\n",
    "\n",
    "# 순서는 영향이 없다.\n",
    "msg3=\"우리 엄마는 {age_1}세이고,이름은 {name_1}입니다. 우리 아빠는 {age_2}세이고, 이름은 {name_2}입니다.\"\n",
    "print(msg3.format(name_2=\"김철수\",age_1=40,age_2=42,name_1=\"김유리\"))"
   ]
  },
  {
   "cell_type": "code",
   "execution_count": null,
   "id": "f1622cb2",
   "metadata": {},
   "outputs": [
    {
     "name": "stdout",
     "output_type": "stream",
     "text": [
      "생일은 2024년 5월 30일입니다.\n",
      "좋은 교과서는 이 책입니다.\n",
      "내 이름은 아무개이고, 나이는 24세 입니다.\n",
      "내 이름은 HAN이고, 내년 나이는 25세 입니다.\n",
      "[홍길동       ]님이 입장하였습니다.\n",
      "[       홍길동]님이 입장하였습니다.\n"
     ]
    }
   ],
   "source": [
    "# 인덱스 번호와 이름의 혼합 사용\n",
    "\n",
    "msg4=\"{0}은 {y}년 {m}월 {d}일입니다.\"\n",
    "print(msg4.format(\"생일\",y=2024,m=5,d=30))\n",
    "\n",
    "#\n",
    "fmt5=\"{1} {name}는 이 {0}입니다.\"\n",
    "rst=fmt5.format(\"책\",\"좋은\", name=\"교과서\")\n",
    "print(rst) # 좋은 교과서는 이 책입니다.\n",
    "\n",
    "\n",
    "\n",
    "#f포맷팅\n",
    "name=\"아무개\"\n",
    "age=24\n",
    "print(f\"내 이름은 {name}이고, 나이는 {age}세 입니다.\")\n",
    "\n",
    "#표현식 계산 가능\n",
    "name=\"han\"\n",
    "age=24\n",
    "print(f\"내 이름은 {name.upper()}이고, 내년 나이는 {age+1}세 입니다.\") \n",
    "# 내 이름은 HAN이고, 내년 나이는 25세 입니다.\n",
    "\n",
    "#왼쪽 정렬\n",
    "name=\"홍길동\"\n",
    "print(f\"[{name:<10}]님이 입장하였습니다.\") # [홍길동      ]님이 입장하였습니다.\n",
    "\n",
    "#오른쪽 정렬\n",
    "print(f\"[{name:>10}]님이 입장하였습니다.\") # [      홍길동]님이 입장하였습니다.\n",
    "\n",
    "# 가운데 정렬\n",
    "print(f\"[{name:^10}]님이 입장하였습니다.\") # [   홍길동   ]님이 입장하였습니다."
   ]
  },
  {
   "cell_type": "markdown",
   "id": "afbebd09",
   "metadata": {},
   "source": [
    "## 문자열 관련 함수"
   ]
  },
  {
   "cell_type": "code",
   "execution_count": 28,
   "id": "6ef83fd9",
   "metadata": {},
   "outputs": [
    {
     "name": "stdout",
     "output_type": "stream",
     "text": [
      "글자수: 8\n",
      "빈문자열 글자수: 0\n"
     ]
    }
   ],
   "source": [
    "#len() 전체 글자수 세기\n",
    "mystr=\"안녕 Hello\"\n",
    "print(\"글자수:\",len(mystr)) # 글자수: 8\n",
    "\n",
    "# 빈문자열 글자수 0\n",
    "empty=\"\"\n",
    "print(\"빈문자열 글자수:\",len(empty)) # 빈문자열 글자수: 0"
   ]
  },
  {
   "cell_type": "code",
   "execution_count": 9,
   "id": "bb35bf73",
   "metadata": {},
   "outputs": [
    {
     "name": "stdout",
     "output_type": "stream",
     "text": [
      "123 <class 'str'>\n",
      "True <class 'str'>\n",
      "12.34 <class 'str'>\n"
     ]
    }
   ],
   "source": [
    "# 정수를 문자열로 반환\n",
    "u_ff=123\n",
    "u_ff_s = str(u_ff)\n",
    "print(u_ff_s,type(u_ff_s)) # 123 <class 'str'>\n",
    "\n",
    "#불리언을 문자열로 반환\n",
    "bool1=True\n",
    "bool1_s=str(bool1)\n",
    "print(bool1_s,type(bool1_s)) # True <class 'str'>\n",
    "\n",
    "#실수를 문자열로 반환\n",
    "num2=12.34\n",
    "num2=str(num2)\n",
    "print(num2,type(num2)) # 12.34 <class 'str'>"
   ]
  },
  {
   "cell_type": "code",
   "execution_count": 14,
   "id": "14281ba9",
   "metadata": {},
   "outputs": [
    {
     "name": "stdout",
     "output_type": "stream",
     "text": [
      "H카운트: 2\n",
      "h카운트: 1\n",
      "Hello 카운트: 2\n",
      "Python 카운트: 1\n"
     ]
    }
   ],
   "source": [
    "#count() : 문자열 내 특정 글자 수 세기\n",
    "mystr=\"Hello, world! Hello, Python!\"\n",
    "print(\"H카운트:\",mystr.count(\"H\")) #H 카운트 :2\n",
    "print(\"h카운트:\", mystr.count(\"h\")) #h 카운트 :1\n",
    "\n",
    "print(\"Hello 카운트:\", mystr.count(\"Hello\")) # Hello 카운트 :2\n",
    "print(\"Python 카운트:\", mystr.count(\"Python\")) # Python 카운트 :1"
   ]
  },
  {
   "cell_type": "code",
   "execution_count": null,
   "id": "4624f4ed",
   "metadata": {},
   "outputs": [
    {
     "name": "stdout",
     "output_type": "stream",
     "text": [
      "0\n",
      "-1\n",
      "7\n",
      "0\n",
      "21\n"
     ]
    }
   ],
   "source": [
    "# find() : 문자열 내 특정 글자의 인덱스 반환\n",
    "# 찾지 못 할경우 -1 반환\n",
    "mystr=\"Hello, world! Hello, Python!\"\n",
    "print(mystr.find(\"H\")) # 0\n",
    "print(mystr.find(\"u\")) #-1\n",
    "print(mystr.find(\"w\")) #7\n",
    "\n",
    "#단어의 시작위치 조회\n",
    "print(mystr.find(\"Hello\")) #0\n",
    "print(mystr.find(\"Python\")) #21"
   ]
  },
  {
   "cell_type": "code",
   "execution_count": null,
   "id": "2797e6cf",
   "metadata": {},
   "outputs": [
    {
     "name": "stdout",
     "output_type": "stream",
     "text": [
      "14\n",
      "-1\n",
      "7\n",
      "7\n"
     ]
    }
   ],
   "source": [
    "#rfind() : 문자열 내 특정 글자의 인덱스를 오른쪽에서 왼쪽으로 검색하여 반환\n",
    "mystr=\"Hello, world! Hello, Python!\"\n",
    "print(mystr.rfind(\"H\")) # 14\n",
    "print(mystr.rfind(\"u\")) #-1\n",
    "print(mystr.rfind(\"w\")) #7\n",
    "\n",
    "mystr=\"Hello, Hello\"\n",
    "print(mystr.rfind(\"H\")) # 7\n",
    "print(mystr.rfind(\"e\")) # 4\n",
    "print(mystr.rfind(\"l\")) # 9\n",
    "print(mystr.rfind(\"o\")) # 12"
   ]
  },
  {
   "cell_type": "code",
   "execution_count": 30,
   "id": "4a75f00c",
   "metadata": {},
   "outputs": [
    {
     "name": "stdout",
     "output_type": "stream",
     "text": [
      "True\n",
      "False\n",
      "False\n",
      "True\n",
      "False\n"
     ]
    }
   ],
   "source": [
    "#isupper() : 문자열이 모두 대문자인지 확인\n",
    "str1=\"HELLO\"\n",
    "print(str1.isupper()) # True\n",
    "str2=\"Hello\"\n",
    "print(str2.isupper()) # False\n",
    "str3=\"123\"\n",
    "print(str3.isupper()) # False   \n",
    "str4=\"HELLO!@#\"\n",
    "print(str4.isupper()) # True\n",
    "str5=\"Hello123\"\n",
    "print(str5.isupper()) # False"
   ]
  },
  {
   "cell_type": "code",
   "execution_count": 31,
   "id": "310a0135",
   "metadata": {},
   "outputs": [
    {
     "name": "stdout",
     "output_type": "stream",
     "text": [
      "True\n",
      "False\n",
      "False\n",
      "True\n",
      "True\n"
     ]
    }
   ],
   "source": [
    "# islower() : 문자열이 모두 소문자인지 확인\n",
    "str1=\"hello\"\n",
    "print(str1.islower()) # True\n",
    "str2=\"Hello\"\n",
    "print(str2.islower()) # False\n",
    "str3=\"123\"\n",
    "print(str3.islower()) # False  \n",
    "str4=\"hello!@#\"\n",
    "print(str4.islower()) # True\n",
    "str5=\"hello123\"\n",
    "print(str5.islower()) # True"
   ]
  },
  {
   "cell_type": "code",
   "execution_count": 32,
   "id": "96c60f6f",
   "metadata": {},
   "outputs": [
    {
     "name": "stdout",
     "output_type": "stream",
     "text": [
      "HELLO\n",
      "HELLO WORLD\n",
      "HELLO123!@#\n"
     ]
    }
   ],
   "source": [
    "# upper() : 문자열을 모두 대문자로 변환\n",
    "str1=\"hello\"\n",
    "print(str1.upper()) # HELLO\n",
    "str2=\"Hello World\"\n",
    "print(str2.upper()) # HELLO WORLD\n",
    "str3=\"hello123!@#\"\n",
    "print(str3.upper()) # HELLO123!@#"
   ]
  },
  {
   "cell_type": "code",
   "execution_count": 33,
   "id": "4daa87fa",
   "metadata": {},
   "outputs": [
    {
     "name": "stdout",
     "output_type": "stream",
     "text": [
      "hELLO\n",
      "hello WORLD\n",
      "pYTHON 123!@#\n"
     ]
    }
   ],
   "source": [
    "# swapcase() : 대문자는 소문자로, 소문자는 대문자로 변환\n",
    "str1=\"Hello\"\n",
    "print(str1.swapcase()) # hELLO\n",
    "str2=\"HELLO world\"\n",
    "print(str2.swapcase()) # hello WORLD\n",
    "str3=\"Python 123!@#\"\n",
    "print(str3.swapcase()) # pYTHON 123!@#"
   ]
  },
  {
   "cell_type": "code",
   "execution_count": 35,
   "id": "ac155e2c",
   "metadata": {},
   "outputs": [
    {
     "name": "stdout",
     "output_type": "stream",
     "text": [
      "Hello world\n",
      "Hello world\n",
      "123hello\n"
     ]
    }
   ],
   "source": [
    "# capitalize() : 문자열의 첫 글자만 대문자로 변환, 나머지는 소문자로 변환\n",
    "str1=\"hello world\"\n",
    "print(str1.capitalize()) # Hello world\n",
    "str2=\"hELLO wORLD\"\n",
    "print(str2.capitalize()) # Hello world\n",
    "str3=\"123hello\"\n",
    "print(str3.capitalize()) # 123hello"
   ]
  },
  {
   "cell_type": "code",
   "execution_count": 36,
   "id": "ffe0a0a3",
   "metadata": {},
   "outputs": [
    {
     "name": "stdout",
     "output_type": "stream",
     "text": [
      "Hello World\n",
      "Hello World\n",
      "Hello-World\n",
      "123Hello World\n"
     ]
    }
   ],
   "source": [
    "#title() : 문자열의 각 단어의 첫 글자를 대문자로 변환, 나머지는 소문자로 변환\n",
    "str1=\"hello world\"\n",
    "print(str1.title()) # Hello World\n",
    "str2=\"hELLO wORLD\"\n",
    "print(str2.title()) # Hello World\n",
    "str3=\"hello-world\"\n",
    "print(str3.title()) # Hello-World\n",
    "str4=\"123hello world\"\n",
    "print(str4.title()) # 123Hello World"
   ]
  },
  {
   "cell_type": "code",
   "execution_count": 39,
   "id": "67c2d6e5",
   "metadata": {},
   "outputs": [
    {
     "name": "stdout",
     "output_type": "stream",
     "text": [
      "Hello World\n",
      "hello\n",
      "Hello   World\n",
      "Hello World   \n",
      "hello\n",
      "\t\n",
      "Hello   World   \n",
      "   Hello World\n",
      "\n",
      "\thello\n",
      "   Hello   World\n",
      "hello world\n"
     ]
    }
   ],
   "source": [
    "#공백제거 strip() : 문자열 양쪽 끝의 공백 제거\n",
    "str1=\"   Hello World   \"\n",
    "print(str1.strip()) # Hello World\n",
    "str2=\"\\n\\thello\\n\\t\"\n",
    "print(str2.strip()) # hello\n",
    "str3=\"   Hello   World   \"\n",
    "print(str3.strip()) # Hello   World\n",
    "\n",
    "#lstrip() : 문자열 왼쪽 끝의 공백 제거\n",
    "str1=\"   Hello World   \"\n",
    "print(str1.lstrip()) # Hello World   \n",
    "str2=\"\\n\\thello\\n\\t\"\n",
    "print(str2.lstrip()) # hello\n",
    "str3=\"   Hello   World   \"\n",
    "print(str3.lstrip()) # Hello   World\n",
    "\n",
    "#rstrip() : 문자열 오른쪽 끝의 공백 제거\n",
    "str1=\"   Hello World   \"\n",
    "print(str1.rstrip()) #    Hello World\n",
    "str2=\"\\n\\thello\\n\\t\"\n",
    "print(str2.rstrip()) #        hello\n",
    "str3=\"   Hello   World   \"\n",
    "print(str3.rstrip()) #    Hello   World\n",
    "str4=\"hello world  \"\n",
    "print(str4.rstrip()) # hello world"
   ]
  },
  {
   "cell_type": "code",
   "execution_count": 44,
   "id": "c49ac090",
   "metadata": {},
   "outputs": [
    {
     "name": "stdout",
     "output_type": "stream",
     "text": [
      "Hi, world! Hi, Python!\n",
      "orange banana orange grape orange\n",
      "orange banana orange grape apple\n",
      "Hello, world!\n",
      "HelloWorld\n"
     ]
    }
   ],
   "source": [
    "# replace(old, new, count) : 문자열 내 특정 문자열을 다른 문자열로 변환\n",
    "str1=\"Hello, world! Hello, Python!\"\n",
    "print(str1.replace(\"Hello\",\"Hi\")) # Hi, world! Hi, Python!\n",
    "\n",
    "# 여러개 치환\n",
    "str2= \"apple banana apple grape apple\"\n",
    "print(str2.replace(\"apple\",\"orange\")) # orange banana orange grape orange\n",
    "\n",
    "# count 인자 사용 -> 치환 횟수 제한\n",
    "str3=\"apple banana apple grape apple\"\n",
    "print(str3.replace(\"apple\",\"orange\",2)) # orange banana orange grape apple\n",
    "\n",
    "# 찾는 문자열 없을 경우 원본 반환\n",
    "str4=\"Hello, world!\"\n",
    "print(str4.replace(\"Python\",\"Java\")) # Hello, world!\n",
    "\n",
    "# 공백 제거\n",
    "str5=\"   Hello World   \"\n",
    "print(str5.replace(\" \",\"\")) # HelloWorld"
   ]
  },
  {
   "cell_type": "code",
   "execution_count": 49,
   "id": "822d9810",
   "metadata": {},
   "outputs": [
    {
     "name": "stdout",
     "output_type": "stream",
     "text": [
      "['Hello', 'world', 'Python', 'programming']\n",
      "['apple', 'banana', 'cherry', 'grape']\n",
      "['apple', 'banana', 'cherry-grape']\n",
      "['Hello', 'world', 'Python', 'programming']\n",
      "['apple', 'banana#cherry$grape']\n"
     ]
    }
   ],
   "source": [
    "#split() : 문자열을 주어진 글자를 기준으로 분리하여 리스트로 변환 \n",
    "\n",
    "#공백 기준\n",
    "str1=\"Hello world Python programming\"\n",
    "print(str1.split()) # ['Hello', 'world', 'Python', 'programming']\n",
    "\n",
    "# 구분자 지정\n",
    "str2=\"apple,banana,cherry,grape\"\n",
    "print(str2.split(\",\")) # ['apple', 'banana', 'cherry', 'grape']\n",
    "\n",
    "# 분리 횟수 제한\n",
    "str3=\"apple-banana-cherry-grape\"\n",
    "print(str3.split(\"-\",2)) # ['apple', 'banana', 'cherry-grape']\n",
    "\n",
    "# 연속된 공백 처리\n",
    "str4=\"Hello   world  Python    programming\"\n",
    "print(str4.split()) # ['Hello', 'world', 'Python', 'programming']\n",
    "\n",
    "# 특수 문자로 분리\n",
    "str5=\"apple@banana#cherry$grape\"\n",
    "print(str5.split(\"@\")) # ['apple', 'banana#cherry$grape']"
   ]
  },
  {
   "cell_type": "code",
   "execution_count": 55,
   "id": "cfa9d83a",
   "metadata": {},
   "outputs": [
    {
     "name": "stdout",
     "output_type": "stream",
     "text": [
      "True\n",
      "False\n",
      "False\n",
      "False\n",
      "False\n",
      "False\n",
      "True\n"
     ]
    }
   ],
   "source": [
    "# isnumeric() : 문자열이 숫자로만 구성되어 있는지 확인\n",
    "str1=\"12345\"\n",
    "print(str1.isnumeric()) # True\n",
    "\n",
    "# 문자 포함 \n",
    "str2=\"123a45\"\n",
    "print(str2.isnumeric()) # False\n",
    "\n",
    "# 공백 포함\n",
    "str3=\"123 45\"\n",
    "print(str3.isnumeric()) # False\n",
    "\n",
    "# 빈 문자열\n",
    "str4=\"\"\n",
    "print(str4.isnumeric()) # False\n",
    "\n",
    "# 소수점 포함\n",
    "str5=\"123.45\"\n",
    "print(str5.isnumeric()) # False\n",
    "\n",
    "# 음수 포함\n",
    "str6=\"-12345\"\n",
    "print(str6.isnumeric()) # False\n",
    "\n",
    "#유니코드 숫자 포함\n",
    "str7=\"²³¼\"\n",
    "print(str7.isnumeric()) # True"
   ]
  }
 ],
 "metadata": {
  "kernelspec": {
   "display_name": "Python 3",
   "language": "python",
   "name": "python3"
  },
  "language_info": {
   "codemirror_mode": {
    "name": "ipython",
    "version": 3
   },
   "file_extension": ".py",
   "mimetype": "text/x-python",
   "name": "python",
   "nbconvert_exporter": "python",
   "pygments_lexer": "ipython3",
   "version": "3.13.6"
  }
 },
 "nbformat": 4,
 "nbformat_minor": 5
}
