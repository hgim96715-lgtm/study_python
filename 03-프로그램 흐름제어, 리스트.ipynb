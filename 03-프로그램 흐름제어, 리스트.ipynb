{
 "cells": [
  {
   "cell_type": "markdown",
   "id": "a40ae597",
   "metadata": {},
   "source": [
    "## 프로그램 흐름제어"
   ]
  },
  {
   "cell_type": "code",
   "execution_count": 97,
   "id": "3d580bdd",
   "metadata": {},
   "outputs": [
    {
     "ename": "ValueError",
     "evalue": "invalid literal for int() with base 10: ''",
     "output_type": "error",
     "traceback": [
      "\u001b[31m---------------------------------------------------------------------------\u001b[39m",
      "\u001b[31mValueError\u001b[39m                                Traceback (most recent call last)",
      "\u001b[36mCell\u001b[39m\u001b[36m \u001b[39m\u001b[32mIn[97]\u001b[39m\u001b[32m, line 3\u001b[39m\n\u001b[32m      1\u001b[39m \u001b[38;5;66;03m# 중첩조건문 -> 특정 조건을 더 세밀하게 검사하고자 할 때 사용\u001b[39;00m\n\u001b[32m----> \u001b[39m\u001b[32m3\u001b[39m point=\u001b[38;5;28;43mint\u001b[39;49m\u001b[43m(\u001b[49m\u001b[38;5;28;43minput\u001b[39;49m\u001b[43m(\u001b[49m\u001b[33;43m\"\u001b[39;49m\u001b[33;43m점수를 입력하세요: \u001b[39;49m\u001b[33;43m\"\u001b[39;49m\u001b[43m)\u001b[49m\u001b[43m)\u001b[49m\n\u001b[32m      4\u001b[39m \u001b[38;5;28;01mif\u001b[39;00m point >\u001b[32m70\u001b[39m: \u001b[38;5;66;03m# 바깥 조건문 , 점수가 70 초과일 때 실행, 안에 중첩 조건문 실행됨\u001b[39;00m\n\u001b[32m      5\u001b[39m     \u001b[38;5;28mprint\u001b[39m(\u001b[33m\"\u001b[39m\u001b[33m패스입니다.\u001b[39m\u001b[33m\"\u001b[39m)\n",
      "\u001b[31mValueError\u001b[39m: invalid literal for int() with base 10: ''"
     ]
    }
   ],
   "source": [
    "# 중첩조건문 -> 특정 조건을 더 세밀하게 검사하고자 할 때 사용\n",
    "\n",
    "point=int(input(\"점수를 입력하세요: \"))\n",
    "if point >70: # 바깥 조건문 , 점수가 70 초과일 때 실행, 안에 중첩 조건문 실행됨\n",
    "    print(\"패스입니다.\")\n",
    "\n",
    "    if point >90:\n",
    "        print(\"A입니다.\")\n",
    "    elif point >80:\n",
    "        print(\"B입니다.\")\n",
    "    else:\n",
    "        print(\"C입니다.\")\n",
    "else:\n",
    "    print(\"패스하지 하지 못했습니다.\") # 중첩조건문에서 바깥 조건이 거짓일 때 실행되는 부분 , 점수가 70 이하일 때 실행"
   ]
  },
  {
   "cell_type": "code",
   "execution_count": null,
   "id": "ff651094",
   "metadata": {},
   "outputs": [
    {
     "name": "stdout",
     "output_type": "stream",
     "text": [
      "짝수의 합: 30\n",
      "홀수의 합: 25\n"
     ]
    }
   ],
   "source": [
    "# 짝, 홀수의 합 \n",
    "number=int(input(\"숫자를 입력하세요: \"))\n",
    "# 변수 설정 중요 총 합을 구하기 위해서는 반복문 전에 0으로 초기화 된 변수 설정 필요!!!\n",
    "x=0 \n",
    "y=0\n",
    "\n",
    "for i in range(1,number+1): # 1부터 number까지 반복, number 포함하고 싶으면 +1\n",
    "    if i%2==0: # 짝수일 때\n",
    "        x+=i # 짝수의 합\n",
    "    else: # 홀수일 때\n",
    "        y+=i # 홀수의 합\n",
    "print(\"짝수의 합:\",x)\n",
    "print(\"홀수의 합:\",y)"
   ]
  },
  {
   "cell_type": "code",
   "execution_count": null,
   "id": "3434c502",
   "metadata": {},
   "outputs": [
    {
     "name": "stdout",
     "output_type": "stream",
     "text": [
      "0\n",
      "----\n",
      "1\n",
      "----\n",
      "2\n",
      "----\n",
      "3\n",
      "----\n",
      "4\n"
     ]
    }
   ],
   "source": [
    "# 자주 사용되는 유형패턴\n",
    "# 반복 수행시 마지막 회차 생략하기 (사이사이에 무엇을 할때)\n",
    "\n",
    "for i in range(0,5): # 0~4까지 반복\n",
    "    print(i) # 0 1 2 3 4 출력\n",
    "    # i+증가량 < 반복종료값\n",
    "    if i+1<5:\n",
    "        print(\"----\")"
   ]
  },
  {
   "cell_type": "code",
   "execution_count": null,
   "id": "ae53bc49",
   "metadata": {},
   "outputs": [
    {
     "name": "stdout",
     "output_type": "stream",
     "text": [
      "15\n",
      "30\n",
      "45\n",
      "60\n",
      "75\n",
      "90\n",
      "15\n",
      "30\n",
      "45\n",
      "60\n",
      "75\n",
      "90\n"
     ]
    }
   ],
   "source": [
    "#공배수 구하기\n",
    "# x의 배수 -> x로 나누어 떨어짐 -> 나머지가 0\n",
    "# 1~100 사이의 수 중 3과 5의 공배수 출력\n",
    "\n",
    "x=3\n",
    "y=5\n",
    "\n",
    "for i in range(1,101):\n",
    "    if i%x==0 and i%y==0: # 3과 5의 공배수\n",
    "        print(i)\n",
    "\n",
    "# 다른 방법 \n",
    "for i in range(1,101):\n",
    "    if i%(x*y)==0: # 3과 5의 공배수\n",
    "        print(i)"
   ]
  },
  {
   "cell_type": "code",
   "execution_count": null,
   "id": "6c6a229f",
   "metadata": {},
   "outputs": [
    {
     "name": "stdout",
     "output_type": "stream",
     "text": [
      "바깥 반복문 i에 대한 반복 수행시작 : 1\n",
      "::: i= 1 , j= 0\n",
      "::: i= 1 , j= 1\n",
      "::: i= 1 , j= 2\n",
      "::: i= 1 , j= 3\n",
      "----\n",
      "바깥 반복문 i에 대한 반복 수행시작 : 2\n",
      "::: i= 2 , j= 0\n",
      "::: i= 2 , j= 1\n",
      "::: i= 2 , j= 2\n",
      "::: i= 2 , j= 3\n"
     ]
    }
   ],
   "source": [
    "# 중첩 반복문(1)\n",
    "# 바깥의 부모 반복문이 1회 수행될 때마다 안쪽의 자식 반복문이 처음부터 끝까지 모두 수행되는 형태\n",
    "\n",
    "for i in range(1,3): # 1,2 (2회 반복) , 바깥부모\n",
    "    print(\"바깥 반복문 i에 대한 반복 수행시작 :\",i)\n",
    "    for j in range(0,4): # 0,1,2,3 (4회 반복) ,안쪽 자식\n",
    "        print(\"::: i=\",i,\", j=\",j) # i=1일 때 j=0,1,2,3 / i=2일 때 j=0,1,2,3\n",
    "    if i+1<3: # 반복문 사이사이에 구분선 넣기 위해\n",
    "        print(\"----\")"
   ]
  },
  {
   "cell_type": "code",
   "execution_count": null,
   "id": "676d8a31",
   "metadata": {},
   "outputs": [
    {
     "name": "stdout",
     "output_type": "stream",
     "text": [
      "2 x 1 = 2\n",
      "2 x 2 = 4\n",
      "2 x 3 = 6\n",
      "2 x 4 = 8\n",
      "2 x 5 = 10\n",
      "2 x 6 = 12\n",
      "2 x 7 = 14\n",
      "2 x 8 = 16\n",
      "2 x 9 = 18\n",
      "----\n",
      "3 x 1 = 3\n",
      "3 x 2 = 6\n",
      "3 x 3 = 9\n",
      "3 x 4 = 12\n",
      "3 x 5 = 15\n",
      "3 x 6 = 18\n",
      "3 x 7 = 21\n",
      "3 x 8 = 24\n",
      "3 x 9 = 27\n",
      "----\n",
      "4 x 1 = 4\n",
      "4 x 2 = 8\n",
      "4 x 3 = 12\n",
      "4 x 4 = 16\n",
      "4 x 5 = 20\n",
      "4 x 6 = 24\n",
      "4 x 7 = 28\n",
      "4 x 8 = 32\n",
      "4 x 9 = 36\n",
      "----\n",
      "5 x 1 = 5\n",
      "5 x 2 = 10\n",
      "5 x 3 = 15\n",
      "5 x 4 = 20\n",
      "5 x 5 = 25\n",
      "5 x 6 = 30\n",
      "5 x 7 = 35\n",
      "5 x 8 = 40\n",
      "5 x 9 = 45\n",
      "----\n",
      "6 x 1 = 6\n",
      "6 x 2 = 12\n",
      "6 x 3 = 18\n",
      "6 x 4 = 24\n",
      "6 x 5 = 30\n",
      "6 x 6 = 36\n",
      "6 x 7 = 42\n",
      "6 x 8 = 48\n",
      "6 x 9 = 54\n",
      "----\n",
      "7 x 1 = 7\n",
      "7 x 2 = 14\n",
      "7 x 3 = 21\n",
      "7 x 4 = 28\n",
      "7 x 5 = 35\n",
      "7 x 6 = 42\n",
      "7 x 7 = 49\n",
      "7 x 8 = 56\n",
      "7 x 9 = 63\n",
      "----\n",
      "8 x 1 = 8\n",
      "8 x 2 = 16\n",
      "8 x 3 = 24\n",
      "8 x 4 = 32\n",
      "8 x 5 = 40\n",
      "8 x 6 = 48\n",
      "8 x 7 = 56\n",
      "8 x 8 = 64\n",
      "8 x 9 = 72\n",
      "----\n",
      "9 x 1 = 9\n",
      "9 x 2 = 18\n",
      "9 x 3 = 27\n",
      "9 x 4 = 36\n",
      "9 x 5 = 45\n",
      "9 x 6 = 54\n",
      "9 x 7 = 63\n",
      "9 x 8 = 72\n",
      "9 x 9 = 81\n"
     ]
    }
   ],
   "source": [
    "# 구구단 \n",
    "#i의 변화 범위 2~9 , j의 변화 범위 1~9\n",
    "\n",
    "for i in range(2,10): # 2~9, 부모\n",
    "    # i가 1회 변화할 때마다 j는 1~9까지 모두 변화\n",
    "    for j in range(1,10): # 1~9, 자식\n",
    "        k=i*j\n",
    "        print(i,\"x\",j,\"=\",k)\n",
    "    if i+1<10: # 반복문 사이사이에 구분선 넣기 위해\n",
    "        print(\"----\")"
   ]
  },
  {
   "cell_type": "code",
   "execution_count": null,
   "id": "36f4439d",
   "metadata": {},
   "outputs": [
    {
     "name": "stdout",
     "output_type": "stream",
     "text": [
      "*\n",
      "**\n",
      "***\n",
      "****\n",
      "*****\n",
      "*****\n",
      "****\n",
      "***\n",
      "**\n",
      "*\n"
     ]
    }
   ],
   "source": [
    "# 별 찍기 문제\n",
    "# 반복문이 2중으로 중첩된 경우 \n",
    "# 바깥쪽 반복문이 행을 담당, 안쪽 반복문이 열을 담당\n",
    "\n",
    "for i in range(0,5): # 0~4, 행 담당\n",
    "    str=\"\" # 빈 문자열 초기화 (중요)\n",
    "    for j in range(0,i+1): # 0~i, 열 담당\n",
    "        str+=\"*\" # 별 하나씩 추가\n",
    "    print(str) # 한 행이 끝날 때마다 출력\n",
    "\n",
    "# 별 찍기 문제 반대로\n",
    "for i in range(0,5): \n",
    "    str=\"\"\n",
    "    for j in range(5-i,0,-1): # 5~1, 5-i부터 1까지 감소\n",
    "        str+=\"*\"\n",
    "    print(str)"
   ]
  },
  {
   "cell_type": "code",
   "execution_count": null,
   "id": "a94b6230",
   "metadata": {},
   "outputs": [
    {
     "name": "stdout",
     "output_type": "stream",
     "text": [
      "첫번째 주사위: 1 , 두번째 주사위: 5\n",
      "첫번째 주사위: 2 , 두번째 주사위: 4\n",
      "첫번째 주사위: 3 , 두번째 주사위: 3\n",
      "첫번째 주사위: 4 , 두번째 주사위: 2\n",
      "첫번째 주사위: 5 , 두번째 주사위: 1\n",
      "경우의 수: 5\n"
     ]
    }
   ],
   "source": [
    "# 주사위 던지기\n",
    "# 두개의 주사위를 던졌을때, 눈의 합이 6이 되는 모든 경우의 수 출력\n",
    "count=0 # 경우의 수 카운트\n",
    "\n",
    "for i in range(1,7): # 첫번째 주사위\n",
    "    for j in range(1,7): # 두번째 주사위\n",
    "        if i+j==6: # 눈의 합이 6일때 \n",
    "            count+=1\n",
    "            print(\"첫번째 주사위:\",i,\", 두번째 주사위:\",j)\n",
    "print(\"경우의 수:\",count)"
   ]
  },
  {
   "cell_type": "markdown",
   "id": "02a3670b",
   "metadata": {},
   "source": [
    "## 리스트의 이해"
   ]
  },
  {
   "cell_type": "code",
   "execution_count": null,
   "id": "31fc9564",
   "metadata": {},
   "outputs": [
    {
     "name": "stdout",
     "output_type": "stream",
     "text": [
      "[90, 85, 70, 100, 95]\n",
      "['철수', '영희', '민수', '수지', '호영']\n",
      "['철수', 17, 162.5, 68.3, '남자', True]\n"
     ]
    }
   ],
   "source": [
    "#리스트 , 하나의 리스트 안에는 여러개의 값(데이터)를 저장할 수 있음\n",
    "# 리스트의 생성 -> 대괄호 [] 사용\n",
    "\n",
    "grade=[] # 빈 리스트 생성\n",
    "\n",
    "#정수형의 원소만 저장하는 리스트\n",
    "grade=[90,85,70,100,95]\n",
    "print(grade) # 리스트 전체 출력, [90, 85, 70, 100, 95]\n",
    "\n",
    "#문자열 타입으로 된 원소 저장하는 리스트\n",
    "names=[\"철수\",\"영희\",\"민수\",\"수지\",\"호영\"]\n",
    "print(names) # ['철수', '영희', '민수', '수지', '호영']\n",
    "\n",
    "# 혼합된 타입의 원소 저장하는 리스트\n",
    "student=[\"철수\",17,162.5,68.3,\"남자\",True]\n",
    "print(student) # ['철수', 17, 162.5, 68.3, '남자', True]\n"
   ]
  },
  {
   "cell_type": "code",
   "execution_count": null,
   "id": "49ff565c",
   "metadata": {},
   "outputs": [
    {
     "name": "stdout",
     "output_type": "stream",
     "text": [
      "75\n",
      "82\n",
      "191\n"
     ]
    }
   ],
   "source": [
    "#리스트 원소에 접근 -리스트 값 활용\n",
    "\n",
    "cheolsu=[75,82,91]\n",
    "print(cheolsu[0]) # 인덱스 0번 원소 접근 , 75 출력\n",
    "\n",
    "#리스트의 원소를 다른 변수에 복사\n",
    "a=cheolsu[1] # 인덱스 1번 원소를 변수 a에 복사\n",
    "print(a) # 82 출력\n",
    "\n",
    "# 리스트의 원소를 활용한 연산\n",
    "print(100+cheolsu[2]) # 인덱스 2번 원소 활용 , 100+91=191 출력"
   ]
  },
  {
   "cell_type": "code",
   "execution_count": null,
   "id": "31447099",
   "metadata": {},
   "outputs": [
    {
     "ename": "IndexError",
     "evalue": "list index out of range",
     "output_type": "error",
     "traceback": [
      "\u001b[31m---------------------------------------------------------------------------\u001b[39m",
      "\u001b[31mIndexError\u001b[39m                                Traceback (most recent call last)",
      "\u001b[36mCell\u001b[39m\u001b[36m \u001b[39m\u001b[32mIn[15]\u001b[39m\u001b[32m, line 5\u001b[39m\n\u001b[32m      1\u001b[39m \u001b[38;5;66;03m# 존재하지 않는 인덱스에 접근할 때 발생하는 오류\u001b[39;00m\n\u001b[32m      2\u001b[39m \u001b[38;5;66;03m#index out of range 오류 발생 -> 존재하지 않는 인덱스의 원소를 출력하는 경우\u001b[39;00m\n\u001b[32m      4\u001b[39m items=[\u001b[32m10\u001b[39m,\u001b[32m20\u001b[39m,\u001b[32m30\u001b[39m]\n\u001b[32m----> \u001b[39m\u001b[32m5\u001b[39m \u001b[38;5;28mprint\u001b[39m(\u001b[43mitems\u001b[49m\u001b[43m[\u001b[49m\u001b[32;43m5\u001b[39;49m\u001b[43m]\u001b[49m) \u001b[38;5;66;03m# index out of range 오류 발생  \u001b[39;00m\n\u001b[32m      7\u001b[39m \u001b[38;5;66;03m# 존재하지 않는 인덱스에 값을 할당하는 경우\u001b[39;00m\n\u001b[32m      8\u001b[39m \u001b[38;5;66;03m# list assignment index out of range 오류 발생\u001b[39;00m\n\u001b[32m      9\u001b[39m items=[\u001b[32m100\u001b[39m,\u001b[32m200\u001b[39m,\u001b[32m300\u001b[39m]\n",
      "\u001b[31mIndexError\u001b[39m: list index out of range"
     ]
    }
   ],
   "source": [
    "# 존재하지 않는 인덱스에 접근할 때 발생하는 오류\n",
    "#index out of range 오류 발생 -> 존재하지 않는 인덱스의 원소를 출력하는 경우\n",
    "\n",
    "items=[10,20,30]\n",
    "print(items[5]) # index out of range 오류 발생  \n",
    "\n",
    "# 존재하지 않는 인덱스에 값을 할당하는 경우\n",
    "# list assignment index out of range 오류 발생\n",
    "items=[100,200,300]\n",
    "items[3]=300 # index 3은 존재하지 않음 , list assignment index out of range 오류 발생\n",
    "\n"
   ]
  },
  {
   "cell_type": "code",
   "execution_count": null,
   "id": "1e4dcf01",
   "metadata": {},
   "outputs": [
    {
     "name": "stdout",
     "output_type": "stream",
     "text": [
      "10\n",
      "20\n",
      "30\n",
      "변경 전: [100, 200, 300]\n",
      "변경 후: [111, 250, 100]\n"
     ]
    }
   ],
   "source": [
    "# 일반 변수처럼 리스트의 원소값 사용 , 변경 가능\n",
    "\n",
    "items=[10,20,30]\n",
    "print(items[0]) # 10 출력\n",
    "print(items[1]) # 20 출력\n",
    "print(items[2]) # 30 출력\n",
    "\n",
    "# 원소값 변경\n",
    "mydata=[100,200,300]\n",
    "print(\"변경 전:\",mydata) # 변경 전: [100, 200, 300]\n",
    "mydata[0]=111 \n",
    "mydata[1]=mydata[1]+50\n",
    "mydata[2]//=3\n",
    "print(\"변경 후:\",mydata) # 변경 후: [111, 250, 100]"
   ]
  },
  {
   "cell_type": "code",
   "execution_count": null,
   "id": "a66f71bb",
   "metadata": {},
   "outputs": [
    {
     "name": "stdout",
     "output_type": "stream",
     "text": [
      "a: [1, 2, 3]\n",
      "b: [4, 5]\n",
      "c: [1, 2, 3, 4, 5]\n",
      "d: [10, 20, 30]\n",
      "e: [10, 20, 30, 10, 20, 30, 10, 20, 30]\n"
     ]
    }
   ],
   "source": [
    "# 리스트의 연산  ( 원본값은 변경되지 않음 )\n",
    "\n",
    "#리스트의 덧셈\n",
    "a=[1,2,3]\n",
    "b=[4,5]\n",
    "c=a+b\n",
    "print(\"a:\",a) # a: [1, 2, 3]\n",
    "print(\"b:\",b) # b: [4, 5]\n",
    "print(\"c:\",c) # c: [1, 2, 3, 4, 5] , c는 a와 b가 합쳐진 새로운 리스트\n",
    "\n",
    "# 리스트의 곱셈 - 곱해진 만큼 원소가 반복\n",
    "d=[10,20,30]\n",
    "e=d*3\n",
    "print(\"d:\",d) # d: [10, 20, 30]\n",
    "print(\"e:\",e) # e: [10, 20, 30, 10, 20, 30, 10, 20, 30] , e는 d가 3번 반복된 새로운 리스트"
   ]
  },
  {
   "cell_type": "code",
   "execution_count": null,
   "id": "4cdbc162",
   "metadata": {},
   "outputs": [
    {
     "ename": "TypeError",
     "evalue": "can only concatenate list (not \"str\") to list",
     "output_type": "error",
     "traceback": [
      "\u001b[31m---------------------------------------------------------------------------\u001b[39m",
      "\u001b[31mTypeError\u001b[39m                                 Traceback (most recent call last)",
      "\u001b[36mCell\u001b[39m\u001b[36m \u001b[39m\u001b[32mIn[26]\u001b[39m\u001b[32m, line 5\u001b[39m\n\u001b[32m      3\u001b[39m list1=[\u001b[32m1\u001b[39m,\u001b[32m2\u001b[39m,\u001b[32m3\u001b[39m]\n\u001b[32m      4\u001b[39m list2=[\u001b[32m4\u001b[39m,\u001b[32m5\u001b[39m,\u001b[32m6\u001b[39m]    \n\u001b[32m----> \u001b[39m\u001b[32m5\u001b[39m \u001b[38;5;28mprint\u001b[39m(\u001b[43mlist1\u001b[49m\u001b[43m \u001b[49m\u001b[43m+\u001b[49m\u001b[43m \u001b[49m\u001b[33;43m\"\u001b[39;49m\u001b[33;43mjo\u001b[39;49m\u001b[33;43m\"\u001b[39;49m) \u001b[38;5;66;03m# TypeError 발생\u001b[39;00m\n\u001b[32m      6\u001b[39m \u001b[38;5;28mprint\u001b[39m(list1 * list2) \u001b[38;5;66;03m# TypeError 발생\u001b[39;00m\n",
      "\u001b[31mTypeError\u001b[39m: can only concatenate list (not \"str\") to list"
     ]
    }
   ],
   "source": [
    "# 리스트 + 리스트, 리스트* 정수를 제외하고는 에러발생\n",
    "\n",
    "list1=[1,2,3]\n",
    "list2=[4,5,6]    \n",
    "print(list1 + 3) # TypeError 발생\n",
    "print(list1 * 2.5) # TypeError 발생\n",
    "print(list1 + \"jo\") # TypeError 발생\n",
    "print(list1 * list2) # TypeError 발생"
   ]
  },
  {
   "cell_type": "code",
   "execution_count": null,
   "id": "14167ab7",
   "metadata": {},
   "outputs": [
    {
     "name": "stdout",
     "output_type": "stream",
     "text": [
      "[[1, 2, 3], [10, 20, 30], [100, 200, 300]]\n"
     ]
    }
   ],
   "source": [
    "# 2차원 리스트\n",
    "# 리스트 안에 리스트가 원소로 포함된 형태\n",
    "a=[1,2,3]\n",
    "b=[10,20,30]\n",
    "c=[100,200,300]\n",
    "my_list=[a,b,c] # 2차원 리스트 생성\n",
    "print(my_list) # [[1, 2, 3], [10, 20, 30], [100, 200, 300]]"
   ]
  },
  {
   "cell_type": "code",
   "execution_count": null,
   "id": "00c278b2",
   "metadata": {},
   "outputs": [
    {
     "name": "stdout",
     "output_type": "stream",
     "text": [
      "[1, 2, 3]\n",
      "[10, 20, 30]\n",
      "[100, 200, 300]\n",
      "1\n",
      "30\n",
      "200\n"
     ]
    }
   ],
   "source": [
    "# 2차원리스트 행에 접근\n",
    "\n",
    "my_list=[[1,2,3],[10,20,30],[100,200,300]]\n",
    "\n",
    "print(my_list[0]) # 첫번째 행 접근 , [1, 2, 3] 0번째 행 \n",
    "print(my_list[1]) # 두번째 행 접근 , [10, 20, 30] 1번째 행\n",
    "print(my_list[2]) # 세번째 행 접근 , [100, 200, 300] 2번째 행\n",
    "\n",
    "# 2차원리스트 열에 접근 \n",
    "print(my_list[0][0]) # 첫번째 행의 첫번째 열 , 1 출력\n",
    "print(my_list[1][2]) # 두번째 행의 세번째 열 , 30 출력\n",
    "print(my_list[2][1]) # 세번째 행의 두번째 열 , 200 출력"
   ]
  },
  {
   "cell_type": "code",
   "execution_count": null,
   "id": "05ebe5a0",
   "metadata": {},
   "outputs": [
    {
     "name": "stdout",
     "output_type": "stream",
     "text": [
      "[[1], [10, 20], [100, 200, 300]]\n"
     ]
    }
   ],
   "source": [
    "# 가변리스트\n",
    "my_list=[[1],[10,20],[100,200,300]]\n",
    "print(my_list) # [[1], [10, 20], [100, 200, 300]]"
   ]
  },
  {
   "cell_type": "markdown",
   "id": "8197a6c2",
   "metadata": {},
   "source": [
    "## 인덱싱과 슬라이싱 \n",
    "\n",
    "### 인덱싱 : 원하는 값 원소 값 0부터 시작 , 뒤에서 부터 인덱스 번호 한다면 -1 부터 시작 \n",
    "\n",
    "### 슬라이싱 : 원소 구간 설정 , "
   ]
  },
  {
   "cell_type": "code",
   "execution_count": null,
   "id": "9bffb73e",
   "metadata": {},
   "outputs": [
    {
     "name": "stdout",
     "output_type": "stream",
     "text": [
      "20\n",
      "30\n",
      "10\n",
      "[10, 200, 30]\n"
     ]
    }
   ],
   "source": [
    "mylist=[10,20,30]\n",
    "print(mylist[1]) #1번째 원소 출력 , 20\n",
    "print(mylist[-1]) #마지막 원소 출력 , 30\n",
    "\n",
    "first= mylist[0] # first 변수에 0번째 원소 복사\n",
    "print(first) # 10 출력\n",
    "\n",
    "mylist[1]=200 # 1번째 원소값을 다른 값 200으로 변경\n",
    "print(mylist) # [10, 200, 30] 출력"
   ]
  },
  {
   "cell_type": "code",
   "execution_count": null,
   "id": "7771a425",
   "metadata": {},
   "outputs": [
    {
     "name": "stdout",
     "output_type": "stream",
     "text": [
      "[20, 30, 40]\n",
      "[20, 30, 40]\n",
      "[20, 30, 40]\n"
     ]
    }
   ],
   "source": [
    "# 리스트의 슬라이싱 [시작인덱스:끝인덱스], 끝인덱스는 지정된 값 바로 전 인덱스까지 포함\n",
    "mylist=[10,20,30,40,50]\n",
    "print(mylist[1:4]) # 인덱스 1~3까지 출력 , [20, 30, 40]\n",
    "print(mylist[-4:-1]) # 인덱스 -4 ~ -2까지 출력 , [20, 30, 40]\n",
    "print(mylist[1:-1]) # 인덱스 1 ~ -2까지 출력 , [20, 30, 40]"
   ]
  },
  {
   "cell_type": "code",
   "execution_count": null,
   "id": "7ef1cdf5",
   "metadata": {},
   "outputs": [
    {
     "name": "stdout",
     "output_type": "stream",
     "text": [
      "[10, 20, 30]\n"
     ]
    }
   ],
   "source": [
    "# 시작 인덱스를 지정하지 않는 경우 -> 처음부터 끝인덱스 바로 전까지\n",
    "mylist=[10,20,30,40,50]\n",
    "print(mylist[:3]) # 인덱스 0~2까지 출력 , [10, 20, 30]"
   ]
  },
  {
   "cell_type": "code",
   "execution_count": null,
   "id": "5546a1d9",
   "metadata": {},
   "outputs": [
    {
     "name": "stdout",
     "output_type": "stream",
     "text": [
      "[30, 40, 50]\n"
     ]
    }
   ],
   "source": [
    "# 종료 인덱스를 지정하지 않는 경우 -> 시작 인덱스 부터 끝까지\n",
    "mylist=[10,20,30,40,50]\n",
    "print(mylist[2:]) # 인덱스 2~끝까지 출력 , [30, 40, 50]"
   ]
  },
  {
   "cell_type": "code",
   "execution_count": null,
   "id": "e98f3982",
   "metadata": {},
   "outputs": [
    {
     "name": "stdout",
     "output_type": "stream",
     "text": [
      "[10, 20, 30, 40, 50]\n"
     ]
    }
   ],
   "source": [
    "# 시작 위치와 종료 위치 지정하지 않는 경우 -> 처음부터 끝까지\n",
    "mylist=[10,20,30,40,50]\n",
    "print(mylist[:]) # 처음부터 끝까지 출력 , [10, 20, 30, 40, 50]"
   ]
  },
  {
   "cell_type": "code",
   "execution_count": null,
   "id": "30d53d82",
   "metadata": {},
   "outputs": [
    {
     "name": "stdout",
     "output_type": "stream",
     "text": [
      "[1, 20, 30, 40, 5]\n"
     ]
    }
   ],
   "source": [
    "# 동일한 길이의 리스트 대입 -> 원소 교체 \n",
    "foo=[1,2,3,4,5]\n",
    "\n",
    "foo[1:4]=[20,30,40] # 인덱스 1~3까지 원소를 [20,30,40]으로 교체\n",
    "print(foo) # [1, 20, 30, 40, 5]"
   ]
  },
  {
   "cell_type": "code",
   "execution_count": null,
   "id": "2d399ecf",
   "metadata": {},
   "outputs": [
    {
     "name": "stdout",
     "output_type": "stream",
     "text": [
      "[11, 55]\n"
     ]
    }
   ],
   "source": [
    "# 지정된 범위에 빈 리스트 대입 -> 원소 삭제\n",
    "bar=[11,22,33,44,55]\n",
    "bar[1:4]=[] # 인덱스 1~3까지 원소를 빈 리스트로 교체\n",
    "print(bar) # [11, 55]"
   ]
  },
  {
   "cell_type": "code",
   "execution_count": null,
   "id": "0cedc4b7",
   "metadata": {},
   "outputs": [
    {
     "name": "stdout",
     "output_type": "stream",
     "text": [
      "[1, 20, 30, 40, 50, 60]\n"
     ]
    }
   ],
   "source": [
    "# 리스트 확장 -> 길이보다 더 긴 리스트 대입\n",
    "my_list=[1,2,3]\n",
    "my_list[1:4]=[20,30,40,50,60] # 인덱스 1~3까지 원소를 [20,30,40,50,60]으로 교체\n",
    "print(my_list) # [1, 20, 30, 40, 50, 60]"
   ]
  },
  {
   "cell_type": "code",
   "execution_count": null,
   "id": "1b74d751",
   "metadata": {},
   "outputs": [
    {
     "name": "stdout",
     "output_type": "stream",
     "text": [
      "[10, 100, 200, 50]\n"
     ]
    }
   ],
   "source": [
    "# 리스트 축소 -> 길이보다 더 짧은 리스트 대입\n",
    "my_list=[10,20,30,40,50]\n",
    "my_list[1:4]=[100,200] # 인덱스 1~3까지 원소를 [100,200]으로 교체\n",
    "print(my_list) # [10, 100, 200, 50] , 한개의 원소가 삭제됨"
   ]
  },
  {
   "cell_type": "markdown",
   "id": "74a29fee",
   "metadata": {},
   "source": [
    "## 리스트의 원소 복사"
   ]
  },
  {
   "cell_type": "code",
   "execution_count": null,
   "id": "9ed5a1e4",
   "metadata": {},
   "outputs": [
    {
     "name": "stdout",
     "output_type": "stream",
     "text": [
      "a: 100\n",
      "b: 100\n",
      "a: 100\n",
      "b: 200\n"
     ]
    }
   ],
   "source": [
    "# 일반변수의 복사\n",
    "a=100\n",
    "b=a # 변수 a의 값을 변수 b에 복사\n",
    "print(\"a:\",a) # a: 100\n",
    "print(\"b:\",b) # b: 100\n",
    "\n",
    "# 복사본을 변경하더라도 원본에는 변경 없음\n",
    "b=200\n",
    "print(\"a:\",a) # a: 100\n",
    "print(\"b:\",b) # b: 200"
   ]
  },
  {
   "cell_type": "code",
   "execution_count": null,
   "id": "31021156",
   "metadata": {},
   "outputs": [
    {
     "name": "stdout",
     "output_type": "stream",
     "text": [
      "foo: [1, 2, 3]\n",
      "bar: [1, 2, 3]\n",
      "foo: [100, 2, 3]\n",
      "bar: [100, 2, 3]\n"
     ]
    }
   ],
   "source": [
    "# 객체의 참조 -> 리스트, 딕셔너리\n",
    "foo=[1,2,3]\n",
    "bar=foo # 변수 bar에 리스트 foo의 '주소값'이 복사됨\n",
    "print(\"foo:\",foo) # foo: [1, 2, 3]\n",
    "print(\"bar:\",bar) # bar: [1, 2, 3]\n",
    "\n",
    "# 참조된 복사본을 변경하면 원본도 변경됨\n",
    "bar[0]=100\n",
    "print(\"foo:\",foo) # foo: [100, 2, 3]\n",
    "print(\"bar:\",bar) # bar: [100, 2, 3]"
   ]
  },
  {
   "cell_type": "code",
   "execution_count": null,
   "id": "020456aa",
   "metadata": {},
   "outputs": [
    {
     "name": "stdout",
     "output_type": "stream",
     "text": [
      "[100, 200, 300]\n",
      "hello: [100, 200, 300]\n",
      "world: [977, 200, 300]\n"
     ]
    }
   ],
   "source": [
    "# 슬라이싱을 활용한 깊은 복사\n",
    "\n",
    "hello=[100,200,300]\n",
    "world=hello[:]  # hello 리스트를 처음부터 끝까지 슬라이싱하여 복사\n",
    "print(world) # [100, 200, 300]\n",
    "\n",
    "# 복사본을 변경해도 원본에는 영향 없음\n",
    "world[0]=977\n",
    "print(\"hello:\",hello) # hello: [100, 200, 300]\n",
    "print(\"world:\",world) # world: [977, 200, 300]"
   ]
  },
  {
   "cell_type": "code",
   "execution_count": null,
   "id": "9c776093",
   "metadata": {},
   "outputs": [
    {
     "name": "stdout",
     "output_type": "stream",
     "text": [
      "hello: [1, 2, 3, 4, 5]\n",
      "world: [1, 2, 3, 4, 5]\n",
      "hello: [1, 2, 3, 4, 5]\n",
      "world: [977, 2, 3, 4, 5]\n"
     ]
    }
   ],
   "source": [
    "#copy() 메서드 활용 깊은 복사\n",
    "hello=[1,2,3,4,5]\n",
    "world=hello.copy() # hello 리스트를 copy() 메서드를 사용하여 복사\n",
    "print(\"hello:\",hello) # hello: [1, 2, 3, 4, 5]\n",
    "print(\"world:\",world) # world: [1, 2, 3, 4, 5]\n",
    "\n",
    "# 복사본을 변경해도 원본에는 영향 없음\n",
    "world[0]=977\n",
    "print(\"hello:\",hello) # hello: [1, 2, 3, 4, 5]\n",
    "print(\"world:\",world) # world: [977, 2, 3, 4, 5]"
   ]
  },
  {
   "cell_type": "code",
   "execution_count": null,
   "id": "258ef751",
   "metadata": {},
   "outputs": [
    {
     "name": "stdout",
     "output_type": "stream",
     "text": [
      "(90, 85, 70, 100, 95)\n",
      "('철수', 90)\n"
     ]
    },
    {
     "ename": "TypeError",
     "evalue": "'tuple' object does not support item assignment",
     "output_type": "error",
     "traceback": [
      "\u001b[31m---------------------------------------------------------------------------\u001b[39m",
      "\u001b[31mTypeError\u001b[39m                                 Traceback (most recent call last)",
      "\u001b[36mCell\u001b[39m\u001b[36m \u001b[39m\u001b[32mIn[58]\u001b[39m\u001b[32m, line 11\u001b[39m\n\u001b[32m      8\u001b[39m \u001b[38;5;28mprint\u001b[39m(student1) \u001b[38;5;66;03m# ('철수', 90)\u001b[39;00m\n\u001b[32m     10\u001b[39m \u001b[38;5;66;03m# 튜플의 원소 변경 불가능 -> TypeError 발생 , 읽기전용\u001b[39;00m\n\u001b[32m---> \u001b[39m\u001b[32m11\u001b[39m \u001b[43mstudent1\u001b[49m\u001b[43m[\u001b[49m\u001b[32;43m0\u001b[39;49m\u001b[43m]\u001b[49m=\u001b[33m\"\u001b[39m\u001b[33m영희\u001b[39m\u001b[33m\"\u001b[39m\n",
      "\u001b[31mTypeError\u001b[39m: 'tuple' object does not support item assignment"
     ]
    }
   ],
   "source": [
    "# 튜플 -> 리스트와 유사한 자료형 , 원소의 변경, 추가, 삭제 불가능 -> 읽기 전용\n",
    "\n",
    "grades=(90,85,70,100,95)\n",
    "print(grades) # (90, 85, 70, 100, 95)\n",
    "\n",
    "#자료형에 대한 혼합 사용가능 \n",
    "student1=(\"철수\",90) \n",
    "print(student1) # ('철수', 90)\n",
    "\n",
    "# 튜플의 원소 변경 불가능 -> TypeError 발생 , 읽기전용\n",
    "student1[0]=\"영희\" # TypeError: 'tuple' object does not support item assignment"
   ]
  },
  {
   "cell_type": "code",
   "execution_count": null,
   "id": "7f01a755",
   "metadata": {},
   "outputs": [
    {
     "name": "stdout",
     "output_type": "stream",
     "text": [
      "Python\n",
      "Programming\n",
      "Python\n",
      "Programming\n"
     ]
    },
    {
     "ename": "ValueError",
     "evalue": "too many values to unpack (expected 3)",
     "output_type": "error",
     "traceback": [
      "\u001b[31m---------------------------------------------------------------------------\u001b[39m",
      "\u001b[31mValueError\u001b[39m                                Traceback (most recent call last)",
      "\u001b[36mCell\u001b[39m\u001b[36m \u001b[39m\u001b[32mIn[63]\u001b[39m\u001b[32m, line 13\u001b[39m\n\u001b[32m     10\u001b[39m \u001b[38;5;28mprint\u001b[39m(y) \u001b[38;5;66;03m# Programming\u001b[39;00m\n\u001b[32m     12\u001b[39m \u001b[38;5;66;03m# 리스트의 원소수와 분해되는 변수의 수가 다른 경우 -> ValueError 발생\u001b[39;00m\n\u001b[32m---> \u001b[39m\u001b[32m13\u001b[39m a,b,c=[\u001b[32m10\u001b[39m,\u001b[32m20\u001b[39m,\u001b[32m30\u001b[39m,\u001b[32m40\u001b[39m] \u001b[38;5;66;03m# ValueError: too many values to unpack (expected 3)\u001b[39;00m\n\u001b[32m     14\u001b[39m d,e,f,g=(\u001b[32m100\u001b[39m,\u001b[32m200\u001b[39m) \u001b[38;5;66;03m# ValueError: not enough values to unpack (expected 4, got 2)\u001b[39;00m\n",
      "\u001b[31mValueError\u001b[39m: too many values to unpack (expected 3)"
     ]
    }
   ],
   "source": [
    "# 구조분해\n",
    "# 리스트\n",
    "a,b=[\"Python\",\"Programming\"]\n",
    "print(a) # Python\n",
    "print(b) # Programming\n",
    "\n",
    "# 튜플\n",
    "x,y=(\"Python\",\"Programming\")\n",
    "print(x) # Python\n",
    "print(y) # Programming\n",
    "\n",
    "# 리스트의 원소수와 분해되는 변수의 수가 다른 경우 -> ValueError 발생\n",
    "a,b,c=[10,20,30,40] # ValueError: too many values to unpack (expected 3)\n",
    "d,e,f,g=(100,200) # ValueError: not enough values to unpack (expected 4, got 2)\n"
   ]
  },
  {
   "cell_type": "code",
   "execution_count": null,
   "id": "de1eab5e",
   "metadata": {},
   "outputs": [
    {
     "name": "stdout",
     "output_type": "stream",
     "text": [
      "[2, 1]\n",
      "몫: 2\n",
      "나머지: 1\n"
     ]
    }
   ],
   "source": [
    "# 함수 리턴 값의 구조 분해\n",
    "def divmod(a,b):\n",
    "    return [a//b, a%b] # 리스트로 몫과 나머지 반환\n",
    "\n",
    "# 함수 호출 --> 리턴 결과는 리스트\n",
    "result=divmod(7,3)\n",
    "print(result) # [2, 1]\n",
    "type(result) # <class 'list'>\n",
    "\n",
    "# 리턴 결과를 구조분해로 받기\n",
    "x,y=divmod(7,3)\n",
    "print(\"몫:\",x) # 몫: 2\n",
    "print(\"나머지:\",y) # 나머지: 1"
   ]
  },
  {
   "cell_type": "markdown",
   "id": "701cf52e",
   "metadata": {},
   "source": [
    "## 리스트의 탐색"
   ]
  },
  {
   "cell_type": "code",
   "execution_count": null,
   "id": "48de0f81",
   "metadata": {},
   "outputs": [
    {
     "name": "stdout",
     "output_type": "stream",
     "text": [
      "리스트에 원소가 존재합니다.\n",
      "리스트가 비어있습니다.\n"
     ]
    }
   ],
   "source": [
    "# 리스트나 튜플 자체를 조건식으로 지정할 경우 -> 원소가 하나라도 존재하면 참, 원소가 하나도 없으면 거짓\n",
    "\n",
    "mylist=[10,20,30]\n",
    "if mylist: # mylist가 비어있지 않으면 참\n",
    "    print(\"리스트에 원소가 존재합니다.\") # 출력\n",
    "else:\n",
    "    print(\"리스트가 비어있습니다.\")\n",
    "\n",
    "mylist=[]\n",
    "if mylist: # mylist가 비어있지 않으면 참\n",
    "    print(\"리스트에 원소가 존재합니다.\")\n",
    "else:\n",
    "    print(\"리스트가 비어있습니다.\") # 출력 "
   ]
  },
  {
   "cell_type": "code",
   "execution_count": null,
   "id": "d50e50ca",
   "metadata": {},
   "outputs": [
    {
     "name": "stdout",
     "output_type": "stream",
     "text": [
      "True\n",
      "False\n",
      "False\n",
      "True\n"
     ]
    }
   ],
   "source": [
    "# in 연산자 -> 리스트에 특정 값이 존재하는지 확인할 때 사용 , 존재하면 참, 존재하지 않으면 거짓\n",
    "# not in 연산자 -> 리스트에 특정 값이 존재하지 않는지 확인할 때 사용 , 존재하지 않으면 참, 존재하면 거짓\n",
    "mylist=[10,20,30]\n",
    "target=20\n",
    "find=target in mylist\n",
    "print(find) # True\n",
    "\n",
    "not_fine=target not in mylist\n",
    "print(not_fine) # False\n",
    "\n",
    "target=50\n",
    "find=target in mylist \n",
    "print(find) # False\n",
    "\n",
    "not_fine=target not in mylist\n",
    "print(not_fine) # True"
   ]
  },
  {
   "cell_type": "code",
   "execution_count": null,
   "id": "fd752904",
   "metadata": {},
   "outputs": [
    {
     "name": "stdout",
     "output_type": "stream",
     "text": [
      "슈퍼마켓에 존재하는 과일입니다.\n",
      "슈퍼마켓에 존재하는 과일입니다.\n"
     ]
    }
   ],
   "source": [
    "# in, not in 연산자 활용 예제 , banana 입력 시 \n",
    "\n",
    "market_fruits=[\"apple\",\"banana\",\"cherry\",\"orange\"]\n",
    "shopping_cart=input(\"장바구니에 넣을 과일을 입력하세요\") # banana\n",
    "\n",
    "if shopping_cart in market_fruits:\n",
    "    print(\"슈퍼마켓에 존재하는 과일입니다.\") # 출력 \n",
    "else:\n",
    "    print(\"슈퍼마켓에 존재하지 않는 과일입니다.\")\n",
    "\n",
    "# not in 연산자\n",
    "if shopping_cart not in market_fruits:\n",
    "    print(\"슈퍼마켓에 존재하지 않는 과일입니다.\")\n",
    "else:\n",
    "    print(\"슈퍼마켓에 존재하는 과일입니다.\") # 출력"
   ]
  },
  {
   "cell_type": "code",
   "execution_count": null,
   "id": "546496dc",
   "metadata": {},
   "outputs": [
    {
     "name": "stdout",
     "output_type": "stream",
     "text": [
      "4\n",
      "4\n"
     ]
    }
   ],
   "source": [
    "# len() 함수 -> 리스트의 원소 개수(길이)를 반환 , 0부터 세지 않는 것에 주의!\n",
    "\n",
    "my_list=[10,20,30,40]\n",
    "print(len(my_list)) # 4 출력\n",
    "\n",
    "# 튜플도 동일\n",
    "my_tuple=(10,20,30,40)\n",
    "print(len(my_tuple)) # 4 출력"
   ]
  },
  {
   "cell_type": "code",
   "execution_count": null,
   "id": "ed4ff9e9",
   "metadata": {},
   "outputs": [
    {
     "name": "stdout",
     "output_type": "stream",
     "text": [
      "10\n",
      "20\n",
      "30\n",
      "40\n",
      "50\n",
      "10\n",
      "20\n",
      "30\n",
      "40\n",
      "50\n"
     ]
    }
   ],
   "source": [
    "# 1차원 리스트 탐색 -> 반복문 활용\n",
    "\n",
    "# while문 활용\n",
    "numbers=[10,20,30,40,50]\n",
    "i=0\n",
    "while i<len(numbers):\n",
    "    print(numbers[i]) # 인덱스 i번 원소 출력 , 10 20 30 40 50 출력\n",
    "    i+=1\n",
    "\n",
    "# for문 활용\n",
    "for i in range(0,len(numbers)):\n",
    "    print(numbers[i]) # 인덱스 i번 원소 출력 , 10 20 30 40 50 출력"
   ]
  },
  {
   "cell_type": "code",
   "execution_count": null,
   "id": "273a1877",
   "metadata": {},
   "outputs": [
    {
     "name": "stdout",
     "output_type": "stream",
     "text": [
      "총점: 428\n",
      "평균: 85.6\n",
      "총점: 428\n",
      "평균: 85.6\n"
     ]
    }
   ],
   "source": [
    "#리스트의 원소 탐색\n",
    "# 리스트의 인덱스 번호에 대한 반복 범위 설정\n",
    "\n",
    "# while문 활용 , 리스트의 총점과 평균 구하기\n",
    "grades=[92,88,76,90,82] # 리스트\n",
    "subject_count=len(grades) # 리스트의 전체 원소 수\n",
    "i=0 #인덱스 초기화\n",
    "grade_sum=0 # 성적의 합산을 위한 변수 초기화\n",
    "\n",
    "while i<subject_count: # 인덱스가 과목수보다 작을때 동안 반복\n",
    "    grade_sum+=grades[i] # 성적 합산, 이때 grades[i]는 grades 리스트의 i번째 원소\n",
    "    i+=1 # 인덱스 1 증가\n",
    "\n",
    "average_sum=grade_sum/subject_count # 평균점수 계산\n",
    "\n",
    "print(\"총점:\",grade_sum) # 총점: 428\n",
    "print(\"평균:\",average_sum) # 평균: 85.6\n",
    "\n",
    "# for문 활용\n",
    "grades=[92,88,76,90,82] \n",
    "subject_count=len(grades)\n",
    "grade_sum=0\n",
    "\n",
    "for i in range(0,subject_count):\n",
    "    grade_sum+=grades[i]\n",
    "    i+=1\n",
    "average_sum=grade_sum/subject_count\n",
    "print(\"총점:\",grade_sum) # 총점: 428\n",
    "print(\"평균:\",average_sum) # 평균: 85.6\n"
   ]
  },
  {
   "cell_type": "code",
   "execution_count": null,
   "id": "2a24d5fa",
   "metadata": {},
   "outputs": [
    {
     "name": "stdout",
     "output_type": "stream",
     "text": [
      "Hello\n",
      "Python\n",
      "Programming\n"
     ]
    }
   ],
   "source": [
    "# 리스트 자체를 탐색하는 for문 \n",
    "\n",
    "msg=[\"Hello\",\"Python\",\"Programming\"]\n",
    "for word in msg:\n",
    "    print(word) # Hello Python Programming 각각 출력"
   ]
  },
  {
   "cell_type": "code",
   "execution_count": null,
   "id": "b263cebc",
   "metadata": {},
   "outputs": [
    {
     "name": "stdout",
     "output_type": "stream",
     "text": [
      "100\n",
      "82\n",
      "98\n",
      "76\n",
      "51\n",
      "총점: 407\n",
      "평균: 81\n"
     ]
    }
   ],
   "source": [
    "# 리스트의 원소의 총점, 평균 구하기\n",
    "scores=[100,82,98,76,51]\n",
    "total=0 # 총점 초기화\n",
    "\n",
    "for v in scores: # scores 리스트의 원소를 하나씩 v에 대입하며 반복\n",
    "    print(v) # 원소 출력 , 100 82 98 76 51 각각 출력\n",
    "    total+=v # 총점 계산\n",
    "\n",
    "avg=total // len(scores) # 평균 계산\n",
    "print(\"총점:\",total) # 총점: 407\n",
    "print(\"평균:\",avg) # 평균: 81"
   ]
  },
  {
   "cell_type": "code",
   "execution_count": null,
   "id": "d53066ff",
   "metadata": {},
   "outputs": [
    {
     "name": "stdout",
     "output_type": "stream",
     "text": [
      "index: 0 , value: Seoul\n",
      "index: 1 , value: Daegu\n",
      "index: 2 , value: Busan\n",
      "index: 3 , value: Gwangju\n"
     ]
    }
   ],
   "source": [
    "# 인덱스 번호와 원소를 모두 탐색 \n",
    "# enumerate() 함수 활용 -> 인덱스 번호와 원소를 동시에 반환\n",
    "# for i,v in enumerate(리스트변수):\n",
    "\n",
    "city=[\"Seoul\",\"Daegu\",\"Busan\",\"Gwangju\"]\n",
    "for i, v in enumerate(city):\n",
    "    print(\"index:\",i,\", value:\",v)\n",
    "\n",
    "#index: 0 , value: Seoul\n",
    "#index: 1 , value: Daegu\n",
    "#index: 2 , value: Busan\n",
    "#index: 3 , value: Gwangju"
   ]
  },
  {
   "cell_type": "code",
   "execution_count": null,
   "id": "42c1b533",
   "metadata": {},
   "outputs": [
    {
     "name": "stdout",
     "output_type": "stream",
     "text": [
      "행의개수 2\n",
      "0 번째 데이터 -> [88, 72, 83, 90]\n",
      "열의개수: 4\n",
      "총점: 333 , 평균: 83.25\n",
      "1 번째 데이터 -> [55, 30, 29, 49]\n",
      "열의개수: 4\n",
      "총점: 163 , 평균: 40.75\n"
     ]
    }
   ],
   "source": [
    "# 2차원 리스트 탐색\n",
    "mydata=[[88,72,83,90],[55,30,29,49]]\n",
    "\n",
    "row_size=len(mydata) # 2차원 리스트 행 개수  , size=2\n",
    "print(\"행의개수\",row_size) # 행의개수 2\n",
    "\n",
    "for i in range(0, row_size):\n",
    "    print(i,\"번째 데이터 ->\", mydata[i])\n",
    "    total=0 # 각 행의 총점 초기화 \n",
    "    col_size=len(mydata[i]) # 각 행의 열의 개수 \n",
    "    print(\"열의개수:\",col_size) # 열의개수: 4\n",
    "    for j in range(0, col_size):\n",
    "        total+=mydata[i][j] # 각 행의 열 원소 합산\n",
    "    avg=total/col_size # 각 행의 평균 계산\n",
    "    print(\"총점:\",total,\", 평균:\",avg) # 총점 :333, 평균 :83.25 / 총점 :163, 평균 :40.75\n",
    "    \n",
    "    \n"
   ]
  },
  {
   "cell_type": "code",
   "execution_count": null,
   "id": "58f20c01",
   "metadata": {},
   "outputs": [
    {
     "name": "stdout",
     "output_type": "stream",
     "text": [
      "이번에 출력되는 데이터 -> [88, 72, 83, 90]\n",
      "총점: 333 , 평균: 83.25\n",
      "이번에 출력되는 데이터 -> [55, 30, 29, 49]\n",
      "총점: 163 , 평균: 40.75\n"
     ]
    }
   ],
   "source": [
    "# 2차원 리스트 탐색 in 활용 \n",
    "mydata=[[88,72,83,90],[55,30,29,49]]\n",
    "\n",
    "for row in mydata: \n",
    "    print(\"이번에 출력되는 데이터 ->\",row) # 각 행 출력\n",
    "    total=0\n",
    "    for col in row: # 각 행의 원소 접근\n",
    "        total+=col\n",
    "    avg=total / len(row)\n",
    "    print(\"총점:\",total,\", 평균:\",avg)"
   ]
  },
  {
   "cell_type": "code",
   "execution_count": null,
   "id": "c819197f",
   "metadata": {},
   "outputs": [],
   "source": []
  }
 ],
 "metadata": {
  "kernelspec": {
   "display_name": "Python 3",
   "language": "python",
   "name": "python3"
  },
  "language_info": {
   "codemirror_mode": {
    "name": "ipython",
    "version": 3
   },
   "file_extension": ".py",
   "mimetype": "text/x-python",
   "name": "python",
   "nbconvert_exporter": "python",
   "pygments_lexer": "ipython3",
   "version": "3.13.6"
  }
 },
 "nbformat": 4,
 "nbformat_minor": 5
}
