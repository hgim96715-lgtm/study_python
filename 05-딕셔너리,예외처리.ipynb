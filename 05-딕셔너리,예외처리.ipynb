{
 "cells": [
  {
   "cell_type": "markdown",
   "id": "f8c1a449",
   "metadata": {},
   "source": [
    "## 딕셔너리\n",
    "key와 값(value)의 쌍으로 데이터를 저장\n",
    "- <code>변수이름[\"key\"]</code>의 형식으로 키를 사용\n",
    "- 존재하지 않는 키에 접근 하면 KeyError 발생"
   ]
  },
  {
   "cell_type": "code",
   "execution_count": 5,
   "id": "7215f15c",
   "metadata": {},
   "outputs": [
    {
     "name": "stdout",
     "output_type": "stream",
     "text": [
      "<class 'dict'>\n",
      "{'name': '홍길동', 'age': 30, 'city': '서울'}\n"
     ]
    }
   ],
   "source": [
    "# 딕셔너리 \n",
    "# 키-값 쌍으로 데이터를 저장하는 자료형\n",
    "# 딕셔너리 생성\n",
    "mydic={}\n",
    "print(type(mydic))  # <class 'dict'>\n",
    "\n",
    "# 딕셔너리에 데이터 추가\n",
    "mydic={'name':'홍길동', 'age':30, 'city':'서울'}\n",
    "print(mydic)  # {'name': '홍길동', 'age': 30, 'city': '서울'}"
   ]
  },
  {
   "cell_type": "code",
   "execution_count": null,
   "id": "17ba7562",
   "metadata": {},
   "outputs": [
    {
     "name": "stdout",
     "output_type": "stream",
     "text": [
      "홍길동\n",
      "31\n",
      "None\n",
      "없음\n",
      "{'name': '홍길동', 'age': 31, 'city': '서울', 'job': 'singer', 'hobby': 'movie'}\n",
      "{'name': '홍길동', 'age': 34, 'city': '서울', 'job': 'singer', 'hobby': 'movie'}\n"
     ]
    }
   ],
   "source": [
    "# 딕셔너리 데이터 접근 변수이름[키이름]\n",
    "print(mydic['name'])  # 홍길동\n",
    "print(mydic['age'])   # 30\n",
    "print(mydic.get('no'))  # None\n",
    "print(mydic.get('no','없음'))  # 없음\n",
    "\n",
    "\n",
    "# 딕셔너리 데이터 수정\n",
    "mydic['age']=31\n",
    "print(mydic)  # {'name': '홍길동', 'age': 31, 'city': '서울'}\n",
    "\n",
    "# 여러 키-값 쌍을 한번에 추가 update()\n",
    "mydic.update({'job':'singer','hobby':'movie','age':34})\n",
    "print(mydic)  # {'name': '홍길동', 'age': 34, 'city': '서울', 'job': 'singer', 'hobby': 'movie'}\n",
    "\n"
   ]
  },
  {
   "cell_type": "code",
   "execution_count": 2,
   "id": "2e032e13",
   "metadata": {},
   "outputs": [
    {
     "name": "stdout",
     "output_type": "stream",
     "text": [
      "{'a': 1, 'b': 2, 'c': 3}\n"
     ]
    }
   ],
   "source": [
    "# 존재하지 않는 키에 값을 할당하면 새로운 키-값 쌍이 추가된다.\n",
    "foo={\"a\":1,\"b\":2}\n",
    "foo[\"c\"]=3\n",
    "print(foo)  # {'a': 1, 'b': 2, 'c': 3}"
   ]
  },
  {
   "cell_type": "code",
   "execution_count": null,
   "id": "c8b25124",
   "metadata": {},
   "outputs": [
    {
     "name": "stdout",
     "output_type": "stream",
     "text": [
      "0번째 학생 {'name': '홍길동', 'kor': 90, 'eng': 85, 'math': 95}\n",
      "1번째 학생 {'name': '김철수', 'kor': 80, 'eng': 75, 'math': 70}\n",
      "2번째 학생 {'name': '이영희', 'kor': 85, 'eng': 95, 'math': 100}\n"
     ]
    }
   ],
   "source": [
    "#리스트의 원소가 딕셔너리가 될 수 있다.\n",
    "grade=[\n",
    "    {'name':'홍길동','kor':90,'eng':85,'math':95},\n",
    "    {'name':'김철수','kor':80,'eng':75,'math':70},\n",
    "    {'name':'이영희','kor':85,'eng':95,'math':100}\n",
    "]\n",
    "\n",
    "print(\"0번째 학생 %s\" % grade[0]) # 0번째 학생 {'name': '홍길동', 'kor': 90, 'eng': 85, 'math': 95}\n",
    "print(\"1번째 학생 %s\" % grade[1]) # 1번째 학생 {'name': '김철수', 'kor': 80, 'eng': 75, 'math': 70}\n",
    "print(\"2번째 학생 %s\" % grade[2]) # 2번째 학생 {'name': '이영희', 'kor': 85, 'eng': 95, 'math': 100}"
   ]
  },
  {
   "cell_type": "code",
   "execution_count": 6,
   "id": "9e3af151",
   "metadata": {},
   "outputs": [
    {
     "name": "stdout",
     "output_type": "stream",
     "text": [
      "[철수] 나이: 10세, 키:172.5cm\n",
      "[민수] 나이: 11세, 키:168.4cm\n",
      "[영희] 나이: 9세, 키:158.2cm\n"
     ]
    }
   ],
   "source": [
    "# 각 key에 대응되는 value가 리스트 자료형인 경우\n",
    "student={\n",
    "    'name':['철수','민수','영희'],\n",
    "    'age':[10,11,9],\n",
    "    'height':[172.5,168.4,158.2]\n",
    "}\n",
    "tpl=\"[%s] 나이: %d세, 키:%0.1fcm\"\n",
    "print(tpl % (student['name'][0],student['age'][0],student['height'][0]))  # [철수] 나이: 10세, 키:172.5cm\n",
    "print(tpl % (student['name'][1],student['age'][1],student['height'][1]))  # [민수] 나이: 11세, 키:168.4cm\n",
    "print(tpl % (student['name'][2],student['age'][2],student['height'][2]))  # [영희] 나이: 9세, 키:158.2cm"
   ]
  },
  {
   "cell_type": "code",
   "execution_count": null,
   "id": "b7eee895",
   "metadata": {},
   "outputs": [
    {
     "name": "stdout",
     "output_type": "stream",
     "text": [
      "iPhone\n",
      "200$\n",
      "galaxy\n",
      "150$\n"
     ]
    }
   ],
   "source": [
    "#중첩 딕셔너리, 딕셔너리 안에 딕셔너리\n",
    "phone={\n",
    "    \"apple\":{\n",
    "        \"name\":\"iPhone\",\n",
    "        \"price\":\"200$\",\n",
    "    },\n",
    "    \"samsung\":{\n",
    "        \"name\":\"galaxy\",\n",
    "        \"price\":\"150$\",\n",
    "    },\n",
    "}\n",
    "tpl=\"%s의 가격은 %s입니다.\"\n",
    "print(tpl % (phone['apple']['name'], phone['apple']['price']))  # iPhone의 가격은 200$입니다.\n",
    "print(tpl % (phone['samsung']['name'], phone['samsung']['price']))  # galaxy의 가격은 150$입니다."
   ]
  },
  {
   "cell_type": "code",
   "execution_count": null,
   "id": "756c1135",
   "metadata": {},
   "outputs": [
    {
     "name": "stdout",
     "output_type": "stream",
     "text": [
      "email: user1@example.com, comment: Great product!\n",
      "email: user2@example.com, comment: Not bad\n",
      "email: user3@example.com, comment: Could be better\n"
     ]
    }
   ],
   "source": [
    "# 딕셔너리 안에 리스트가 있고, 리스트 안에 딕셔너리가 있는 경우\n",
    "# 리스트의 원소로 포함되는 딕셔너리는 동일한 구조를 가져야 한다.\n",
    "review={\n",
    "    \"items\":[\n",
    "        # 동일한구조 - key가 email, comment로 동일해야함\n",
    "        {\"email\":\"user1@example.com\", \"comment\":\"Great product!\"}, \n",
    "        {\"email\":\"user2@example.com\", \"comment\":\"Not bad\"},\n",
    "        {\"email\":\"user3@example.com\", \"comment\":\"Could be better\"}\n",
    "    ]\n",
    "}\n",
    "\n",
    "# items가 배열이므로 반복문 사용가능\n",
    "tpl= \"email: {0}, comment: {1}\"\n",
    "for item in review['items']: # 외부키 'items'로 접근\n",
    "    print(tpl.format(item['email'], item['comment']))  # 내부키 'email', 'comment'로 접근\n"
   ]
  },
  {
   "cell_type": "code",
   "execution_count": 9,
   "id": "cb7ca437",
   "metadata": {},
   "outputs": [
    {
     "name": "stdout",
     "output_type": "stream",
     "text": [
      "email: user1@example.com, comment: Great product!\n",
      "email: user2@example.com, comment: Not bad\n"
     ]
    },
    {
     "ename": "KeyError",
     "evalue": "'email'",
     "output_type": "error",
     "traceback": [
      "\u001b[31m---------------------------------------------------------------------------\u001b[39m",
      "\u001b[31mKeyError\u001b[39m                                  Traceback (most recent call last)",
      "\u001b[36mCell\u001b[39m\u001b[36m \u001b[39m\u001b[32mIn[9]\u001b[39m\u001b[32m, line 14\u001b[39m\n\u001b[32m     12\u001b[39m tpl= \u001b[33m\"\u001b[39m\u001b[33memail: \u001b[39m\u001b[38;5;132;01m{0}\u001b[39;00m\u001b[33m, comment: \u001b[39m\u001b[38;5;132;01m{1}\u001b[39;00m\u001b[33m\"\u001b[39m\n\u001b[32m     13\u001b[39m \u001b[38;5;28;01mfor\u001b[39;00m item \u001b[38;5;129;01min\u001b[39;00m review[\u001b[33m'\u001b[39m\u001b[33mitems\u001b[39m\u001b[33m'\u001b[39m]: \u001b[38;5;66;03m# 외부키 'items'로 접근\u001b[39;00m\n\u001b[32m---> \u001b[39m\u001b[32m14\u001b[39m     \u001b[38;5;28mprint\u001b[39m(tpl.format(\u001b[43mitem\u001b[49m\u001b[43m[\u001b[49m\u001b[33;43m'\u001b[39;49m\u001b[33;43memail\u001b[39;49m\u001b[33;43m'\u001b[39;49m\u001b[43m]\u001b[49m, item[\u001b[33m'\u001b[39m\u001b[33mcomment\u001b[39m\u001b[33m'\u001b[39m]))  \u001b[38;5;66;03m# 내부키 'email', 'comment'로 접근\u001b[39;00m\n\u001b[32m     15\u001b[39m     \u001b[38;5;66;03m# KeyError 발생\u001b[39;00m\n",
      "\u001b[31mKeyError\u001b[39m: 'email'"
     ]
    }
   ],
   "source": [
    "# 딕셔너리 안에 리스트가 있고, 리스트 안에 딕셔너리가 있는 경우\n",
    "# 리스트의 원소로 포함되는 딕셔너리는 동일한 구조를 가져야 한다. , 만약 내부 딕셔너리의 key가 다르면 KeyError 발생\n",
    "review={\n",
    "    \"items\":[\n",
    "        # 동일한구조 - key가 email, comment로 동일해야함\n",
    "        {\"email\":\"user1@example.com\", \"comment\":\"Great product!\"},  \n",
    "        {\"email\":\"user2@example.com\", \"comment\":\"Not bad\"}, \n",
    "        {\"user\":\"user3\", \"feedback\":\"Could be better\"}  # key가 다름\n",
    "    ]\n",
    "}   \n",
    "# items가 배열이므로 반복문 사용가능\n",
    "tpl= \"email: {0}, comment: {1}\"\n",
    "for item in review['items']: # 외부키 'items'로 접근\n",
    "    print(tpl.format(item['email'], item['comment']))  # 내부키 'email', 'comment'로 접근\n",
    "    # KeyError 발생"
   ]
  },
  {
   "cell_type": "code",
   "execution_count": 11,
   "id": "6b7bf625",
   "metadata": {},
   "outputs": [
    {
     "name": "stdout",
     "output_type": "stream",
     "text": [
      "email: user1@example.com, comment: Great product!\n",
      "email: user2@example.com, comment: Not bad\n"
     ]
    },
    {
     "ename": "KeyError",
     "evalue": "'comment'",
     "output_type": "error",
     "traceback": [
      "\u001b[31m---------------------------------------------------------------------------\u001b[39m",
      "\u001b[31mKeyError\u001b[39m                                  Traceback (most recent call last)",
      "\u001b[36mCell\u001b[39m\u001b[36m \u001b[39m\u001b[32mIn[11]\u001b[39m\u001b[32m, line 13\u001b[39m\n\u001b[32m     11\u001b[39m tpl= \u001b[33m\"\u001b[39m\u001b[33memail: \u001b[39m\u001b[38;5;132;01m{0}\u001b[39;00m\u001b[33m, comment: \u001b[39m\u001b[38;5;132;01m{1}\u001b[39;00m\u001b[33m\"\u001b[39m\n\u001b[32m     12\u001b[39m \u001b[38;5;28;01mfor\u001b[39;00m item \u001b[38;5;129;01min\u001b[39;00m review[\u001b[33m'\u001b[39m\u001b[33mitems\u001b[39m\u001b[33m'\u001b[39m]: \u001b[38;5;66;03m# 외부키 'items'로 접근\u001b[39;00m\n\u001b[32m---> \u001b[39m\u001b[32m13\u001b[39m     \u001b[38;5;28mprint\u001b[39m(tpl.format(item[\u001b[33m'\u001b[39m\u001b[33memail\u001b[39m\u001b[33m'\u001b[39m], \u001b[43mitem\u001b[49m\u001b[43m[\u001b[49m\u001b[33;43m'\u001b[39;49m\u001b[33;43mcomment\u001b[39;49m\u001b[33;43m'\u001b[39;49m\u001b[43m]\u001b[49m))  \u001b[38;5;66;03m# 내부키 'email', 'comment'로 접근\u001b[39;00m\n\u001b[32m     14\u001b[39m     \u001b[38;5;66;03m# KeyError 발생\u001b[39;00m\n",
      "\u001b[31mKeyError\u001b[39m: 'comment'"
     ]
    }
   ],
   "source": [
    "# 만약 내부 딕셔너리의 key 하나가 빠지면?\n",
    "review={\n",
    "    \"items\":[\n",
    "        # 동일한구조 - key가 email, comment로 동일해야함\n",
    "        {\"email\":\"user1@example.com\", \"comment\":\"Great product!\"},  \n",
    "        {\"email\":\"user2@example.com\", \"comment\":\"Not bad\"}, \n",
    "        {\"email\":\"user3@example.com\"} # comment 키가 빠짐\n",
    "    ]\n",
    "}   \n",
    "# items가 배열이므로 반복문 사용가능\n",
    "tpl= \"email: {0}, comment: {1}\"\n",
    "for item in review['items']: # 외부키 'items'로 접근\n",
    "    print(tpl.format(item['email'], item['comment']))  # 내부키 'email', 'comment'로 접근\n",
    "    # KeyError 발생"
   ]
  },
  {
   "cell_type": "code",
   "execution_count": 12,
   "id": "c029214d",
   "metadata": {},
   "outputs": [
    {
     "name": "stdout",
     "output_type": "stream",
     "text": [
      "3\n"
     ]
    }
   ],
   "source": [
    "# 원소수 카운트\n",
    "mydic={'name':'홍길동', 'age':30, 'city':'서울'}\n",
    "print(len(mydic))  # 3"
   ]
  },
  {
   "cell_type": "code",
   "execution_count": 27,
   "id": "d73361c4",
   "metadata": {},
   "outputs": [
    {
     "name": "stdout",
     "output_type": "stream",
     "text": [
      "{'name': '홍길동', 'city': '서울'}\n",
      "삭제된 나이: 30\n",
      "{'name': '홍길동', 'city': '서울'}\n",
      "{}\n",
      "삭제된 나이: 30\n",
      "{'name': '홍길동', 'city': '서울'}\n"
     ]
    }
   ],
   "source": [
    "#del() 키-값 쌍 삭제\n",
    "mydic={'name':'홍길동', 'age':30, 'city':'서울'}\n",
    "del mydic['age']\n",
    "print(mydic)  # {'name': '홍길동', 'city': '서울'}\n",
    "\n",
    "# 존재 하지 않는 키를 삭제하려고 하면 KeyError 발생\n",
    "# del mydic['job']  # KeyError 발생\n",
    "\n",
    "# pop() 키-값 쌍 삭제 + 값 반환\n",
    "mydic={'name':'홍길동', 'age':30, 'city':'서울'}\n",
    "age= mydic.pop('age')\n",
    "print(\"삭제된 나이:\", age)  # 삭제된 나이: 30\n",
    "print(mydic)  # {'name': '홍길동', 'city': '서울'}\n",
    "\n",
    "# clear() 딕셔너리 초기화\n",
    "mydic={'name':'홍길동', 'age':30, 'city':'서울'}\n",
    "mydic.clear()\n",
    "print(mydic)  # {}\n",
    "\n",
    "# pop() : 특정 키-값 쌍 삭제 + 값 반환\n",
    "mydic={'name':'홍길동', 'age':30, 'city':'서울'}\n",
    "age= mydic.pop('age')\n",
    "print(\"삭제된 나이:\", age)  # 삭제된 나이: 30\n",
    "print(mydic)  # {'name': '홍길동', 'city': '서울'}"
   ]
  },
  {
   "cell_type": "code",
   "execution_count": 20,
   "id": "d6df5fa6",
   "metadata": {},
   "outputs": [
    {
     "name": "stdout",
     "output_type": "stream",
     "text": [
      "dict_keys(['국어', '영어', '수학'])\n",
      "['국어', '영어', '수학']\n",
      "['국어', '영어', '수학']\n",
      "국어: 90\n",
      "영어: 85\n",
      "수학: 95\n"
     ]
    }
   ],
   "source": [
    "# keys() 키 목록 반환\n",
    "성적표={\"국어\":90,\"영어\":85,\"수학\":95}\n",
    "keys=성적표.keys()\n",
    "print(keys)  # dict_keys(['국어', '영어', '수학'])\n",
    "\n",
    "# 리스트로 변환\n",
    "keys_list=list(keys)\n",
    "print(keys_list)  # ['국어', '영어', '수학']\n",
    "\n",
    "# keys()-> list() 일괄처리\n",
    "keys_list2=list(성적표.keys())\n",
    "print(keys_list2)  # ['국어', '영어', '수학']\n",
    "\n",
    "# for문으로 키 순회 \n",
    "for key in 성적표.keys():\n",
    "    print(\"%s: %d\" % (key, 성적표[key]))"
   ]
  },
  {
   "cell_type": "code",
   "execution_count": 22,
   "id": "49b5af47",
   "metadata": {},
   "outputs": [
    {
     "name": "stdout",
     "output_type": "stream",
     "text": [
      "dict_values(['의사', '변호사', '교수'])\n",
      "['의사', '변호사', '교수']\n",
      "['의사', '변호사', '교수']\n",
      "직업: 의사\n",
      "직업: 변호사\n",
      "직업: 교수\n"
     ]
    }
   ],
   "source": [
    "#values() 값 목록 반환\n",
    "jobs={'철수':'의사','영희':'변호사','민수':'교수'}\n",
    "values=jobs.values()\n",
    "print(values)  # dict_values(['의사', '변호사', '교수'])\n",
    "\n",
    "# 리스트로 변환\n",
    "values_list=list(values)\n",
    "print(values_list)  # ['의사', '변호사', '교수']\n",
    "\n",
    "# values()-> list() 일괄처리\n",
    "values_list2=list(jobs.values())\n",
    "print(values_list2)  # ['의사', '변호사', '교수']\n",
    "\n",
    "# for문으로 값 순회\n",
    "for value in jobs.values():\n",
    "    print(\"직업: %s\" % value)"
   ]
  },
  {
   "cell_type": "code",
   "execution_count": 23,
   "id": "6d02373c",
   "metadata": {},
   "outputs": [
    {
     "name": "stdout",
     "output_type": "stream",
     "text": [
      "dict_items([('name', '홍길동'), ('age', 30), ('city', '서울')])\n",
      "[('name', '홍길동'), ('age', 30), ('city', '서울')]\n",
      "[('name', '홍길동'), ('age', 30), ('city', '서울')]\n",
      "name: 홍길동\n",
      "age: 30\n",
      "city: 서울\n"
     ]
    }
   ],
   "source": [
    "# items() 키-값 쌍 목록 반환\n",
    "person={'name':'홍길동','age':30,'city':'서울'}\n",
    "items=person.items()\n",
    "print(items)  # dict_items([('name', '홍길동'), ('age', 30), ('city', '서울')])\n",
    "\n",
    "# 리스트로 변환\n",
    "items_list=list(items)\n",
    "print(items_list)  # [('name', '홍길동'), ('age', 30), ('city', '서울')]\n",
    "\n",
    "# items()-> list() 일괄처리\n",
    "items_list2=list(person.items())\n",
    "print(items_list2)  # [('name', '홍길동'), ('age', 30), ('city', '서울')]\n",
    "\n",
    "# for문으로 키-값 쌍 순회\n",
    "for key, value in person.items():\n",
    "    print(\"%s: %s\" % (key, value))"
   ]
  },
  {
   "cell_type": "code",
   "execution_count": 25,
   "id": "049663bb",
   "metadata": {},
   "outputs": [
    {
     "name": "stdout",
     "output_type": "stream",
     "text": [
      "original: {'a': 10, 'b': 2, 'c': 3}\n",
      "shallow_copy: {'a': 10, 'b': 2, 'c': 3}\n",
      "original2: {'a': 1, 'b': 2, 'c': 3}\n",
      "deep_copy: {'a': 10, 'b': 2, 'c': 3}\n"
     ]
    }
   ],
   "source": [
    "# copy() 딕셔너리 복사\n",
    "# 딕셔너리끼리의 대입도 가능하지만, 이 경우 얕은 복사가 이루어진다.\n",
    "# 깊은 복사를 위해서는 copy() 메서드를 사용한다.\n",
    "\n",
    "original={'a':1,'b':2,'c':3}\n",
    "shallow_copy=original  # 얕은 복사 , shallow_copy변경시 original도 변경됨\n",
    "shallow_copy['a']=10\n",
    "print(\"original:\", original)      # original: {'a': 10, 'b': 2, 'c': 3}\n",
    "print(\"shallow_copy:\", shallow_copy)  # shallow_copy: {'a': 10, 'b': 2, 'c': 3}\n",
    "\n",
    "original2={'a':1,'b':2,'c':3}\n",
    "deep_copy=original2.copy()  # 깊은 복사 , deep_copy변경시 original2는 변경안됨\n",
    "deep_copy['a']=10\n",
    "print(\"original2:\", original2)      # original2: {'a': 1, 'b': 2, 'c': 3}\n",
    "print(\"deep_copy:\", deep_copy)  # deep_copy: {'a': 10, 'b': 2, 'c': 3}\n",
    "\n"
   ]
  },
  {
   "cell_type": "code",
   "execution_count": null,
   "id": "2a285522",
   "metadata": {},
   "outputs": [
    {
     "name": "stdout",
     "output_type": "stream",
     "text": [
      "True\n",
      "False\n"
     ]
    }
   ],
   "source": [
    "# 키 존재 확인 key in 변수이름\n",
    "mydic={'name':'홍길동', 'age':30, 'city':'서울'}\n",
    "print('name' in mydic)  # True\n",
    "print('job' in mydic)   # False\n",
    "\n",
    "\n",
    "# key not in 변수이름\n",
    "print('name' not in mydic)  # False\n",
    "print('job' not in mydic)   # True"
   ]
  },
  {
   "cell_type": "markdown",
   "id": "d30a92c6",
   "metadata": {},
   "source": [
    "## 예외처리"
   ]
  },
  {
   "cell_type": "code",
   "execution_count": null,
   "id": "99e70746",
   "metadata": {},
   "outputs": [
    {
     "ename": "ZeroDivisionError",
     "evalue": "division by zero",
     "output_type": "error",
     "traceback": [
      "\u001b[31m---------------------------------------------------------------------------\u001b[39m",
      "\u001b[31mZeroDivisionError\u001b[39m                         Traceback (most recent call last)",
      "\u001b[36mCell\u001b[39m\u001b[36m \u001b[39m\u001b[32mIn[29]\u001b[39m\u001b[32m, line 2\u001b[39m\n\u001b[32m      1\u001b[39m \u001b[38;5;66;03m# 잘못된 연산에러 예외클래스 #ZeroDivisionError\u001b[39;00m\n\u001b[32m----> \u001b[39m\u001b[32m2\u001b[39m x=\u001b[32;43m19\u001b[39;49m\u001b[43m/\u001b[49m\u001b[32;43m0\u001b[39;49m\n\u001b[32m      3\u001b[39m \u001b[38;5;28mprint\u001b[39m(x)\n",
      "\u001b[31mZeroDivisionError\u001b[39m: division by zero"
     ]
    }
   ],
   "source": [
    "# 잘못된 연산에러 예외클래스 #ZeroDivisionError\n",
    "x=19/0\n",
    "print(x) # ZeroDivisionError: division by zero"
   ]
  },
  {
   "cell_type": "code",
   "execution_count": 30,
   "id": "e912c9c5",
   "metadata": {},
   "outputs": [
    {
     "ename": "IndexError",
     "evalue": "list index out of range",
     "output_type": "error",
     "traceback": [
      "\u001b[31m---------------------------------------------------------------------------\u001b[39m",
      "\u001b[31mIndexError\u001b[39m                                Traceback (most recent call last)",
      "\u001b[36mCell\u001b[39m\u001b[36m \u001b[39m\u001b[32mIn[30]\u001b[39m\u001b[32m, line 3\u001b[39m\n\u001b[32m      1\u001b[39m \u001b[38;5;66;03m#리스트의 인덱스 접근 에러 예외클래스  #IndexError\u001b[39;00m\n\u001b[32m      2\u001b[39m mylist=[\u001b[32m10\u001b[39m,\u001b[32m20\u001b[39m,\u001b[32m30\u001b[39m]\n\u001b[32m----> \u001b[39m\u001b[32m3\u001b[39m \u001b[38;5;28mprint\u001b[39m(\u001b[43mmylist\u001b[49m\u001b[43m[\u001b[49m\u001b[32;43m3\u001b[39;49m\u001b[43m]\u001b[49m)  \u001b[38;5;66;03m# IndexError: list index out of range\u001b[39;00m\n",
      "\u001b[31mIndexError\u001b[39m: list index out of range"
     ]
    }
   ],
   "source": [
    "#리스트의 인덱스 접근 에러 예외클래스  #IndexError\n",
    "mylist=[10,20,30]\n",
    "print(mylist[3])  # IndexError: list index out of range"
   ]
  },
  {
   "cell_type": "code",
   "execution_count": null,
   "id": "4956a785",
   "metadata": {},
   "outputs": [
    {
     "name": "stdout",
     "output_type": "stream",
     "text": [
      "결과는 1 입니다.\n",
      "리스트의 합은 60 입니다.\n"
     ]
    }
   ],
   "source": [
    "# 예외처리1 if문 사용\n",
    "x=10\n",
    "if x==0: \n",
    "    print(\"0으로 나눌 수 없습니다.\")\n",
    "else:\n",
    "    y=19/x\n",
    "    print(\"결과는 %d 입니다.\" % y) # 결과는 1 입니다.\n",
    "\n",
    "# 리스트의 인덱스 접근 에러 예외처리1 if문 사용\n",
    "mylist=[10,20,30]\n",
    "x=3\n",
    "mysum=0\n",
    "if len(mylist)<x:\n",
    "    print(\"인덱스range를 벗어났습니다.\") # x가 3 이상일때 출력\n",
    "else:\n",
    "    for i in range(x):\n",
    "        mysum+=mylist[i]\n",
    "    print(\"리스트의 합은 %d 입니다.\" % mysum)  # 리스트의 합은 60 입니다.\n",
    "\n"
   ]
  },
  {
   "cell_type": "code",
   "execution_count": 43,
   "id": "ec391415",
   "metadata": {},
   "outputs": [
    {
     "name": "stdout",
     "output_type": "stream",
     "text": [
      "에러발생!!@@\n",
      "0으로 나눌 수 없습니다.\n",
      "0으로 나눌 수 없습니다.: division by zero\n"
     ]
    }
   ],
   "source": [
    "#try ~ except 예외처리2\n",
    "# ZeroDivisionError 예외처리\n",
    "try:\n",
    "    x=int(input(\"나눌 값을 입력하세요: \"))  # 0 입력시 예외발생\n",
    "    y=19/x\n",
    "    print(\"결과는 %d 입니다.\" % y)\n",
    "except:\n",
    "    print(\"에러발생!!@@\")\n",
    "\n",
    "# ZeroDivisionError 예외처리 더 구체화\n",
    "try:\n",
    "    x=int(input(\"나눌 값을 입력하세요: \"))  # 0 입력시 예외발생\n",
    "    y=19/x\n",
    "    print(\"결과는 %d 입니다.\" % y)\n",
    "except ZeroDivisionError:\n",
    "    print(\"0으로 나눌 수 없습니다.\")\n",
    "except ValueError:\n",
    "    print(\"정수를 입력해야 합니다.\")\n",
    "except Exception as e:\n",
    "    print(\"알 수 없는 에러가 발생했습니다.:\", e)\n",
    "\n",
    "#에러메시지를 변수에 저장\n",
    "try:\n",
    "    x=int(input(\"나눌 값을 입력하세요: \"))  # 0 입력시 예외발생\n",
    "    y=19/x\n",
    "    print(\"결과는 %d 입니다.\" % y)\n",
    "except ZeroDivisionError as zerr:\n",
    "    print(\"0으로 나눌 수 없습니다.:\", zerr)\n",
    "except ValueError as verr:\n",
    "    print(\"정수를 입력해야 합니다.:\", verr)\n",
    "except Exception as e:\n",
    "    print(\"에러가 발생했습니다.:\", e)"
   ]
  },
  {
   "cell_type": "code",
   "execution_count": 44,
   "id": "43dc8356",
   "metadata": {},
   "outputs": [
    {
     "name": "stdout",
     "output_type": "stream",
     "text": [
      "0으로 나눌 수 없습니다.: division by zero\n",
      "프로그램을 종료합니다.\n"
     ]
    }
   ],
   "source": [
    "# finally 절 : 예외 발생 여부와 상관없이 항상 실행되는 블록\n",
    "try:\n",
    "    x=int(input(\"나눌 값을 입력하세요: \"))  # 0 입력시 예외발생\n",
    "    y=19/x\n",
    "    print(\"결과는 %d 입니다.\" % y)\n",
    "except ZeroDivisionError as zerr:\n",
    "    print(\"0으로 나눌 수 없습니다.:\", zerr)\n",
    "except ValueError as verr:\n",
    "    print(\"정수를 입력해야 합니다.:\", verr)\n",
    "except Exception as e:\n",
    "    print(\"에러가 발생했습니다.:\", e)\n",
    "finally:\n",
    "    print(\"프로그램을 종료합니다.\")"
   ]
  },
  {
   "cell_type": "code",
   "execution_count": null,
   "id": "b6e17d0f",
   "metadata": {},
   "outputs": [
    {
     "name": "stdout",
     "output_type": "stream",
     "text": [
      "에러가 발생했습니다.: division by zero\n",
      "프로그램을 종료합니다.\n"
     ]
    }
   ],
   "source": [
    "#가장 간편한 실행형태 -> Exception 하나만 사용 try ~ except ~ finally\n",
    "try:\n",
    "    x=int(input(\"나눌 값을 입력하세요: \"))  # 0 입력시 예외발생\n",
    "    y=19/x\n",
    "    print(\"결과는 %d 입니다.\" % y)\n",
    "except Exception as e:\n",
    "    print(\"에러가 발생했습니다.:\", e)\n",
    "finally:\n",
    "    print(\"프로그램을 종료합니다.\")\n"
   ]
  },
  {
   "cell_type": "code",
   "execution_count": 47,
   "id": "cd4a7ca5",
   "metadata": {},
   "outputs": [
    {
     "name": "stdout",
     "output_type": "stream",
     "text": [
      "에러가 발생했습니다.: list index out of range\n",
      "프로그램을 종료합니다.\n"
     ]
    }
   ],
   "source": [
    "#리스트 탐색에 대한 예외처리\n",
    "mylist=[10,20,30]\n",
    "mysum=0\n",
    "try:\n",
    "    x=int(input(\"인원수를 입력하세요 \"))\n",
    "    for i in range(x):\n",
    "        mysum+=mylist[i]\n",
    "    print(\"리스트의 합은 %d 입니다.\" % mysum)\n",
    "except Exception as e:\n",
    "    print(\"에러가 발생했습니다.:\", e)\n",
    "finally:\n",
    "    print(\"프로그램을 종료합니다.\")"
   ]
  }
 ],
 "metadata": {
  "kernelspec": {
   "display_name": "Python 3",
   "language": "python",
   "name": "python3"
  },
  "language_info": {
   "codemirror_mode": {
    "name": "ipython",
    "version": 3
   },
   "file_extension": ".py",
   "mimetype": "text/x-python",
   "name": "python",
   "nbconvert_exporter": "python",
   "pygments_lexer": "ipython3",
   "version": "3.13.6"
  }
 },
 "nbformat": 4,
 "nbformat_minor": 5
}
